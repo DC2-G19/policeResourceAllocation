{
 "cells": [
  {
   "cell_type": "code",
   "execution_count": 40,
   "metadata": {},
   "outputs": [],
   "source": [
    "import sqlite3\n",
    "import pandas as pd\n",
    "import numpy as np\n",
    "import xgboost as xgb\n",
    "from xgboost import XGBRegressor"
   ]
  },
  {
   "cell_type": "code",
   "execution_count": 41,
   "metadata": {},
   "outputs": [],
   "source": [
    "conn = sqlite3.connect('Shared DC2 Group 19\\\\database_final.db')\n",
    "\n",
    "query_burg = \"\"\"SELECT * FROM table_name\n",
    "WHERE \"Crime Type\" = \"Burglary\"\n",
    "\"\"\"\n",
    "query_sun = \"\"\"SELECT * FROM sunlight\"\"\"\n",
    "query_house = \"\"\"SELECT * FROM housing_by_lsoa\"\"\"\n",
    "query_unep = \"\"\"SELECT * FROM montly_unemployement_claimant_count_by_lsoa_barnet\"\"\"\n",
    "\n",
    "df_burglary_all = pd.read_sql(query_burg, conn)\n",
    "df_sunlight = pd.read_sql(query_sun, conn)\n",
    "df_housing = pd.read_sql(query_house, conn)\n",
    "df_unemployment_all = pd.read_sql(query_unep, conn)\n",
    "#getting data from dataabse and storing in DF\n",
    "conn.close()"
   ]
  },
  {
   "cell_type": "code",
   "execution_count": 42,
   "metadata": {},
   "outputs": [],
   "source": [
    "df_unemployment = df_unemployment_all.rename(columns={'geogcode': 'LSOA code'}) \n",
    "df_unemployment['Month'] =  pd.to_datetime(df_unemployment['date'])\n",
    "df_unemployment_5yr = df_unemployment[(df_unemployment['Month'].dt.year >= 2013) & (df_unemployment['Month'].dt.year <= 2019)]\n",
    "df_unemployment_5yr = df_unemployment_5yr[df_unemployment_5yr['LSOA code'] != 'Column Total']\n",
    "df_unemployment_5yr[\"Unemployment\"] = df_unemployment_5yr[\"value\"]\n",
    "df_unemployment_5yr = df_unemployment_5yr.drop(columns=[\"date\", \"index\", \"value\"], axis=1)\n",
    "#filterig unemployment to 5 year time spand of 2014 to 2019 and renaming columns for compatibility \n",
    "#2013 included for time lag"
   ]
  },
  {
   "cell_type": "code",
   "execution_count": 43,
   "metadata": {},
   "outputs": [
    {
     "name": "stderr",
     "output_type": "stream",
     "text": [
      "C:\\Users\\shash\\AppData\\Local\\Temp\\ipykernel_29436\\3804163310.py:3: SettingWithCopyWarning: \n",
      "A value is trying to be set on a copy of a slice from a DataFrame.\n",
      "Try using .loc[row_indexer,col_indexer] = value instead\n",
      "\n",
      "See the caveats in the documentation: https://pandas.pydata.org/pandas-docs/stable/user_guide/indexing.html#returning-a-view-versus-a-copy\n",
      "  df_bar['Month'] = pd.to_datetime(df_bar['Month'])\n",
      "C:\\Users\\shash\\AppData\\Local\\Temp\\ipykernel_29436\\3804163310.py:4: SettingWithCopyWarning: \n",
      "A value is trying to be set on a copy of a slice from a DataFrame.\n",
      "Try using .loc[row_indexer,col_indexer] = value instead\n",
      "\n",
      "See the caveats in the documentation: https://pandas.pydata.org/pandas-docs/stable/user_guide/indexing.html#returning-a-view-versus-a-copy\n",
      "  df_bar['Year']= df_bar['Month'].dt.year\n"
     ]
    }
   ],
   "source": [
    "df_burglary = df_burglary_all.drop(columns=['Reported by', 'Falls within']).dropna()\n",
    "df_bar=df_burglary[df_burglary['LSOA name'].str.contains('Barnet')]\n",
    "df_bar['Month'] = pd.to_datetime(df_bar['Month'])\n",
    "df_bar['Year']= df_bar['Month'].dt.year\n",
    "df_bar_5yr = df_bar[(df_bar['Month'].dt.year >= 2013) & (df_bar['Month'].dt.year <= 2019)]\n",
    "#Filtering for Barnet data, 2013 included for time lag"
   ]
  },
  {
   "cell_type": "code",
   "execution_count": 44,
   "metadata": {},
   "outputs": [],
   "source": [
    "df_sunlight['Month'] = pd.to_datetime(df_sunlight['Year-Month'])\n",
    "df_sunlight=df_sunlight.drop(columns=[\"Year-Month\", \"index\"], axis=1)\n",
    "#Sunlight DF, ensuring compatibility by creating Datime Col"
   ]
  },
  {
   "cell_type": "code",
   "execution_count": 45,
   "metadata": {},
   "outputs": [],
   "source": [
    "df_housing = df_housing.drop(columns=[\"index\"], axis=1)\n",
    "#Housing dataframe"
   ]
  },
  {
   "cell_type": "code",
   "execution_count": 46,
   "metadata": {},
   "outputs": [],
   "source": [
    "burglaries_per_lsoa_month = df_bar_5yr[df_bar_5yr['Crime type'] == 'Burglary'].groupby(['LSOA code', 'Month']).size()\n",
    "burglaries_per_lsoa_month = burglaries_per_lsoa_month.reset_index(name='Total Burglaries')\n",
    "#Getting total burglaries per LSOA on a Monthly basis"
   ]
  },
  {
   "cell_type": "code",
   "execution_count": 47,
   "metadata": {},
   "outputs": [],
   "source": [
    "temp_merged = burglaries_per_lsoa_month.merge(df_housing, how='left', on=['LSOA code']).dropna() #Merging Berg and Housing\n",
    "df_merged = temp_merged.merge(df_sunlight, how='left', on=['Month']) #Merging sunlight and (Housing+Burg)\n",
    "df_merged_2 =  df_merged.merge(df_unemployment_5yr, how='left', on=['Month', 'LSOA code']) #Mergving pervious with unemployment\n",
    "temp_merged_clean = df_merged_2.drop(columns=['Missing', 'LSOA name']) #Drop unnecessary Cols"
   ]
  },
  {
   "cell_type": "code",
   "execution_count": 48,
   "metadata": {},
   "outputs": [],
   "source": [
    "lags = [1, 3, 6, 12]  # Giving Lag value in months\n",
    "df = temp_merged_clean\n",
    "\n",
    "for lag in lags:\n",
    "    column_name_unep = f\"Unemployment_PctChange_{lag}m\"  # New column name for unemployment\n",
    "    df[column_name_unep] = df.groupby('LSOA code')['Unemployment'].pct_change(periods=lag) * 100\n",
    "    df[column_name_unep].replace([np.inf, -np.inf], np.nan, inplace=True)  # Replace inf values with NaN\n",
    "\n",
    "    column_name_burg = f\"Total_Burglaries_PctChange_{lag}m\"  # New column name for burglaries\n",
    "    df[column_name_burg] = df.groupby('LSOA code')['Total Burglaries'].pct_change(periods=lag) * 100\n",
    "    df[column_name_burg].replace([np.inf, -np.inf], np.nan, inplace=True)  # Replace inf values with NaN\n",
    "\n",
    "df.fillna(0, inplace=True)  # Replace remaining NaN values with zeros\n"
   ]
  },
  {
   "cell_type": "code",
   "execution_count": 49,
   "metadata": {},
   "outputs": [
    {
     "data": {
      "text/html": [
       "<div>\n",
       "<style scoped>\n",
       "    .dataframe tbody tr th:only-of-type {\n",
       "        vertical-align: middle;\n",
       "    }\n",
       "\n",
       "    .dataframe tbody tr th {\n",
       "        vertical-align: top;\n",
       "    }\n",
       "\n",
       "    .dataframe thead th {\n",
       "        text-align: right;\n",
       "    }\n",
       "</style>\n",
       "<table border=\"1\" class=\"dataframe\">\n",
       "  <thead>\n",
       "    <tr style=\"text-align: right;\">\n",
       "      <th></th>\n",
       "      <th>LSOA code</th>\n",
       "      <th>Month</th>\n",
       "      <th>Total Burglaries</th>\n",
       "      <th>Owned or shared ownership</th>\n",
       "      <th>Private Rented or lives rent free</th>\n",
       "      <th>Social Rented</th>\n",
       "      <th>Proportion social</th>\n",
       "      <th>Proportion rented</th>\n",
       "      <th>Detached whole house or bungalow</th>\n",
       "      <th>Semi-detached whole house or bungalow</th>\n",
       "      <th>...</th>\n",
       "      <th>LSOA_E01000316</th>\n",
       "      <th>LSOA_E01000317</th>\n",
       "      <th>LSOA_E01000318</th>\n",
       "      <th>LSOA_E01000319</th>\n",
       "      <th>LSOA_E01000320</th>\n",
       "      <th>LSOA_E01000321</th>\n",
       "      <th>LSOA_E01000322</th>\n",
       "      <th>LSOA_E01000323</th>\n",
       "      <th>LSOA_E01000324</th>\n",
       "      <th>Month_Int</th>\n",
       "    </tr>\n",
       "  </thead>\n",
       "  <tbody>\n",
       "    <tr>\n",
       "      <th>0</th>\n",
       "      <td>E01000115</td>\n",
       "      <td>2013-04-01</td>\n",
       "      <td>2</td>\n",
       "      <td>435.0</td>\n",
       "      <td>45.0</td>\n",
       "      <td>0.0</td>\n",
       "      <td>0.0</td>\n",
       "      <td>0.09375</td>\n",
       "      <td>135.0</td>\n",
       "      <td>335.0</td>\n",
       "      <td>...</td>\n",
       "      <td>0</td>\n",
       "      <td>0</td>\n",
       "      <td>0</td>\n",
       "      <td>0</td>\n",
       "      <td>0</td>\n",
       "      <td>0</td>\n",
       "      <td>0</td>\n",
       "      <td>0</td>\n",
       "      <td>0</td>\n",
       "      <td>4</td>\n",
       "    </tr>\n",
       "    <tr>\n",
       "      <th>1</th>\n",
       "      <td>E01000115</td>\n",
       "      <td>2013-05-01</td>\n",
       "      <td>1</td>\n",
       "      <td>435.0</td>\n",
       "      <td>45.0</td>\n",
       "      <td>0.0</td>\n",
       "      <td>0.0</td>\n",
       "      <td>0.09375</td>\n",
       "      <td>135.0</td>\n",
       "      <td>335.0</td>\n",
       "      <td>...</td>\n",
       "      <td>0</td>\n",
       "      <td>0</td>\n",
       "      <td>0</td>\n",
       "      <td>0</td>\n",
       "      <td>0</td>\n",
       "      <td>0</td>\n",
       "      <td>0</td>\n",
       "      <td>0</td>\n",
       "      <td>0</td>\n",
       "      <td>5</td>\n",
       "    </tr>\n",
       "    <tr>\n",
       "      <th>2</th>\n",
       "      <td>E01000115</td>\n",
       "      <td>2013-07-01</td>\n",
       "      <td>1</td>\n",
       "      <td>435.0</td>\n",
       "      <td>45.0</td>\n",
       "      <td>0.0</td>\n",
       "      <td>0.0</td>\n",
       "      <td>0.09375</td>\n",
       "      <td>135.0</td>\n",
       "      <td>335.0</td>\n",
       "      <td>...</td>\n",
       "      <td>0</td>\n",
       "      <td>0</td>\n",
       "      <td>0</td>\n",
       "      <td>0</td>\n",
       "      <td>0</td>\n",
       "      <td>0</td>\n",
       "      <td>0</td>\n",
       "      <td>0</td>\n",
       "      <td>0</td>\n",
       "      <td>7</td>\n",
       "    </tr>\n",
       "    <tr>\n",
       "      <th>3</th>\n",
       "      <td>E01000115</td>\n",
       "      <td>2013-08-01</td>\n",
       "      <td>1</td>\n",
       "      <td>435.0</td>\n",
       "      <td>45.0</td>\n",
       "      <td>0.0</td>\n",
       "      <td>0.0</td>\n",
       "      <td>0.09375</td>\n",
       "      <td>135.0</td>\n",
       "      <td>335.0</td>\n",
       "      <td>...</td>\n",
       "      <td>0</td>\n",
       "      <td>0</td>\n",
       "      <td>0</td>\n",
       "      <td>0</td>\n",
       "      <td>0</td>\n",
       "      <td>0</td>\n",
       "      <td>0</td>\n",
       "      <td>0</td>\n",
       "      <td>0</td>\n",
       "      <td>8</td>\n",
       "    </tr>\n",
       "    <tr>\n",
       "      <th>4</th>\n",
       "      <td>E01000115</td>\n",
       "      <td>2013-11-01</td>\n",
       "      <td>2</td>\n",
       "      <td>435.0</td>\n",
       "      <td>45.0</td>\n",
       "      <td>0.0</td>\n",
       "      <td>0.0</td>\n",
       "      <td>0.09375</td>\n",
       "      <td>135.0</td>\n",
       "      <td>335.0</td>\n",
       "      <td>...</td>\n",
       "      <td>0</td>\n",
       "      <td>0</td>\n",
       "      <td>0</td>\n",
       "      <td>0</td>\n",
       "      <td>0</td>\n",
       "      <td>0</td>\n",
       "      <td>0</td>\n",
       "      <td>0</td>\n",
       "      <td>0</td>\n",
       "      <td>11</td>\n",
       "    </tr>\n",
       "  </tbody>\n",
       "</table>\n",
       "<p>5 rows × 235 columns</p>\n",
       "</div>"
      ],
      "text/plain": [
       "   LSOA code      Month  Total Burglaries  Owned or shared ownership  \\\n",
       "0  E01000115 2013-04-01                 2                      435.0   \n",
       "1  E01000115 2013-05-01                 1                      435.0   \n",
       "2  E01000115 2013-07-01                 1                      435.0   \n",
       "3  E01000115 2013-08-01                 1                      435.0   \n",
       "4  E01000115 2013-11-01                 2                      435.0   \n",
       "\n",
       "   Private Rented or lives rent free  Social Rented  Proportion social  \\\n",
       "0                               45.0            0.0                0.0   \n",
       "1                               45.0            0.0                0.0   \n",
       "2                               45.0            0.0                0.0   \n",
       "3                               45.0            0.0                0.0   \n",
       "4                               45.0            0.0                0.0   \n",
       "\n",
       "   Proportion rented  Detached whole house or bungalow  \\\n",
       "0            0.09375                             135.0   \n",
       "1            0.09375                             135.0   \n",
       "2            0.09375                             135.0   \n",
       "3            0.09375                             135.0   \n",
       "4            0.09375                             135.0   \n",
       "\n",
       "   Semi-detached whole house or bungalow  ...  LSOA_E01000316  LSOA_E01000317  \\\n",
       "0                                  335.0  ...               0               0   \n",
       "1                                  335.0  ...               0               0   \n",
       "2                                  335.0  ...               0               0   \n",
       "3                                  335.0  ...               0               0   \n",
       "4                                  335.0  ...               0               0   \n",
       "\n",
       "   LSOA_E01000318  LSOA_E01000319  LSOA_E01000320  LSOA_E01000321  \\\n",
       "0               0               0               0               0   \n",
       "1               0               0               0               0   \n",
       "2               0               0               0               0   \n",
       "3               0               0               0               0   \n",
       "4               0               0               0               0   \n",
       "\n",
       "   LSOA_E01000322  LSOA_E01000323  LSOA_E01000324  Month_Int  \n",
       "0               0               0               0          4  \n",
       "1               0               0               0          5  \n",
       "2               0               0               0          7  \n",
       "3               0               0               0          8  \n",
       "4               0               0               0         11  \n",
       "\n",
       "[5 rows x 235 columns]"
      ]
     },
     "execution_count": 49,
     "metadata": {},
     "output_type": "execute_result"
    }
   ],
   "source": [
    "# Create dummy variables for the 'LSOA code' column\n",
    "dummy_df = pd.get_dummies(temp_merged_clean['LSOA code'], prefix='LSOA')\n",
    "\n",
    "# Concatenate the dummy variables with the original DF\n",
    "df_temp_merged_clean_dummies = pd.concat([temp_merged_clean, dummy_df], axis=1)\n",
    "df_temp_merged_clean_dummies['Month_Int'] = df_temp_merged_clean_dummies['Month'].dt.month #Creating month int col\n",
    "df_temp_merged_clean_dummies.head()"
   ]
  },
  {
   "cell_type": "code",
   "execution_count": 50,
   "metadata": {},
   "outputs": [],
   "source": [
    "df_temp_merged_clean_train = df_temp_merged_clean_dummies[(df_temp_merged_clean_dummies['Month'].dt.year >= 2014) & (df_temp_merged_clean_dummies['Month'].dt.year <= 2018)]\n",
    "df_temp_merged_clean_test = df_temp_merged_clean_dummies[(df_temp_merged_clean_dummies['Month'].dt.year == 2019)] \n",
    "#Filtering test and train based on time span of 2014 to 2018 for Train and 2019 for Test"
   ]
  },
  {
   "cell_type": "code",
   "execution_count": 51,
   "metadata": {},
   "outputs": [],
   "source": [
    "#X_train = df_temp_merged_clean_train.drop(columns=[\"Total Burglaries\", \"Month\", \"LSOA code\"], axis = 1)\n",
    "X_train = df_temp_merged_clean_train[[\"Proportion rented\", \"Month_Int\", \"Sunlight\", \"Unemployment\", \"Unemployment_PctChange_6m\", \"Unemployment_PctChange_3m\", \"Unemployment_PctChange_12m\", \"Total_Burglaries_PctChange_12m\", \"Total_Burglaries_PctChange_6m\", \"Total_Burglaries_PctChange_3m\"]] #What you give to the model\n",
    "y_train = df_temp_merged_clean_train[\"Total Burglaries\"] #What needs to be predicted\n",
    "#X_test = df_temp_merged_clean_test.drop(columns=[\"Total Burglaries\", \"Month\", \"LSOA code\"], axis = 1)\n",
    "X_test = df_temp_merged_clean_test[[ \"Proportion rented\", \"Month_Int\", \"Sunlight\", \"Unemployment\", \"Unemployment_PctChange_6m\", \"Unemployment_PctChange_3m\", \"Unemployment_PctChange_12m\", \"Total_Burglaries_PctChange_12m\", \"Total_Burglaries_PctChange_6m\", \"Total_Burglaries_PctChange_3m\"]] #What you give to the model\n",
    "y_test = df_temp_merged_clean_test[\"Total Burglaries\"] #Waht needs to be predicted"
   ]
  },
  {
   "cell_type": "code",
   "execution_count": 52,
   "metadata": {},
   "outputs": [
    {
     "data": {
      "text/html": [
       "<style>#sk-container-id-2 {color: black;background-color: white;}#sk-container-id-2 pre{padding: 0;}#sk-container-id-2 div.sk-toggleable {background-color: white;}#sk-container-id-2 label.sk-toggleable__label {cursor: pointer;display: block;width: 100%;margin-bottom: 0;padding: 0.3em;box-sizing: border-box;text-align: center;}#sk-container-id-2 label.sk-toggleable__label-arrow:before {content: \"▸\";float: left;margin-right: 0.25em;color: #696969;}#sk-container-id-2 label.sk-toggleable__label-arrow:hover:before {color: black;}#sk-container-id-2 div.sk-estimator:hover label.sk-toggleable__label-arrow:before {color: black;}#sk-container-id-2 div.sk-toggleable__content {max-height: 0;max-width: 0;overflow: hidden;text-align: left;background-color: #f0f8ff;}#sk-container-id-2 div.sk-toggleable__content pre {margin: 0.2em;color: black;border-radius: 0.25em;background-color: #f0f8ff;}#sk-container-id-2 input.sk-toggleable__control:checked~div.sk-toggleable__content {max-height: 200px;max-width: 100%;overflow: auto;}#sk-container-id-2 input.sk-toggleable__control:checked~label.sk-toggleable__label-arrow:before {content: \"▾\";}#sk-container-id-2 div.sk-estimator input.sk-toggleable__control:checked~label.sk-toggleable__label {background-color: #d4ebff;}#sk-container-id-2 div.sk-label input.sk-toggleable__control:checked~label.sk-toggleable__label {background-color: #d4ebff;}#sk-container-id-2 input.sk-hidden--visually {border: 0;clip: rect(1px 1px 1px 1px);clip: rect(1px, 1px, 1px, 1px);height: 1px;margin: -1px;overflow: hidden;padding: 0;position: absolute;width: 1px;}#sk-container-id-2 div.sk-estimator {font-family: monospace;background-color: #f0f8ff;border: 1px dotted black;border-radius: 0.25em;box-sizing: border-box;margin-bottom: 0.5em;}#sk-container-id-2 div.sk-estimator:hover {background-color: #d4ebff;}#sk-container-id-2 div.sk-parallel-item::after {content: \"\";width: 100%;border-bottom: 1px solid gray;flex-grow: 1;}#sk-container-id-2 div.sk-label:hover label.sk-toggleable__label {background-color: #d4ebff;}#sk-container-id-2 div.sk-serial::before {content: \"\";position: absolute;border-left: 1px solid gray;box-sizing: border-box;top: 0;bottom: 0;left: 50%;z-index: 0;}#sk-container-id-2 div.sk-serial {display: flex;flex-direction: column;align-items: center;background-color: white;padding-right: 0.2em;padding-left: 0.2em;position: relative;}#sk-container-id-2 div.sk-item {position: relative;z-index: 1;}#sk-container-id-2 div.sk-parallel {display: flex;align-items: stretch;justify-content: center;background-color: white;position: relative;}#sk-container-id-2 div.sk-item::before, #sk-container-id-2 div.sk-parallel-item::before {content: \"\";position: absolute;border-left: 1px solid gray;box-sizing: border-box;top: 0;bottom: 0;left: 50%;z-index: -1;}#sk-container-id-2 div.sk-parallel-item {display: flex;flex-direction: column;z-index: 1;position: relative;background-color: white;}#sk-container-id-2 div.sk-parallel-item:first-child::after {align-self: flex-end;width: 50%;}#sk-container-id-2 div.sk-parallel-item:last-child::after {align-self: flex-start;width: 50%;}#sk-container-id-2 div.sk-parallel-item:only-child::after {width: 0;}#sk-container-id-2 div.sk-dashed-wrapped {border: 1px dashed gray;margin: 0 0.4em 0.5em 0.4em;box-sizing: border-box;padding-bottom: 0.4em;background-color: white;}#sk-container-id-2 div.sk-label label {font-family: monospace;font-weight: bold;display: inline-block;line-height: 1.2em;}#sk-container-id-2 div.sk-label-container {text-align: center;}#sk-container-id-2 div.sk-container {/* jupyter's `normalize.less` sets `[hidden] { display: none; }` but bootstrap.min.css set `[hidden] { display: none !important; }` so we also need the `!important` here to be able to override the default hidden behavior on the sphinx rendered scikit-learn.org. See: https://github.com/scikit-learn/scikit-learn/issues/21755 */display: inline-block !important;position: relative;}#sk-container-id-2 div.sk-text-repr-fallback {display: none;}</style><div id=\"sk-container-id-2\" class=\"sk-top-container\"><div class=\"sk-text-repr-fallback\"><pre>XGBRegressor(base_score=None, booster=None, callbacks=None,\n",
       "             colsample_bylevel=None, colsample_bynode=None,\n",
       "             colsample_bytree=None, early_stopping_rounds=None,\n",
       "             enable_categorical=False, eval_metric=None, feature_types=None,\n",
       "             gamma=None, gpu_id=None, grow_policy=None, importance_type=None,\n",
       "             interaction_constraints=None, learning_rate=None, max_bin=None,\n",
       "             max_cat_threshold=None, max_cat_to_onehot=None,\n",
       "             max_delta_step=None, max_depth=None, max_leaves=None,\n",
       "             min_child_weight=None, missing=nan, monotone_constraints=None,\n",
       "             n_estimators=100, n_jobs=None, num_parallel_tree=None,\n",
       "             predictor=None, random_state=None, ...)</pre><b>In a Jupyter environment, please rerun this cell to show the HTML representation or trust the notebook. <br />On GitHub, the HTML representation is unable to render, please try loading this page with nbviewer.org.</b></div><div class=\"sk-container\" hidden><div class=\"sk-item\"><div class=\"sk-estimator sk-toggleable\"><input class=\"sk-toggleable__control sk-hidden--visually\" id=\"sk-estimator-id-2\" type=\"checkbox\" checked><label for=\"sk-estimator-id-2\" class=\"sk-toggleable__label sk-toggleable__label-arrow\">XGBRegressor</label><div class=\"sk-toggleable__content\"><pre>XGBRegressor(base_score=None, booster=None, callbacks=None,\n",
       "             colsample_bylevel=None, colsample_bynode=None,\n",
       "             colsample_bytree=None, early_stopping_rounds=None,\n",
       "             enable_categorical=False, eval_metric=None, feature_types=None,\n",
       "             gamma=None, gpu_id=None, grow_policy=None, importance_type=None,\n",
       "             interaction_constraints=None, learning_rate=None, max_bin=None,\n",
       "             max_cat_threshold=None, max_cat_to_onehot=None,\n",
       "             max_delta_step=None, max_depth=None, max_leaves=None,\n",
       "             min_child_weight=None, missing=nan, monotone_constraints=None,\n",
       "             n_estimators=100, n_jobs=None, num_parallel_tree=None,\n",
       "             predictor=None, random_state=None, ...)</pre></div></div></div></div></div>"
      ],
      "text/plain": [
       "XGBRegressor(base_score=None, booster=None, callbacks=None,\n",
       "             colsample_bylevel=None, colsample_bynode=None,\n",
       "             colsample_bytree=None, early_stopping_rounds=None,\n",
       "             enable_categorical=False, eval_metric=None, feature_types=None,\n",
       "             gamma=None, gpu_id=None, grow_policy=None, importance_type=None,\n",
       "             interaction_constraints=None, learning_rate=None, max_bin=None,\n",
       "             max_cat_threshold=None, max_cat_to_onehot=None,\n",
       "             max_delta_step=None, max_depth=None, max_leaves=None,\n",
       "             min_child_weight=None, missing=nan, monotone_constraints=None,\n",
       "             n_estimators=100, n_jobs=None, num_parallel_tree=None,\n",
       "             predictor=None, random_state=None, ...)"
      ]
     },
     "execution_count": 52,
     "metadata": {},
     "output_type": "execute_result"
    }
   ],
   "source": [
    "model = XGBRegressor()\n",
    "model.fit(X_train, y_train)\n",
    "#Fitting data to model"
   ]
  },
  {
   "cell_type": "code",
   "execution_count": 53,
   "metadata": {},
   "outputs": [
    {
     "data": {
      "text/plain": [
       "<AxesSubplot: title={'center': 'Feature importance'}, xlabel='F score', ylabel='Features'>"
      ]
     },
     "execution_count": 53,
     "metadata": {},
     "output_type": "execute_result"
    },
    {
     "data": {
      "image/png": "[encoded data removed]",
      "text/plain": [
       "<Figure size 640x480 with 1 Axes>"
      ]
     },
     "metadata": {},
     "output_type": "display_data"
    }
   ],
   "source": [
    "import matplotlib.pyplot as plt\n",
    "%matplotlib inline\n",
    "xgb.plot_importance(model, ax=plt.gca(), max_num_features=15)\n",
    "#Plotting the most important featurs"
   ]
  },
  {
   "cell_type": "code",
   "execution_count": 54,
   "metadata": {},
   "outputs": [],
   "source": [
    "pred_train = model.predict(X_train)\n",
    "from sklearn.metrics import mean_squared_error, r2_score, mean_absolute_error, median_absolute_error\n",
    "predictions = model.predict(X_test)"
   ]
  },
  {
   "cell_type": "code",
   "execution_count": 63,
   "metadata": {},
   "outputs": [
    {
     "data": {
      "text/html": [
       "<div>\n",
       "<style scoped>\n",
       "    .dataframe tbody tr th:only-of-type {\n",
       "        vertical-align: middle;\n",
       "    }\n",
       "\n",
       "    .dataframe tbody tr th {\n",
       "        vertical-align: top;\n",
       "    }\n",
       "\n",
       "    .dataframe thead th {\n",
       "        text-align: right;\n",
       "    }\n",
       "</style>\n",
       "<table border=\"1\" class=\"dataframe\">\n",
       "  <thead>\n",
       "    <tr style=\"text-align: right;\">\n",
       "      <th></th>\n",
       "      <th>Metric</th>\n",
       "      <th>Train Value</th>\n",
       "      <th>Test Value</th>\n",
       "    </tr>\n",
       "  </thead>\n",
       "  <tbody>\n",
       "    <tr>\n",
       "      <th>0</th>\n",
       "      <td>MSE</td>\n",
       "      <td>0.031622</td>\n",
       "      <td>0.136069</td>\n",
       "    </tr>\n",
       "    <tr>\n",
       "      <th>1</th>\n",
       "      <td>MAE</td>\n",
       "      <td>0.085942</td>\n",
       "      <td>0.164439</td>\n",
       "    </tr>\n",
       "    <tr>\n",
       "      <th>2</th>\n",
       "      <td>R^2</td>\n",
       "      <td>0.982942</td>\n",
       "      <td>0.919869</td>\n",
       "    </tr>\n",
       "    <tr>\n",
       "      <th>3</th>\n",
       "      <td>MedAE</td>\n",
       "      <td>0.044528</td>\n",
       "      <td>0.075148</td>\n",
       "    </tr>\n",
       "  </tbody>\n",
       "</table>\n",
       "</div>"
      ],
      "text/plain": [
       "  Metric  Train Value  Test Value\n",
       "0    MSE     0.031622    0.136069\n",
       "1    MAE     0.085942    0.164439\n",
       "2    R^2     0.982942    0.919869\n",
       "3  MedAE     0.044528    0.075148"
      ]
     },
     "execution_count": 63,
     "metadata": {},
     "output_type": "execute_result"
    }
   ],
   "source": [
    "# Calculate the train performance metrics\n",
    "mse_train = mean_squared_error(y_train, pred_train)\n",
    "mae_train = mean_absolute_error(y_train, pred_train)\n",
    "r2_train = r2_score(y_train, pred_train)\n",
    "medae_train = median_absolute_error(y_train, pred_train)\n",
    "\n",
    "# Calculate the test performance metrics\n",
    "mse_test = mean_squared_error(y_test, predictions)\n",
    "mae_test = mean_absolute_error(y_test, predictions)\n",
    "r2_test = r2_score(y_test, predictions)\n",
    "medae_test = median_absolute_error(y_test, predictions)\n",
    "\n",
    "# Create a dictionary with the train and test metric names and values\n",
    "metrics = {\n",
    "    'Metric': ['MSE', 'MAE', 'R^2', \"MedAE\"],\n",
    "    'Train Value': [mse_train, mae_train, r2_train, medae_train],\n",
    "    'Test Value': [mse_test, mae_test, r2_test, medae_test]\n",
    "}\n",
    "\n",
    "# Create a DataFrame from the dictionary\n",
    "metrics_df = pd.DataFrame(metrics)\n",
    "metrics_df"
   ]
  }
 ],
 "metadata": {
  "kernelspec": {
   "display_name": "Python 3",
   "language": "python",
   "name": "python3"
  },
  "language_info": {
   "codemirror_mode": {
    "name": "ipython",
    "version": 3
   },
   "file_extension": ".py",
   "mimetype": "text/x-python",
   "name": "python",
   "nbconvert_exporter": "python",
   "pygments_lexer": "ipython3",
   "version": "3.10.11"
  },
  "orig_nbformat": 4
 },
 "nbformat": 4,
 "nbformat_minor": 2
}
