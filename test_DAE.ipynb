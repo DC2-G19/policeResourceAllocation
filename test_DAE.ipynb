{
 "cells": [
  {
   "cell_type": "code",
   "execution_count": null,
   "metadata": {},
   "outputs": [],
   "source": [
    "#Imports\n",
    "import os\n",
    "import shutil\n",
    "import pandas as pd\n",
    "import sqlite3\n",
    "import seaborn as sns\n",
    "import matplotlib.pyplot as plt"
   ]
  },
  {
   "cell_type": "code",
   "execution_count": null,
   "metadata": {},
   "outputs": [],
   "source": [
    "#Filters out the required excel files (makes a copy)\n",
    "dataset_dir = \"C:\\\\Users\\\\shash\\OneDrive - TU Eindhoven\\\\Shashank Prabhu University\\\\Year 2\\\\Year 2 Q4\\\\Data Challenge 2\\\\Git DC2\\\\Data\\\\All Data\"  # replace with the path to your dataset folder\n",
    "filtered_dir = \"C:\\\\Users\\\\shash\\\\OneDrive - TU Eindhoven\\\\Shashank Prabhu University\\\\Year 2\\\\Year 2 Q4\\\\Data Challenge 2\\\\Git DC2\"  # replace with the path to the folder where you want to store the filtered data\n",
    "if not os.path.exists(filtered_dir):\n",
    "    os.makedirs(filtered_dir)\n",
    "\n",
    "for month_folder in os.listdir(dataset_dir):\n",
    "    if not month_folder.startswith(\"20\"):  # skip any folders that don't start with a date\n",
    "        continue\n",
    "    for csv_file in os.listdir(os.path.join(dataset_dir, month_folder)):\n",
    "        if not csv_file.endswith(\"-metropolitan-street.csv\"):  # skip any files that don't match the desired format\n",
    "            continue\n",
    "        source_path = os.path.join(dataset_dir, month_folder, csv_file)\n",
    "        destination_path = os.path.join(filtered_dir, csv_file)\n",
    "        shutil.copy(source_path, destination_path)  # copy the matching file to the filtered_data folder\n"
   ]
  },
  {
   "cell_type": "code",
   "execution_count": null,
   "metadata": {},
   "outputs": [],
   "source": [
    "conn = sqlite3.connect('C:\\\\Users\\\\shash\\\\OneDrive - TU Eindhoven\\\\Shashank Prabhu University\\\\Year 2\\\\Year 2 Q4\\\\Data Challenge 2\\\\Git DC2\\\\Shared DC2 Group 19\\\\Cleaned Data\\\\database_conc_na.db')\n",
    "query = \"SELECT * FROM table_name\"\n",
    "df = pd.read_sql(query, conn)\n",
    "\n",
    "conn.close()"
   ]
  },
  {
   "cell_type": "code",
   "execution_count": null,
   "metadata": {},
   "outputs": [],
   "source": [
    "file_path ='C:\\\\Users\\\\shash\\\\OneDrive - TU Eindhoven\\\\Shashank Prabhu University\\\\Year 2\\\\Year 2 Q4\\\\Data Challenge 2\\\\Git DC2\\\\Data\\\\conc_clean.csv'\n",
    "df1 = pd.read_csv(file_path)"
   ]
  },
  {
   "cell_type": "code",
   "execution_count": null,
   "metadata": {},
   "outputs": [],
   "source": [
    "\n",
    "folder_path = \"C:\\\\Users\\\\shash\\\\OneDrive - TU Eindhoven\\\\Shashank Prabhu University\\\\Year 2\\\\Year 2 Q4\\\\Data Challenge 2\\\\Git DC2\\\\Cleaned Data 1\\\\Street\"  # replace with the path to your Excel files folder\n",
    "df_list = []\n",
    "for file in os.listdir(folder_path):\n",
    "    if file.endswith(\".csv\"):  # only read in CSV files\n",
    "        file_path = os.path.join(folder_path, file)\n",
    "        df = pd.read_csv(file_path)\n",
    "        df_list.append(df)\n",
    "combined_df = pd.concat(df_list, ignore_index=True)\n"
   ]
  },
  {
   "cell_type": "code",
   "execution_count": null,
   "metadata": {},
   "outputs": [],
   "source": [
    "combined_df_copy = combined_df"
   ]
  },
  {
   "cell_type": "code",
   "execution_count": null,
   "metadata": {},
   "outputs": [],
   "source": [
    "null_counts = combined_df.isnull().sum()\n",
    "print(null_counts)"
   ]
  },
  {
   "cell_type": "code",
   "execution_count": null,
   "metadata": {},
   "outputs": [],
   "source": [
    "output_path =\"C:\\\\Users\\\\shash\\\\OneDrive - TU Eindhoven\\\\Shashank Prabhu University\\\\Year 2\\\\Year 2 Q4\\\\Data Challenge 2\\\\Git DC2\\\\Cleaned Data\\\\conc.csv\"\n",
    "combined_df.to_csv(output_path, index=False)  # save the combined DataFrame to a new CSV file"
   ]
  },
  {
   "cell_type": "code",
   "execution_count": null,
   "metadata": {},
   "outputs": [],
   "source": [
    "\n",
    "# Load CSV data into a pandas DataFrame\n",
    "df = combined_df\n",
    "\n",
    "# Connect to an SQLite database (creates a new database file if it doesn't exist)\n",
    "conn = sqlite3.connect('C:\\\\Users\\\\shash\\\\OneDrive - TU Eindhoven\\\\Shashank Prabhu University\\\\Year 2\\\\Year 2 Q4\\\\Data Challenge 2\\\\Git DC2\\\\Cleaned Data\\\\database_conc.db')\n",
    "\n",
    "# Write DataFrame to an SQL database table\n",
    "df.to_sql('table_name', conn, if_exists='replace', index=False)\n",
    "\n",
    "# Close the database connection\n",
    "conn.close()"
   ]
  },
  {
   "cell_type": "code",
   "execution_count": null,
   "metadata": {},
   "outputs": [],
   "source": [
    "\n",
    "# Load the cleaned data into a dataframe\n",
    "df = combined_df\n",
    "\n",
    "# Filter the rows to only include burglaries\n",
    "burglaries = df[df['Crime type'] == 'Burglary']\n",
    "\n",
    "# Group the remaining rows by month and calculate the mean longitude and latitude\n",
    "monthly_means = burglaries.groupby('Month')[['Longitude', 'Latitude']].mean()\n",
    "\n",
    "# Reset the index to make the 'Month' column a regular column\n",
    "monthly_means = monthly_means.reset_index()\n",
    "\n",
    "# Plot the monthly means using seaborn's scatterplot function\n",
    "sns.scatterplot(data=monthly_means, x='Longitude', y='Latitude')"
   ]
  },
  {
   "cell_type": "code",
   "execution_count": null,
   "metadata": {},
   "outputs": [],
   "source": [
    "# Load the cleaned data into a dataframe\n",
    "df = combined_df\n",
    "\n",
    "# Convert the 'Month' column to a pandas datetime object\n",
    "df['Month'] = pd.to_datetime(df['Month'])\n",
    "\n",
    "# Filter the dataframe to only include rows with 'Burglary' in the 'Crime type' column\n",
    "burglary_df = df[df['Crime type'] == 'Burglary']\n",
    "\n",
    "# Create a new dataframe with every month of all years\n",
    "all_months = pd.DataFrame(pd.date_range(start='2010-12-01', end='2023-01-01', freq='MS'), columns=['Month'])\n",
    "\n",
    "# Group the 'Burglary' dataframe by month and count the number of rows in each month\n",
    "monthly_counts = burglary_df.groupby(pd.Grouper(key='Month', freq='MS'))['Crime type'].count()\n",
    "\n",
    "# Combine the 'all_months' dataframe and the 'monthly_counts' series\n",
    "combined_df_copy = pd.merge(all_months, pd.DataFrame(monthly_counts), how='left', left_on='Month', right_on='Month')\n",
    "\n",
    "# Fill any missing values with 0\n",
    "combined_df_copy.fillna(0, inplace=True)\n",
    "\n",
    "# Rename the 'Crime type' column to 'Number of Burglaries'\n",
    "combined_df_copy.rename(columns={'Crime type': 'Number of Burglaries'}, inplace=True)\n",
    "\n",
    "# Set the 'Month' column as the index\n",
    "combined_df_copy.set_index('Month', inplace=True)\n",
    "\n",
    "# Preview the resulting dataframe\n",
    "print(combined_df_copy.head())\n"
   ]
  },
  {
   "cell_type": "code",
   "execution_count": null,
   "metadata": {},
   "outputs": [],
   "source": [
    "sns.set_style(\"darkgrid\")\n",
    "plt.figure(figsize=(15, 5))\n",
    "ax = sns.lineplot(data=combined_df_copy, x='Month', y='Number of Burglaries', marker='o', c='r')\n",
    "# Customize the x-axis ticks to show every year\n",
    "#plt.xticks(ticks=combined_df_copy.index, labels=combined_df_copy.index.strftime(\"%Y\"), rotation=45, ha=\"right\")\n",
    "\n",
    "# Add axis labels and a title\n",
    "plt.xlabel('Year')\n",
    "plt.ylabel('Number of Burglaries')\n",
    "plt.title('Monthly Burglary Counts from 2010 to 2023')\n",
    "\n",
    "plt.show()"
   ]
  },
  {
   "cell_type": "code",
   "execution_count": null,
   "metadata": {},
   "outputs": [],
   "source": [
    "\n",
    "# Create a new figure and axis\n",
    "fig, ax = plt.subplots(figsize=(15, 6))\n",
    "\n",
    "# Plot the data\n",
    "sns.lineplot(data=combined_df_copy, x='Month', y='Number of Burglaries', ax=ax, color='r', linewidth = '2', marker='o')\n",
    "\n",
    "# Define the seasons and their corresponding colors\n",
    "seasons = {'Spring': ('03-01', '05-31', 'green'),\n",
    "           'Summer': ('06-01', '08-31', 'orange'),\n",
    "           'Fall': ('09-01', '11-30', 'red'), \n",
    "           'Winter': ('12-01', '02-28', 'blue')}\n",
    "\n",
    "# Add the seasonal background colors\n",
    "for year in range(2010, 2023):\n",
    "    for season, (start, end, color) in seasons.items():\n",
    "        if season == 'Winter':\n",
    "           ax.axvspan(pd.Timestamp(f'{year}-{start}'), pd.Timestamp(f'{year+1}-{end}'),\n",
    "                   alpha=0.1, color=color)\n",
    "        else:ax.axvspan(pd.Timestamp(f'{year}-{start}'), pd.Timestamp(f'{year}-{end}'),\n",
    "                   alpha=0.1, color=color)\n",
    "            \n",
    "ax.set_xlim(pd.Timestamp('2010-09-01'), pd.Timestamp('2023-02-01'))\n",
    "\n",
    "# Set the x-axis tick labels to only show the year\n",
    "#ax.set_xticklabels([x.strftime('%Y') for x in ax.get_xticks()])\n",
    "\n",
    "# Set the plot title and axis labels\n",
    "plt.title('Number of Burglaries by Month')\n",
    "plt.xlabel('Year')\n",
    "plt.ylabel('Number of Burglaries')\n",
    "\n",
    "# Show the plot\n",
    "plt.show()\n"
   ]
  },
  {
   "cell_type": "code",
   "execution_count": null,
   "metadata": {},
   "outputs": [],
   "source": [
    "TESTDF=combined_df"
   ]
  },
  {
   "cell_type": "code",
   "execution_count": null,
   "metadata": {},
   "outputs": [],
   "source": [
    "\n",
    "\n",
    "# Group the dataframe by Crime type\n",
    "crime_type_groups = combined_df.groupby('Crime type')\n",
    "\n",
    "# Create separate dataframes for each crime type\n",
    "crime_type_dfs = {}\n",
    "for crime_type, group in crime_type_groups:\n",
    "    crime_type_dfs[crime_type] = group.copy()\n",
    "    "
   ]
  },
  {
   "cell_type": "code",
   "execution_count": null,
   "metadata": {},
   "outputs": [],
   "source": [
    "crime_type_dfs.keys()\n"
   ]
  },
  {
   "cell_type": "code",
   "execution_count": null,
   "metadata": {},
   "outputs": [],
   "source": []
  },
  {
   "attachments": {},
   "cell_type": "markdown",
   "metadata": {},
   "source": []
  },
  {
   "cell_type": "code",
   "execution_count": null,
   "metadata": {},
   "outputs": [],
   "source": [
    "count_dict = {}\n",
    "pivot_dict = {}\n",
    "\n",
    "for crime_type, df in crime_type_dfs.items():\n",
    "    count_df = df.groupby(['Month', 'Crime type']).size().reset_index(name='Count')\n",
    "    pivot_df = count_df.pivot_table(values='Count', index='Month', columns='Crime type')\n",
    "    \n",
    "    count_dict[crime_type] = count_df\n",
    "    pivot_dict[crime_type] = pivot_df"
   ]
  },
  {
   "cell_type": "code",
   "execution_count": null,
   "metadata": {},
   "outputs": [],
   "source": [
    "for key, value in pivot_dict.items():\n",
    "    print(key)\n"
   ]
  },
  {
   "cell_type": "code",
   "execution_count": null,
   "metadata": {},
   "outputs": [],
   "source": [
    "import matplotlib.pyplot as plt\n",
    "\n",
    "# create a new figure\n",
    "fig, ax = plt.subplots(figsize=(10, 6))\n",
    "\n",
    "# iterate over the dataframes in pivot_dict and plot each one\n",
    "for crime_type, df in pivot_dict.items():\n",
    "    ax.plot(df.index, df.values, label=crime_type)\n",
    "\n",
    "# set the x-axis label\n",
    "ax.set_xlabel('Month')\n",
    "\n",
    "# set the y-axis label\n",
    "ax.set_ylabel('Count')\n",
    "\n",
    "# set the plot title\n",
    "ax.set_title('Crime counts by month')\n",
    "\n",
    "# add a legend\n",
    "ax.legend(fontsize=6)\n",
    "\n",
    "# show the plot\n",
    "plt.show()\n"
   ]
  },
  {
   "cell_type": "code",
   "execution_count": null,
   "metadata": {},
   "outputs": [],
   "source": [
    "# Create a new DataFrame with only the necessary columns\n",
    "crime_type_df = combined_df[['Crime type', 'Month', 'Longitude', 'Latitude']]\n",
    "\n",
    "# Pivot the DataFrame to get the counts of each crime type per month\n",
    "pivot_df = crime_type_df.pivot_table(index='Month', columns='Crime type', aggfunc='size', fill_value=0)\n",
    "\n",
    "# Create the scatterplot matrix\n",
    "sns.pairplot(pivot_df)"
   ]
  }
 ],
 "metadata": {
  "kernelspec": {
   "display_name": "Python 3",
   "language": "python",
   "name": "python3"
  },
  "language_info": {
   "codemirror_mode": {
    "name": "ipython",
    "version": 3
   },
   "file_extension": ".py",
   "mimetype": "text/x-python",
   "name": "python",
   "nbconvert_exporter": "python",
   "pygments_lexer": "ipython3",
   "version": "3.10.11"
  },
  "orig_nbformat": 4
 },
 "nbformat": 4,
 "nbformat_minor": 2
}
