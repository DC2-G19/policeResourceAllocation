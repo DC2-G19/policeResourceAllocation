{
 "cells": [
  {
   "cell_type": "code",
   "execution_count": 4,
   "metadata": {},
   "outputs": [],
   "source": [
    "#Imports\n",
    "import os\n",
    "import shutil\n",
    "import pandas as pd\n",
    "import sqlite3"
   ]
  },
  {
   "cell_type": "code",
   "execution_count": 5,
   "metadata": {},
   "outputs": [
    {
     "ename": "FileNotFoundError",
     "evalue": "[WinError 3] The system cannot find the path specified: 'C:\\\\Users\\\\shash\\\\OneDrive - TU Eindhoven\\\\Shashank Prabhu University\\\\Year 2\\\\Year 2 Q4\\\\Data Challenge 2\\\\Git DC2\\\\Data\\\\All Data'",
     "output_type": "error",
     "traceback": [
      "\u001b[1;31m---------------------------------------------------------------------------\u001b[0m",
      "\u001b[1;31mFileNotFoundError\u001b[0m                         Traceback (most recent call last)",
      "Cell \u001b[1;32mIn[5], line 7\u001b[0m\n\u001b[0;32m      4\u001b[0m \u001b[39mif\u001b[39;00m \u001b[39mnot\u001b[39;00m os\u001b[39m.\u001b[39mpath\u001b[39m.\u001b[39mexists(filtered_dir):\n\u001b[0;32m      5\u001b[0m     os\u001b[39m.\u001b[39mmakedirs(filtered_dir)\n\u001b[1;32m----> 7\u001b[0m \u001b[39mfor\u001b[39;00m month_folder \u001b[39min\u001b[39;00m os\u001b[39m.\u001b[39;49mlistdir(dataset_dir):\n\u001b[0;32m      8\u001b[0m     \u001b[39mif\u001b[39;00m \u001b[39mnot\u001b[39;00m month_folder\u001b[39m.\u001b[39mstartswith(\u001b[39m\"\u001b[39m\u001b[39m20\u001b[39m\u001b[39m\"\u001b[39m):  \u001b[39m# skip any folders that don't start with a date\u001b[39;00m\n\u001b[0;32m      9\u001b[0m         \u001b[39mcontinue\u001b[39;00m\n",
      "\u001b[1;31mFileNotFoundError\u001b[0m: [WinError 3] The system cannot find the path specified: 'C:\\\\Users\\\\shash\\\\OneDrive - TU Eindhoven\\\\Shashank Prabhu University\\\\Year 2\\\\Year 2 Q4\\\\Data Challenge 2\\\\Git DC2\\\\Data\\\\All Data'"
     ]
    }
   ],
   "source": [
    "#Filters out the required excel files (makes a copy)\n",
    "dataset_dir = \"C:\\\\Users\\\\shash\\OneDrive - TU Eindhoven\\\\Shashank Prabhu University\\\\Year 2\\\\Year 2 Q4\\\\Data Challenge 2\\\\Git DC2\\\\Data\\\\All Data\"  # replace with the path to your dataset folder\n",
    "filtered_dir = \"C:\\\\Users\\\\shash\\\\OneDrive - TU Eindhoven\\\\Shashank Prabhu University\\\\Year 2\\\\Year 2 Q4\\\\Data Challenge 2\\\\Git DC2\"  # replace with the path to the folder where you want to store the filtered data\n",
    "if not os.path.exists(filtered_dir):\n",
    "    os.makedirs(filtered_dir)\n",
    "\n",
    "for month_folder in os.listdir(dataset_dir):\n",
    "    if not month_folder.startswith(\"20\"):  # skip any folders that don't start with a date\n",
    "        continue\n",
    "    for csv_file in os.listdir(os.path.join(dataset_dir, month_folder)):\n",
    "        if not csv_file.endswith(\"-metropolitan-street.csv\"):  # skip any files that don't match the desired format\n",
    "            continue\n",
    "        source_path = os.path.join(dataset_dir, month_folder, csv_file)\n",
    "        destination_path = os.path.join(filtered_dir, csv_file)\n",
    "        shutil.copy(source_path, destination_path)  # copy the matching file to the filtered_data folder\n"
   ]
  },
  {
   "cell_type": "code",
   "execution_count": null,
   "metadata": {},
   "outputs": [],
   "source": [
    "\n",
    "folder_path = \"C:\\\\Users\\\\shash\\\\OneDrive - TU Eindhoven\\\\Shashank Prabhu University\\\\Year 2\\\\Year 2 Q4\\\\Data Challenge 2\\\\Git DC2\\\\Cleaned Data\\\\Street\"  # replace with the path to your Excel files folder\n",
    "df_list = []\n",
    "for file in os.listdir(folder_path):\n",
    "    if file.endswith(\".csv\"):  # only read in CSV files\n",
    "        file_path = os.path.join(folder_path, file)\n",
    "        df = pd.read_csv(file_path)\n",
    "        df_list.append(df)\n",
    "combined_df = pd.concat(df_list, ignore_index=True)\n"
   ]
  },
  {
   "cell_type": "code",
   "execution_count": null,
   "metadata": {},
   "outputs": [
    {
     "name": "stdout",
     "output_type": "stream",
     "text": [
      "                                                   Crime ID    Month  \\\n",
      "0                                                       NaN  2010-12   \n",
      "1                                                       NaN  2010-12   \n",
      "2                                                       NaN  2010-12   \n",
      "3                                                       NaN  2010-12   \n",
      "4                                                       NaN  2010-12   \n",
      "...                                                     ...      ...   \n",
      "12991964  c3398c086a685b13bbc2bdc8497179a4fe3e807cfe1f2e...  2023-01   \n",
      "12991965  ce406aaec27adeb767c4cfb60a85c453d0e15bb08d5e90...  2023-01   \n",
      "12991966  bebf046f2da32d2ec393e677443cda9fa0ebbe8c38bb02...  2023-01   \n",
      "12991967  7015c23748b5935ab6367416faeff367df58354ea322e9...  2023-01   \n",
      "12991968  bd86828d854760836e693a939fe97ad5a4af5abfa9dc07...  2023-01   \n",
      "\n",
      "                          Reported by                 Falls within  Longitude  \\\n",
      "0         Metropolitan Police Service  Metropolitan Police Service   0.145949   \n",
      "1         Metropolitan Police Service  Metropolitan Police Service   0.140192   \n",
      "2         Metropolitan Police Service  Metropolitan Police Service   0.134947   \n",
      "3         Metropolitan Police Service  Metropolitan Police Service   0.134947   \n",
      "4         Metropolitan Police Service  Metropolitan Police Service   0.134947   \n",
      "...                               ...                          ...        ...   \n",
      "12991964  Metropolitan Police Service  Metropolitan Police Service        NaN   \n",
      "12991965  Metropolitan Police Service  Metropolitan Police Service        NaN   \n",
      "12991966  Metropolitan Police Service  Metropolitan Police Service        NaN   \n",
      "12991967  Metropolitan Police Service  Metropolitan Police Service        NaN   \n",
      "12991968  Metropolitan Police Service  Metropolitan Police Service        NaN   \n",
      "\n",
      "           Latitude                     Location  LSOA code  \\\n",
      "0         51.593914  On or near Providence Place  E01000027   \n",
      "1         51.582311       On or near Hatch Grove  E01000027   \n",
      "2         51.588063        On or near Mead Grove  E01000027   \n",
      "3         51.588063        On or near Mead Grove  E01000027   \n",
      "4         51.588063        On or near Mead Grove  E01000027   \n",
      "...             ...                          ...        ...   \n",
      "12991964        NaN                  No Location        NaN   \n",
      "12991965        NaN                  No Location        NaN   \n",
      "12991966        NaN                  No Location        NaN   \n",
      "12991967        NaN                  No Location        NaN   \n",
      "12991968        NaN                  No Location        NaN   \n",
      "\n",
      "                          LSOA name             Crime type  \\\n",
      "0         Barking and Dagenham 001A  Anti-social behaviour   \n",
      "1         Barking and Dagenham 001A  Anti-social behaviour   \n",
      "2         Barking and Dagenham 001A  Anti-social behaviour   \n",
      "3         Barking and Dagenham 001A  Anti-social behaviour   \n",
      "4         Barking and Dagenham 001A  Anti-social behaviour   \n",
      "...                             ...                    ...   \n",
      "12991964                        NaN            Other crime   \n",
      "12991965                        NaN            Other crime   \n",
      "12991966                        NaN            Other crime   \n",
      "12991967                        NaN            Other crime   \n",
      "12991968                        NaN            Other crime   \n",
      "\n",
      "                                  Last outcome category  Context  \n",
      "0                                                   NaN      NaN  \n",
      "1                                                   NaN      NaN  \n",
      "2                                                   NaN      NaN  \n",
      "3                                                   NaN      NaN  \n",
      "4                                                   NaN      NaN  \n",
      "...                                                 ...      ...  \n",
      "12991964  Investigation complete; no suspect identified      NaN  \n",
      "12991965                            Under investigation      NaN  \n",
      "12991966                            Under investigation      NaN  \n",
      "12991967                            Under investigation      NaN  \n",
      "12991968                            Under investigation      NaN  \n",
      "\n",
      "[12991969 rows x 12 columns]\n"
     ]
    }
   ],
   "source": [
    "print(combined_df)"
   ]
  },
  {
   "cell_type": "code",
   "execution_count": null,
   "metadata": {},
   "outputs": [],
   "source": [
    "output_path =\"C:\\\\Users\\\\shash\\\\OneDrive - TU Eindhoven\\\\Shashank Prabhu University\\\\Year 2\\\\Year 2 Q4\\\\Data Challenge 2\\\\Git DC2\\\\Cleaned Data\\\\conc.csv\"\n",
    "combined_df.to_csv(output_path, index=False)  # save the combined DataFrame to a new CSV file"
   ]
  },
  {
   "cell_type": "code",
   "execution_count": 6,
   "metadata": {},
   "outputs": [],
   "source": [
    "\n",
    "\n",
    "# Load CSV data into a pandas DataFrame\n",
    "df = combined_df\n",
    "\n",
    "# Connect to an SQLite database (creates a new database file if it doesn't exist)\n",
    "conn = sqlite3.connect('C:\\\\Users\\\\shash\\\\OneDrive - TU Eindhoven\\\\Shashank Prabhu University\\\\Year 2\\\\Year 2 Q4\\\\Data Challenge 2\\\\Git DC2\\\\Cleaned Data\\\\database_conc.db')\n",
    "\n",
    "# Write DataFrame to an SQL database table\n",
    "df.to_sql('table_name', conn, if_exists='replace', index=False)\n",
    "\n",
    "# Close the database connection\n",
    "conn.close()"
   ]
  }
 ],
 "metadata": {
  "kernelspec": {
   "display_name": "Python 3",
   "language": "python",
   "name": "python3"
  },
  "language_info": {
   "codemirror_mode": {
    "name": "ipython",
    "version": 3
   },
   "file_extension": ".py",
   "mimetype": "text/x-python",
   "name": "python",
   "nbconvert_exporter": "python",
   "pygments_lexer": "ipython3",
   "version": "3.10.11"
  },
  "orig_nbformat": 4
 },
 "nbformat": 4,
 "nbformat_minor": 2
}
