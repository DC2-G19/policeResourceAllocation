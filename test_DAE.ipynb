{
 "cells": [
  {
   "cell_type": "code",
   "execution_count": 7,
   "metadata": {},
   "outputs": [],
   "source": [
    "import os\n",
    "import shutil\n",
    "\n",
    "dataset_dir = \"C:\\\\Users\\\\shash\\OneDrive - TU Eindhoven\\\\Shashank Prabhu University\\\\Year 2\\\\Year 2 Q4\\\\Data Challenge 2\\\\Git DC2\\\\Data\\\\All Data\"  # replace with the path to your dataset folder\n",
    "filtered_dir = \"C:\\\\Users\\\\shash\\\\OneDrive - TU Eindhoven\\\\Shashank Prabhu University\\\\Year 2\\\\Year 2 Q4\\\\Data Challenge 2\\\\Git DC2\"  # replace with the path to the folder where you want to store the filtered data\n",
    "if not os.path.exists(filtered_dir):\n",
    "    os.makedirs(filtered_dir)\n",
    "\n",
    "for month_folder in os.listdir(dataset_dir):\n",
    "    if not month_folder.startswith(\"20\"):  # skip any folders that don't start with a date\n",
    "        continue\n",
    "    for csv_file in os.listdir(os.path.join(dataset_dir, month_folder)):\n",
    "        if not csv_file.endswith(\"-metropolitan-street.csv\"):  # skip any files that don't match the desired format\n",
    "            continue\n",
    "        source_path = os.path.join(dataset_dir, month_folder, csv_file)\n",
    "        destination_path = os.path.join(filtered_dir, csv_file)\n",
    "        shutil.copy(source_path, destination_path)  # copy the matching file to the filtered_data folder\n"
   ]
  }
 ],
 "metadata": {
  "kernelspec": {
   "display_name": "Python 3",
   "language": "python",
   "name": "python3"
  },
  "language_info": {
   "name": "python",
   "version": "3.10.11"
  },
  "orig_nbformat": 4
 },
 "nbformat": 4,
 "nbformat_minor": 2
}
