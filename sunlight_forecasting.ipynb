{
 "cells": [
  {
   "cell_type": "code",
   "execution_count": 73,
   "metadata": {
    "collapsed": true,
    "ExecuteTime": {
     "end_time": "2023-06-01T14:01:27.097274102Z",
     "start_time": "2023-06-01T14:01:27.020500853Z"
    }
   },
   "outputs": [],
   "source": [
    "import xgboost as xgb\n",
    "import pandas as pd\n",
    "from pathlib import Path\n",
    "from tqdm.notebook import tqdm\n",
    "import sqlite3\n",
    "from sklearn.model_selection import train_test_split\n",
    "from sklearn.metrics import mean_squared_error, r2_score, mean_absolute_error, median_absolute_error\n",
    "\n",
    "import matplotlib.pyplot as plt\n",
    "import seaborn as sns"
   ]
  },
  {
   "cell_type": "code",
   "execution_count": 74,
   "outputs": [],
   "source": [
    "def dbPath() -> Path:\n",
    "    cwd = Path.cwd()\n",
    "    dc2 = cwd.parent\n",
    "    db = dc2.joinpath(\"data/database_final.db\")\n",
    "    return db\n",
    "def modelPath(lsoaCode:str) ->Path:\n",
    "    cwd = Path.cwd()\n",
    "    dc2 = cwd.parent\n",
    "    modelPath = dc2.joinpath(f\"data/models/{lsoaCode}.bin\")\n",
    "    return modelPath\n"
   ],
   "metadata": {
    "collapsed": false,
    "ExecuteTime": {
     "end_time": "2023-06-01T14:01:27.117687781Z",
     "start_time": "2023-06-01T14:01:27.061873862Z"
    }
   }
  },
  {
   "cell_type": "code",
   "execution_count": 75,
   "outputs": [
    {
     "data": {
      "text/plain": "   index  Sunlight           Year-Month\n0      0  2.448102  2001-01-01 00:00:00\n1      1  3.125319  2001-02-01 00:00:00\n2      2  2.953300  2001-03-01 00:00:00\n3      3  4.744445  2001-04-01 00:00:00\n4      4  7.725524  2001-05-01 00:00:00",
      "text/html": "<div>\n<style scoped>\n    .dataframe tbody tr th:only-of-type {\n        vertical-align: middle;\n    }\n\n    .dataframe tbody tr th {\n        vertical-align: top;\n    }\n\n    .dataframe thead th {\n        text-align: right;\n    }\n</style>\n<table border=\"1\" class=\"dataframe\">\n  <thead>\n    <tr style=\"text-align: right;\">\n      <th></th>\n      <th>index</th>\n      <th>Sunlight</th>\n      <th>Year-Month</th>\n    </tr>\n  </thead>\n  <tbody>\n    <tr>\n      <th>0</th>\n      <td>0</td>\n      <td>2.448102</td>\n      <td>2001-01-01 00:00:00</td>\n    </tr>\n    <tr>\n      <th>1</th>\n      <td>1</td>\n      <td>3.125319</td>\n      <td>2001-02-01 00:00:00</td>\n    </tr>\n    <tr>\n      <th>2</th>\n      <td>2</td>\n      <td>2.953300</td>\n      <td>2001-03-01 00:00:00</td>\n    </tr>\n    <tr>\n      <th>3</th>\n      <td>3</td>\n      <td>4.744445</td>\n      <td>2001-04-01 00:00:00</td>\n    </tr>\n    <tr>\n      <th>4</th>\n      <td>4</td>\n      <td>7.725524</td>\n      <td>2001-05-01 00:00:00</td>\n    </tr>\n  </tbody>\n</table>\n</div>"
     },
     "execution_count": 75,
     "metadata": {},
     "output_type": "execute_result"
    }
   ],
   "source": [
    "conn = sqlite3.connect(dbPath())\n",
    "query_sunlight = \"\"\"\n",
    "SELECT *\n",
    "FROM sunlight\n",
    "\"\"\"\n",
    "sunlightDF = pd.read_sql(query_sunlight, conn)\n",
    "sunlightDF.head()"
   ],
   "metadata": {
    "collapsed": false,
    "ExecuteTime": {
     "end_time": "2023-06-01T14:01:27.163976772Z",
     "start_time": "2023-06-01T14:01:27.062112190Z"
    }
   }
  },
  {
   "cell_type": "code",
   "execution_count": 76,
   "outputs": [
    {
     "data": {
      "text/plain": "            Sunlight  1  2  3  4  5  6  7  8  9  ...  Sunlight_shift_2  \\\nYear-Month                                       ...                     \n2001-12-01  2.396143  0  0  0  0  0  0  0  0  0  ...          3.582636   \n2002-01-01  1.495515  1  0  0  0  0  0  0  0  0  ...          2.380912   \n2002-02-01  2.925442  0  1  0  0  0  0  0  0  0  ...          2.396143   \n2002-03-01  3.804281  0  0  1  0  0  0  0  0  0  ...          1.495515   \n2002-04-01  6.616119  0  0  0  1  0  0  0  0  0  ...          2.925442   \n\n            Sunlight_shift_3  Sunlight_shift_4  Sunlight_shift_5  \\\nYear-Month                                                         \n2001-12-01          4.048802          5.905760          6.388091   \n2002-01-01          3.582636          4.048802          5.905760   \n2002-02-01          2.380912          3.582636          4.048802   \n2002-03-01          2.396143          2.380912          3.582636   \n2002-04-01          1.495515          2.396143          2.380912   \n\n            Sunlight_shift_6  Sunlight_shift_7  Sunlight_shift_8  \\\nYear-Month                                                         \n2001-12-01          6.845211          7.725524          4.744445   \n2002-01-01          6.388091          6.845211          7.725524   \n2002-02-01          5.905760          6.388091          6.845211   \n2002-03-01          4.048802          5.905760          6.388091   \n2002-04-01          3.582636          4.048802          5.905760   \n\n            Sunlight_shift_9  Sunlight_shift_10  Sunlight_shift_11  \nYear-Month                                                          \n2001-12-01          2.953300           3.125319           2.448102  \n2002-01-01          4.744445           2.953300           3.125319  \n2002-02-01          7.725524           4.744445           2.953300  \n2002-03-01          6.845211           7.725524           4.744445  \n2002-04-01          6.388091           6.845211           7.725524  \n\n[5 rows x 24 columns]",
      "text/html": "<div>\n<style scoped>\n    .dataframe tbody tr th:only-of-type {\n        vertical-align: middle;\n    }\n\n    .dataframe tbody tr th {\n        vertical-align: top;\n    }\n\n    .dataframe thead th {\n        text-align: right;\n    }\n</style>\n<table border=\"1\" class=\"dataframe\">\n  <thead>\n    <tr style=\"text-align: right;\">\n      <th></th>\n      <th>Sunlight</th>\n      <th>1</th>\n      <th>2</th>\n      <th>3</th>\n      <th>4</th>\n      <th>5</th>\n      <th>6</th>\n      <th>7</th>\n      <th>8</th>\n      <th>9</th>\n      <th>...</th>\n      <th>Sunlight_shift_2</th>\n      <th>Sunlight_shift_3</th>\n      <th>Sunlight_shift_4</th>\n      <th>Sunlight_shift_5</th>\n      <th>Sunlight_shift_6</th>\n      <th>Sunlight_shift_7</th>\n      <th>Sunlight_shift_8</th>\n      <th>Sunlight_shift_9</th>\n      <th>Sunlight_shift_10</th>\n      <th>Sunlight_shift_11</th>\n    </tr>\n    <tr>\n      <th>Year-Month</th>\n      <th></th>\n      <th></th>\n      <th></th>\n      <th></th>\n      <th></th>\n      <th></th>\n      <th></th>\n      <th></th>\n      <th></th>\n      <th></th>\n      <th></th>\n      <th></th>\n      <th></th>\n      <th></th>\n      <th></th>\n      <th></th>\n      <th></th>\n      <th></th>\n      <th></th>\n      <th></th>\n      <th></th>\n    </tr>\n  </thead>\n  <tbody>\n    <tr>\n      <th>2001-12-01</th>\n      <td>2.396143</td>\n      <td>0</td>\n      <td>0</td>\n      <td>0</td>\n      <td>0</td>\n      <td>0</td>\n      <td>0</td>\n      <td>0</td>\n      <td>0</td>\n      <td>0</td>\n      <td>...</td>\n      <td>3.582636</td>\n      <td>4.048802</td>\n      <td>5.905760</td>\n      <td>6.388091</td>\n      <td>6.845211</td>\n      <td>7.725524</td>\n      <td>4.744445</td>\n      <td>2.953300</td>\n      <td>3.125319</td>\n      <td>2.448102</td>\n    </tr>\n    <tr>\n      <th>2002-01-01</th>\n      <td>1.495515</td>\n      <td>1</td>\n      <td>0</td>\n      <td>0</td>\n      <td>0</td>\n      <td>0</td>\n      <td>0</td>\n      <td>0</td>\n      <td>0</td>\n      <td>0</td>\n      <td>...</td>\n      <td>2.380912</td>\n      <td>3.582636</td>\n      <td>4.048802</td>\n      <td>5.905760</td>\n      <td>6.388091</td>\n      <td>6.845211</td>\n      <td>7.725524</td>\n      <td>4.744445</td>\n      <td>2.953300</td>\n      <td>3.125319</td>\n    </tr>\n    <tr>\n      <th>2002-02-01</th>\n      <td>2.925442</td>\n      <td>0</td>\n      <td>1</td>\n      <td>0</td>\n      <td>0</td>\n      <td>0</td>\n      <td>0</td>\n      <td>0</td>\n      <td>0</td>\n      <td>0</td>\n      <td>...</td>\n      <td>2.396143</td>\n      <td>2.380912</td>\n      <td>3.582636</td>\n      <td>4.048802</td>\n      <td>5.905760</td>\n      <td>6.388091</td>\n      <td>6.845211</td>\n      <td>7.725524</td>\n      <td>4.744445</td>\n      <td>2.953300</td>\n    </tr>\n    <tr>\n      <th>2002-03-01</th>\n      <td>3.804281</td>\n      <td>0</td>\n      <td>0</td>\n      <td>1</td>\n      <td>0</td>\n      <td>0</td>\n      <td>0</td>\n      <td>0</td>\n      <td>0</td>\n      <td>0</td>\n      <td>...</td>\n      <td>1.495515</td>\n      <td>2.396143</td>\n      <td>2.380912</td>\n      <td>3.582636</td>\n      <td>4.048802</td>\n      <td>5.905760</td>\n      <td>6.388091</td>\n      <td>6.845211</td>\n      <td>7.725524</td>\n      <td>4.744445</td>\n    </tr>\n    <tr>\n      <th>2002-04-01</th>\n      <td>6.616119</td>\n      <td>0</td>\n      <td>0</td>\n      <td>0</td>\n      <td>1</td>\n      <td>0</td>\n      <td>0</td>\n      <td>0</td>\n      <td>0</td>\n      <td>0</td>\n      <td>...</td>\n      <td>2.925442</td>\n      <td>1.495515</td>\n      <td>2.396143</td>\n      <td>2.380912</td>\n      <td>3.582636</td>\n      <td>4.048802</td>\n      <td>5.905760</td>\n      <td>6.388091</td>\n      <td>6.845211</td>\n      <td>7.725524</td>\n    </tr>\n  </tbody>\n</table>\n<p>5 rows × 24 columns</p>\n</div>"
     },
     "execution_count": 76,
     "metadata": {},
     "output_type": "execute_result"
    }
   ],
   "source": [
    "sunlightDF[\"Year-Month\"] = pd.to_datetime(sunlightDF[\"Year-Month\"])\n",
    "month_dummies = pd.get_dummies(sunlightDF[\"Year-Month\"].dt.month)\n",
    "sunlightDF = pd.concat([sunlightDF, month_dummies], axis=1)\n",
    "sunlightDF.drop(columns=[\"index\"], inplace=True)\n",
    "for i in range(1,12):\n",
    "    sunlightDF[f\"Sunlight_shift_{i}\"] = sunlightDF[\"Sunlight\"].shift(i)\n",
    "\n",
    "sunlightDF = sunlightDF.set_index(sunlightDF[\"Year-Month\"])\n",
    "sunlightDF.drop(columns = [\"Year-Month\"], inplace=True)\n",
    "\n",
    "sunlightDF.dropna(inplace=True)\n",
    "sunlightDF.head()"
   ],
   "metadata": {
    "collapsed": false,
    "ExecuteTime": {
     "end_time": "2023-06-01T14:01:27.164456337Z",
     "start_time": "2023-06-01T14:01:27.062359492Z"
    }
   }
  },
  {
   "cell_type": "code",
   "execution_count": 77,
   "outputs": [],
   "source": [
    "X_train, X_test, y_train, y_test = train_test_split(sunlightDF.drop(columns= [\"Sunlight\"]),sunlightDF[\"Sunlight\"])"
   ],
   "metadata": {
    "collapsed": false,
    "ExecuteTime": {
     "end_time": "2023-06-01T14:01:27.164674370Z",
     "start_time": "2023-06-01T14:01:27.079510093Z"
    }
   }
  },
  {
   "cell_type": "code",
   "execution_count": 78,
   "outputs": [
    {
     "data": {
      "text/plain": "            1  2  3  4  5  6  7  8  9  10  ...  Sunlight_shift_2  \\\nYear-Month                                 ...                     \n2003-11-01  0  0  0  0  0  0  0  0  0   0  ...          6.064175   \n2016-02-01  0  1  0  0  0  0  0  0  0   0  ...          1.130998   \n2006-12-01  0  0  0  0  0  0  0  0  0   0  ...          3.221354   \n2015-08-01  0  0  0  0  0  0  0  1  0   0  ...          7.508897   \n2017-05-01  0  0  0  0  1  0  0  0  0   0  ...          3.834734   \n...        .. .. .. .. .. .. .. .. ..  ..  ...               ...   \n2018-06-01  0  0  0  0  0  1  0  0  0   0  ...          4.272551   \n2021-05-01  0  0  0  0  1  0  0  0  0   0  ...          3.750800   \n2004-10-01  0  0  0  0  0  0  0  0  0   1  ...          5.733611   \n2020-12-01  0  0  0  0  0  0  0  0  0   0  ...          2.214342   \n2016-04-01  0  0  0  1  0  0  0  0  0   0  ...          2.957964   \n\n            Sunlight_shift_3  Sunlight_shift_4  Sunlight_shift_5  \\\nYear-Month                                                         \n2003-11-01          6.977437          5.890142          7.193123   \n2016-02-01          1.324890          2.995172          5.700259   \n2006-12-01          5.298549          5.108250          9.285923   \n2015-08-01          5.866200          7.082956          4.432794   \n2017-05-01          1.995872          2.069591          1.647453   \n...                      ...               ...               ...   \n2018-06-01          2.752046          3.741963          1.916567   \n2021-05-01          2.608182          1.419847          1.557327   \n2004-10-01          5.576845          6.985119          6.853933   \n2020-12-01          5.412225          5.204964          5.628861   \n2016-04-01          1.698182          1.130998          1.324890   \n\n            Sunlight_shift_6  Sunlight_shift_7  Sunlight_shift_8  \\\nYear-Month                                                         \n2003-11-01          6.390996          6.728073          5.454046   \n2016-02-01          5.231115          6.059147          7.508897   \n2006-12-01          7.960759          5.670979          5.574046   \n2015-08-01          3.147091          2.235379          2.264537   \n2017-05-01          2.664534          3.605314          4.417997   \n...                      ...               ...               ...   \n2018-06-01          1.842672          2.637034          2.661436   \n2021-05-01          2.094819          2.214342          5.412225   \n2004-10-01          4.786704          3.712269          2.901360   \n2020-12-01          6.178656          9.682834          7.809895   \n2016-04-01          2.995172          5.700259          5.231115   \n\n            Sunlight_shift_9  Sunlight_shift_10  Sunlight_shift_11  \nYear-Month                                                          \n2003-11-01          3.623941           2.323001           1.159697  \n2016-02-01          5.866200           7.082956           4.432794  \n2006-12-01          3.166268           2.338343           1.690048  \n2015-08-01          2.002512           3.178991           4.597112  \n2017-05-01          6.878526           6.323818           4.364186  \n...                      ...                ...                ...  \n2018-06-01          3.799847           5.868933           5.879392  \n2021-05-01          5.204964           5.628861           6.178656  \n2004-10-01          1.684897           1.735241           2.344859  \n2020-12-01          5.217879           2.710191           1.798168  \n2016-04-01          6.059147           7.508897           5.866200  \n\n[192 rows x 23 columns]",
      "text/html": "<div>\n<style scoped>\n    .dataframe tbody tr th:only-of-type {\n        vertical-align: middle;\n    }\n\n    .dataframe tbody tr th {\n        vertical-align: top;\n    }\n\n    .dataframe thead th {\n        text-align: right;\n    }\n</style>\n<table border=\"1\" class=\"dataframe\">\n  <thead>\n    <tr style=\"text-align: right;\">\n      <th></th>\n      <th>1</th>\n      <th>2</th>\n      <th>3</th>\n      <th>4</th>\n      <th>5</th>\n      <th>6</th>\n      <th>7</th>\n      <th>8</th>\n      <th>9</th>\n      <th>10</th>\n      <th>...</th>\n      <th>Sunlight_shift_2</th>\n      <th>Sunlight_shift_3</th>\n      <th>Sunlight_shift_4</th>\n      <th>Sunlight_shift_5</th>\n      <th>Sunlight_shift_6</th>\n      <th>Sunlight_shift_7</th>\n      <th>Sunlight_shift_8</th>\n      <th>Sunlight_shift_9</th>\n      <th>Sunlight_shift_10</th>\n      <th>Sunlight_shift_11</th>\n    </tr>\n    <tr>\n      <th>Year-Month</th>\n      <th></th>\n      <th></th>\n      <th></th>\n      <th></th>\n      <th></th>\n      <th></th>\n      <th></th>\n      <th></th>\n      <th></th>\n      <th></th>\n      <th></th>\n      <th></th>\n      <th></th>\n      <th></th>\n      <th></th>\n      <th></th>\n      <th></th>\n      <th></th>\n      <th></th>\n      <th></th>\n      <th></th>\n    </tr>\n  </thead>\n  <tbody>\n    <tr>\n      <th>2003-11-01</th>\n      <td>0</td>\n      <td>0</td>\n      <td>0</td>\n      <td>0</td>\n      <td>0</td>\n      <td>0</td>\n      <td>0</td>\n      <td>0</td>\n      <td>0</td>\n      <td>0</td>\n      <td>...</td>\n      <td>6.064175</td>\n      <td>6.977437</td>\n      <td>5.890142</td>\n      <td>7.193123</td>\n      <td>6.390996</td>\n      <td>6.728073</td>\n      <td>5.454046</td>\n      <td>3.623941</td>\n      <td>2.323001</td>\n      <td>1.159697</td>\n    </tr>\n    <tr>\n      <th>2016-02-01</th>\n      <td>0</td>\n      <td>1</td>\n      <td>0</td>\n      <td>0</td>\n      <td>0</td>\n      <td>0</td>\n      <td>0</td>\n      <td>0</td>\n      <td>0</td>\n      <td>0</td>\n      <td>...</td>\n      <td>1.130998</td>\n      <td>1.324890</td>\n      <td>2.995172</td>\n      <td>5.700259</td>\n      <td>5.231115</td>\n      <td>6.059147</td>\n      <td>7.508897</td>\n      <td>5.866200</td>\n      <td>7.082956</td>\n      <td>4.432794</td>\n    </tr>\n    <tr>\n      <th>2006-12-01</th>\n      <td>0</td>\n      <td>0</td>\n      <td>0</td>\n      <td>0</td>\n      <td>0</td>\n      <td>0</td>\n      <td>0</td>\n      <td>0</td>\n      <td>0</td>\n      <td>0</td>\n      <td>...</td>\n      <td>3.221354</td>\n      <td>5.298549</td>\n      <td>5.108250</td>\n      <td>9.285923</td>\n      <td>7.960759</td>\n      <td>5.670979</td>\n      <td>5.574046</td>\n      <td>3.166268</td>\n      <td>2.338343</td>\n      <td>1.690048</td>\n    </tr>\n    <tr>\n      <th>2015-08-01</th>\n      <td>0</td>\n      <td>0</td>\n      <td>0</td>\n      <td>0</td>\n      <td>0</td>\n      <td>0</td>\n      <td>0</td>\n      <td>1</td>\n      <td>0</td>\n      <td>0</td>\n      <td>...</td>\n      <td>7.508897</td>\n      <td>5.866200</td>\n      <td>7.082956</td>\n      <td>4.432794</td>\n      <td>3.147091</td>\n      <td>2.235379</td>\n      <td>2.264537</td>\n      <td>2.002512</td>\n      <td>3.178991</td>\n      <td>4.597112</td>\n    </tr>\n    <tr>\n      <th>2017-05-01</th>\n      <td>0</td>\n      <td>0</td>\n      <td>0</td>\n      <td>0</td>\n      <td>1</td>\n      <td>0</td>\n      <td>0</td>\n      <td>0</td>\n      <td>0</td>\n      <td>0</td>\n      <td>...</td>\n      <td>3.834734</td>\n      <td>1.995872</td>\n      <td>2.069591</td>\n      <td>1.647453</td>\n      <td>2.664534</td>\n      <td>3.605314</td>\n      <td>4.417997</td>\n      <td>6.878526</td>\n      <td>6.323818</td>\n      <td>4.364186</td>\n    </tr>\n    <tr>\n      <th>...</th>\n      <td>...</td>\n      <td>...</td>\n      <td>...</td>\n      <td>...</td>\n      <td>...</td>\n      <td>...</td>\n      <td>...</td>\n      <td>...</td>\n      <td>...</td>\n      <td>...</td>\n      <td>...</td>\n      <td>...</td>\n      <td>...</td>\n      <td>...</td>\n      <td>...</td>\n      <td>...</td>\n      <td>...</td>\n      <td>...</td>\n      <td>...</td>\n      <td>...</td>\n      <td>...</td>\n    </tr>\n    <tr>\n      <th>2018-06-01</th>\n      <td>0</td>\n      <td>0</td>\n      <td>0</td>\n      <td>0</td>\n      <td>0</td>\n      <td>1</td>\n      <td>0</td>\n      <td>0</td>\n      <td>0</td>\n      <td>0</td>\n      <td>...</td>\n      <td>4.272551</td>\n      <td>2.752046</td>\n      <td>3.741963</td>\n      <td>1.916567</td>\n      <td>1.842672</td>\n      <td>2.637034</td>\n      <td>2.661436</td>\n      <td>3.799847</td>\n      <td>5.868933</td>\n      <td>5.879392</td>\n    </tr>\n    <tr>\n      <th>2021-05-01</th>\n      <td>0</td>\n      <td>0</td>\n      <td>0</td>\n      <td>0</td>\n      <td>1</td>\n      <td>0</td>\n      <td>0</td>\n      <td>0</td>\n      <td>0</td>\n      <td>0</td>\n      <td>...</td>\n      <td>3.750800</td>\n      <td>2.608182</td>\n      <td>1.419847</td>\n      <td>1.557327</td>\n      <td>2.094819</td>\n      <td>2.214342</td>\n      <td>5.412225</td>\n      <td>5.204964</td>\n      <td>5.628861</td>\n      <td>6.178656</td>\n    </tr>\n    <tr>\n      <th>2004-10-01</th>\n      <td>0</td>\n      <td>0</td>\n      <td>0</td>\n      <td>0</td>\n      <td>0</td>\n      <td>0</td>\n      <td>0</td>\n      <td>0</td>\n      <td>0</td>\n      <td>1</td>\n      <td>...</td>\n      <td>5.733611</td>\n      <td>5.576845</td>\n      <td>6.985119</td>\n      <td>6.853933</td>\n      <td>4.786704</td>\n      <td>3.712269</td>\n      <td>2.901360</td>\n      <td>1.684897</td>\n      <td>1.735241</td>\n      <td>2.344859</td>\n    </tr>\n    <tr>\n      <th>2020-12-01</th>\n      <td>0</td>\n      <td>0</td>\n      <td>0</td>\n      <td>0</td>\n      <td>0</td>\n      <td>0</td>\n      <td>0</td>\n      <td>0</td>\n      <td>0</td>\n      <td>0</td>\n      <td>...</td>\n      <td>2.214342</td>\n      <td>5.412225</td>\n      <td>5.204964</td>\n      <td>5.628861</td>\n      <td>6.178656</td>\n      <td>9.682834</td>\n      <td>7.809895</td>\n      <td>5.217879</td>\n      <td>2.710191</td>\n      <td>1.798168</td>\n    </tr>\n    <tr>\n      <th>2016-04-01</th>\n      <td>0</td>\n      <td>0</td>\n      <td>0</td>\n      <td>1</td>\n      <td>0</td>\n      <td>0</td>\n      <td>0</td>\n      <td>0</td>\n      <td>0</td>\n      <td>0</td>\n      <td>...</td>\n      <td>2.957964</td>\n      <td>1.698182</td>\n      <td>1.130998</td>\n      <td>1.324890</td>\n      <td>2.995172</td>\n      <td>5.700259</td>\n      <td>5.231115</td>\n      <td>6.059147</td>\n      <td>7.508897</td>\n      <td>5.866200</td>\n    </tr>\n  </tbody>\n</table>\n<p>192 rows × 23 columns</p>\n</div>"
     },
     "execution_count": 78,
     "metadata": {},
     "output_type": "execute_result"
    }
   ],
   "source": [
    "X_train"
   ],
   "metadata": {
    "collapsed": false,
    "ExecuteTime": {
     "end_time": "2023-06-01T14:01:27.165770909Z",
     "start_time": "2023-06-01T14:01:27.084144397Z"
    }
   }
  },
  {
   "cell_type": "code",
   "execution_count": 79,
   "outputs": [],
   "source": [
    "model = xgb.XGBRegressor()\n",
    "model.fit(X_train.values, y_train)\n",
    "model.save_model(modelPath(\"sunlight\"))"
   ],
   "metadata": {
    "collapsed": false,
    "ExecuteTime": {
     "end_time": "2023-06-01T14:01:27.593746206Z",
     "start_time": "2023-06-01T14:01:27.120177858Z"
    }
   }
  },
  {
   "cell_type": "code",
   "execution_count": 80,
   "outputs": [],
   "source": [
    "predictions= model.predict(X_test.values)\n",
    "pred_train = model.predict(X_train.values)"
   ],
   "metadata": {
    "collapsed": false,
    "ExecuteTime": {
     "end_time": "2023-06-01T14:01:27.594003914Z",
     "start_time": "2023-06-01T14:01:27.394864383Z"
    }
   }
  },
  {
   "cell_type": "code",
   "execution_count": 83,
   "outputs": [
    {
     "data": {
      "text/plain": "<Figure size 640x480 with 1 Axes>",
      "image/png": "[encoded data removed]"
     },
     "metadata": {},
     "output_type": "display_data"
    }
   ],
   "source": [
    "# plt.scatter(X_train.index, y_train)\n",
    "plt.scatter(X_test.index, y_test, color=\"green\")\n",
    "plt.scatter(X_test.index, predictions, color=\"red\")\n",
    "plt.show()"
   ],
   "metadata": {
    "collapsed": false,
    "ExecuteTime": {
     "end_time": "2023-06-01T14:02:41.908452348Z",
     "start_time": "2023-06-01T14:02:41.679563598Z"
    }
   }
  },
  {
   "cell_type": "code",
   "execution_count": 82,
   "outputs": [
    {
     "data": {
      "text/plain": "  Metric   Train Value  Test Value\n0    MSE  6.737992e-07    1.145438\n1    MAE  5.675406e-04    0.782731\n2    R^2  9.999998e-01    0.761392\n3  MedAE  3.746855e-04    0.617862",
      "text/html": "<div>\n<style scoped>\n    .dataframe tbody tr th:only-of-type {\n        vertical-align: middle;\n    }\n\n    .dataframe tbody tr th {\n        vertical-align: top;\n    }\n\n    .dataframe thead th {\n        text-align: right;\n    }\n</style>\n<table border=\"1\" class=\"dataframe\">\n  <thead>\n    <tr style=\"text-align: right;\">\n      <th></th>\n      <th>Metric</th>\n      <th>Train Value</th>\n      <th>Test Value</th>\n    </tr>\n  </thead>\n  <tbody>\n    <tr>\n      <th>0</th>\n      <td>MSE</td>\n      <td>6.737992e-07</td>\n      <td>1.145438</td>\n    </tr>\n    <tr>\n      <th>1</th>\n      <td>MAE</td>\n      <td>5.675406e-04</td>\n      <td>0.782731</td>\n    </tr>\n    <tr>\n      <th>2</th>\n      <td>R^2</td>\n      <td>9.999998e-01</td>\n      <td>0.761392</td>\n    </tr>\n    <tr>\n      <th>3</th>\n      <td>MedAE</td>\n      <td>3.746855e-04</td>\n      <td>0.617862</td>\n    </tr>\n  </tbody>\n</table>\n</div>"
     },
     "execution_count": 82,
     "metadata": {},
     "output_type": "execute_result"
    }
   ],
   "source": [
    "mse_train = mean_squared_error(y_train.values, pred_train)\n",
    "mae_train = mean_absolute_error(y_train.values, pred_train)\n",
    "r2_train = r2_score(y_train.values, pred_train)\n",
    "medae_train = median_absolute_error(y_train.values, pred_train)\n",
    "\n",
    "# Calculate the test performance metrics\n",
    "mse_test = mean_squared_error(y_test.values, predictions)\n",
    "mae_test = mean_absolute_error(y_test.values, predictions)\n",
    "r2_test = r2_score(y_test.values, predictions)\n",
    "medae_test = median_absolute_error(y_test.values, predictions)\n",
    "\n",
    "# Create a dictionary with the train and test metric names and values\n",
    "metrics = {\n",
    "    'Metric': ['MSE', 'MAE', 'R^2', \"MedAE\"],\n",
    "    'Train Value': [mse_train, mae_train, r2_train, medae_train],\n",
    "    'Test Value': [mse_test, mae_test, r2_test, medae_test]\n",
    "}\n",
    "metricsDF = pd.DataFrame(metrics)\n",
    "metricsDF\n"
   ],
   "metadata": {
    "collapsed": false,
    "ExecuteTime": {
     "end_time": "2023-06-01T14:01:27.762517262Z",
     "start_time": "2023-06-01T14:01:27.671862896Z"
    }
   }
  },
  {
   "cell_type": "code",
   "execution_count": 82,
   "outputs": [],
   "source": [],
   "metadata": {
    "collapsed": false,
    "ExecuteTime": {
     "end_time": "2023-06-01T14:01:27.763072975Z",
     "start_time": "2023-06-01T14:01:27.679591815Z"
    }
   }
  }
 ],
 "metadata": {
  "kernelspec": {
   "display_name": "Python 3",
   "language": "python",
   "name": "python3"
  },
  "language_info": {
   "codemirror_mode": {
    "name": "ipython",
    "version": 2
   },
   "file_extension": ".py",
   "mimetype": "text/x-python",
   "name": "python",
   "nbconvert_exporter": "python",
   "pygments_lexer": "ipython2",
   "version": "2.7.6"
  }
 },
 "nbformat": 4,
 "nbformat_minor": 0
}
