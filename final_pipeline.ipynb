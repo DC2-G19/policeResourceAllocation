{
 "cells": [
  {
   "cell_type": "code",
   "execution_count": 13,
   "metadata": {
    "collapsed": true,
    "ExecuteTime": {
     "end_time": "2023-06-04T06:57:07.576567603Z",
     "start_time": "2023-06-04T06:57:07.556519250Z"
    }
   },
   "outputs": [],
   "source": [
    "import pandas as pd\n",
    "import sqlite3\n",
    "import xgboost as xgb\n",
    "from pathlib import Path\n",
    "from tqdm.notebook import tqdm\n",
    "from dateutil.relativedelta import relativedelta\n"
   ]
  },
  {
   "cell_type": "code",
   "execution_count": 14,
   "outputs": [],
   "source": [
    "\n",
    "def dbPath() -> Path:\n",
    "    cwd = Path.cwd()\n",
    "    dc2 = cwd.parent\n",
    "    db = dc2.joinpath(\"data/database_final.db\")\n",
    "    return db\n",
    "\n",
    "\n",
    "def modelPath(lsoaCode:str) ->Path:\n",
    "    cwd = Path.cwd()\n",
    "    dc2 = cwd.parent\n",
    "    modelPath = dc2.joinpath(f\"data/models/{lsoaCode}.bin\")\n",
    "    return modelPath\n"
   ],
   "metadata": {
    "collapsed": false,
    "ExecuteTime": {
     "end_time": "2023-06-04T06:57:07.733859773Z",
     "start_time": "2023-06-04T06:57:07.723589406Z"
    }
   }
  },
  {
   "cell_type": "code",
   "execution_count": 15,
   "outputs": [
    {
     "data": {
      "text/plain": "  0%|          | 0/17724 [00:00<?, ?it/s]",
      "application/vnd.jupyter.widget-view+json": {
       "version_major": 2,
       "version_minor": 0,
       "model_id": "f38a5daf9f5e404d87cfd2ebc67c2998"
      }
     },
     "metadata": {},
     "output_type": "display_data"
    },
    {
     "data": {
      "text/plain": "  0%|          | 0/211 [00:00<?, ?it/s]",
      "application/vnd.jupyter.widget-view+json": {
       "version_major": 2,
       "version_minor": 0,
       "model_id": "d239086e7fee48fab981bac72067f13f"
      }
     },
     "metadata": {},
     "output_type": "display_data"
    }
   ],
   "source": [
    "conn = sqlite3.connect(dbPath())\n",
    "query_lsoa_codes = \"SELECT geogcode FROM lsoa_code_to_name\"\n",
    "lsoa_codes = pd.read_sql(query_lsoa_codes, conn)\n",
    "\n",
    "query_unemployement = \"SELECT * FROM montly_unemployement_claimant_count_by_lsoa_barnet\"\n",
    "unemployement = pd.read_sql(query_unemployement, conn)\n",
    "\n",
    "unemployement.dropna(inplace=True)\n",
    "unemployement.drop(columns=\"index\", inplace=True)\n",
    "unemployement = unemployement[(unemployement[\"date\"]<\"2020\") & (unemployement[\"date\"]>\"2012\")]\n",
    "\n",
    "unemployement = unemployement[unemployement[\"geogcode\"]!=\"Column Total\"].copy()\n",
    "lsoa_code_list = lsoa_codes[lsoa_codes[\"geogcode\"] != \"Column Total\"][\"geogcode\"].to_list()\n",
    "\n",
    "\n",
    "def makeAllFeatures(unemployement,lsoa_code_list):\n",
    "    allFeatures = pd.DataFrame(columns=lsoa_code_list, index=pd.to_datetime(unemployement[\"date\"].unique()))\n",
    "\n",
    "    for row in tqdm(unemployement.index):\n",
    "        allFeatures[unemployement[\"geogcode\"][row]][unemployement[\"date\"][row]] = unemployement[\"value\"][row]\n",
    "\n",
    "    shiftColumnList = []\n",
    "    for code in tqdm(lsoa_code_list):\n",
    "        tempDF = pd.DataFrame(columns=[f\"{code}_shift_{i+1}\" for i in range(12)])\n",
    "        for i in range(12):\n",
    "            # allFeatures[f\"{code}_shift_{i+1}\"] = allFeatures[f\"{code}\"].shift(i+1)\n",
    "            tempDF[f\"{code}_shift_{i+1}\"] = allFeatures[code].shift(i+1)\n",
    "        shiftColumnList.append(tempDF.copy())\n",
    "    allShifts = pd.concat(shiftColumnList, axis=1)\n",
    "    # return allShifts, 0\n",
    "    allFeatures = pd.concat([allFeatures, allShifts], axis=1)\n",
    "    allFeatures = allFeatures.dropna()\n",
    "    conn.close()\n",
    "    return allFeatures\n",
    "\n",
    "allFeatures = makeAllFeatures(unemployement, lsoa_code_list)"
   ],
   "metadata": {
    "collapsed": false,
    "ExecuteTime": {
     "end_time": "2023-06-04T06:57:12.257880496Z",
     "start_time": "2023-06-04T06:57:07.932583677Z"
    }
   }
  },
  {
   "cell_type": "code",
   "execution_count": 16,
   "outputs": [
    {
     "data": {
      "text/plain": "           E01000115 E01000116 E01000117 E01000118 E01000119 E01000120  \\\n2014-01-01      10.0      15.0      20.0      20.0      15.0      15.0   \n2014-02-01      10.0      15.0      20.0      25.0      20.0      20.0   \n2014-03-01      10.0      10.0      15.0      20.0      15.0      15.0   \n2014-04-01      10.0      15.0      10.0      20.0      15.0      20.0   \n2014-05-01      10.0      15.0      15.0      20.0      10.0      20.0   \n...              ...       ...       ...       ...       ...       ...   \n2019-08-01      10.0      10.0      15.0      20.0      10.0      10.0   \n2019-09-01      10.0       5.0      15.0      15.0      10.0      10.0   \n2019-10-01      10.0       5.0      15.0      20.0      15.0      15.0   \n2019-11-01      10.0       5.0      15.0      20.0      15.0      10.0   \n2019-12-01      10.0      10.0      15.0      20.0      15.0      15.0   \n\n           E01000121 E01000122 E01000123 E01000124  ... E01033573_shift_3  \\\n2014-01-01      35.0      15.0      20.0      45.0  ...              35.0   \n2014-02-01      35.0      15.0      20.0      45.0  ...              30.0   \n2014-03-01      35.0      15.0      25.0      40.0  ...              30.0   \n2014-04-01      25.0      20.0      15.0      40.0  ...              20.0   \n2014-05-01      30.0      15.0      15.0      45.0  ...              25.0   \n...              ...       ...       ...       ...  ...               ...   \n2019-08-01      30.0      10.0      20.0      45.0  ...              40.0   \n2019-09-01      25.0      10.0      15.0      45.0  ...              40.0   \n2019-10-01      30.0      10.0      15.0      45.0  ...              40.0   \n2019-11-01      30.0      15.0      20.0      50.0  ...              40.0   \n2019-12-01      30.0      15.0      20.0      50.0  ...              35.0   \n\n           E01033573_shift_4 E01033573_shift_5 E01033573_shift_6  \\\n2014-01-01              35.0              35.0              40.0   \n2014-02-01              35.0              35.0              35.0   \n2014-03-01              30.0              35.0              35.0   \n2014-04-01              30.0              30.0              35.0   \n2014-05-01              20.0              30.0              30.0   \n...                      ...               ...               ...   \n2019-08-01              30.0              30.0              30.0   \n2019-09-01              40.0              30.0              30.0   \n2019-10-01              40.0              40.0              30.0   \n2019-11-01              40.0              40.0              40.0   \n2019-12-01              40.0              40.0              40.0   \n\n           E01033573_shift_7 E01033573_shift_8 E01033573_shift_9  \\\n2014-01-01              35.0              30.0              30.0   \n2014-02-01              40.0              35.0              30.0   \n2014-03-01              35.0              40.0              35.0   \n2014-04-01              35.0              35.0              40.0   \n2014-05-01              35.0              35.0              35.0   \n...                      ...               ...               ...   \n2019-08-01              35.0              35.0              25.0   \n2019-09-01              30.0              35.0              35.0   \n2019-10-01              30.0              30.0              35.0   \n2019-11-01              30.0              30.0              30.0   \n2019-12-01              40.0              30.0              30.0   \n\n           E01033573_shift_10 E01033573_shift_11 E01033573_shift_12  \n2014-01-01               30.0               30.0               25.0  \n2014-02-01               30.0               30.0               30.0  \n2014-03-01               30.0               30.0               30.0  \n2014-04-01               35.0               30.0               30.0  \n2014-05-01               40.0               35.0               30.0  \n...                       ...                ...                ...  \n2019-08-01               30.0               30.0               25.0  \n2019-09-01               25.0               30.0               30.0  \n2019-10-01               35.0               25.0               30.0  \n2019-11-01               35.0               35.0               25.0  \n2019-12-01               30.0               35.0               35.0  \n\n[72 rows x 2743 columns]",
      "text/html": "<div>\n<style scoped>\n    .dataframe tbody tr th:only-of-type {\n        vertical-align: middle;\n    }\n\n    .dataframe tbody tr th {\n        vertical-align: top;\n    }\n\n    .dataframe thead th {\n        text-align: right;\n    }\n</style>\n<table border=\"1\" class=\"dataframe\">\n  <thead>\n    <tr style=\"text-align: right;\">\n      <th></th>\n      <th>E01000115</th>\n      <th>E01000116</th>\n      <th>E01000117</th>\n      <th>E01000118</th>\n      <th>E01000119</th>\n      <th>E01000120</th>\n      <th>E01000121</th>\n      <th>E01000122</th>\n      <th>E01000123</th>\n      <th>E01000124</th>\n      <th>...</th>\n      <th>E01033573_shift_3</th>\n      <th>E01033573_shift_4</th>\n      <th>E01033573_shift_5</th>\n      <th>E01033573_shift_6</th>\n      <th>E01033573_shift_7</th>\n      <th>E01033573_shift_8</th>\n      <th>E01033573_shift_9</th>\n      <th>E01033573_shift_10</th>\n      <th>E01033573_shift_11</th>\n      <th>E01033573_shift_12</th>\n    </tr>\n  </thead>\n  <tbody>\n    <tr>\n      <th>2014-01-01</th>\n      <td>10.0</td>\n      <td>15.0</td>\n      <td>20.0</td>\n      <td>20.0</td>\n      <td>15.0</td>\n      <td>15.0</td>\n      <td>35.0</td>\n      <td>15.0</td>\n      <td>20.0</td>\n      <td>45.0</td>\n      <td>...</td>\n      <td>35.0</td>\n      <td>35.0</td>\n      <td>35.0</td>\n      <td>40.0</td>\n      <td>35.0</td>\n      <td>30.0</td>\n      <td>30.0</td>\n      <td>30.0</td>\n      <td>30.0</td>\n      <td>25.0</td>\n    </tr>\n    <tr>\n      <th>2014-02-01</th>\n      <td>10.0</td>\n      <td>15.0</td>\n      <td>20.0</td>\n      <td>25.0</td>\n      <td>20.0</td>\n      <td>20.0</td>\n      <td>35.0</td>\n      <td>15.0</td>\n      <td>20.0</td>\n      <td>45.0</td>\n      <td>...</td>\n      <td>30.0</td>\n      <td>35.0</td>\n      <td>35.0</td>\n      <td>35.0</td>\n      <td>40.0</td>\n      <td>35.0</td>\n      <td>30.0</td>\n      <td>30.0</td>\n      <td>30.0</td>\n      <td>30.0</td>\n    </tr>\n    <tr>\n      <th>2014-03-01</th>\n      <td>10.0</td>\n      <td>10.0</td>\n      <td>15.0</td>\n      <td>20.0</td>\n      <td>15.0</td>\n      <td>15.0</td>\n      <td>35.0</td>\n      <td>15.0</td>\n      <td>25.0</td>\n      <td>40.0</td>\n      <td>...</td>\n      <td>30.0</td>\n      <td>30.0</td>\n      <td>35.0</td>\n      <td>35.0</td>\n      <td>35.0</td>\n      <td>40.0</td>\n      <td>35.0</td>\n      <td>30.0</td>\n      <td>30.0</td>\n      <td>30.0</td>\n    </tr>\n    <tr>\n      <th>2014-04-01</th>\n      <td>10.0</td>\n      <td>15.0</td>\n      <td>10.0</td>\n      <td>20.0</td>\n      <td>15.0</td>\n      <td>20.0</td>\n      <td>25.0</td>\n      <td>20.0</td>\n      <td>15.0</td>\n      <td>40.0</td>\n      <td>...</td>\n      <td>20.0</td>\n      <td>30.0</td>\n      <td>30.0</td>\n      <td>35.0</td>\n      <td>35.0</td>\n      <td>35.0</td>\n      <td>40.0</td>\n      <td>35.0</td>\n      <td>30.0</td>\n      <td>30.0</td>\n    </tr>\n    <tr>\n      <th>2014-05-01</th>\n      <td>10.0</td>\n      <td>15.0</td>\n      <td>15.0</td>\n      <td>20.0</td>\n      <td>10.0</td>\n      <td>20.0</td>\n      <td>30.0</td>\n      <td>15.0</td>\n      <td>15.0</td>\n      <td>45.0</td>\n      <td>...</td>\n      <td>25.0</td>\n      <td>20.0</td>\n      <td>30.0</td>\n      <td>30.0</td>\n      <td>35.0</td>\n      <td>35.0</td>\n      <td>35.0</td>\n      <td>40.0</td>\n      <td>35.0</td>\n      <td>30.0</td>\n    </tr>\n    <tr>\n      <th>...</th>\n      <td>...</td>\n      <td>...</td>\n      <td>...</td>\n      <td>...</td>\n      <td>...</td>\n      <td>...</td>\n      <td>...</td>\n      <td>...</td>\n      <td>...</td>\n      <td>...</td>\n      <td>...</td>\n      <td>...</td>\n      <td>...</td>\n      <td>...</td>\n      <td>...</td>\n      <td>...</td>\n      <td>...</td>\n      <td>...</td>\n      <td>...</td>\n      <td>...</td>\n      <td>...</td>\n    </tr>\n    <tr>\n      <th>2019-08-01</th>\n      <td>10.0</td>\n      <td>10.0</td>\n      <td>15.0</td>\n      <td>20.0</td>\n      <td>10.0</td>\n      <td>10.0</td>\n      <td>30.0</td>\n      <td>10.0</td>\n      <td>20.0</td>\n      <td>45.0</td>\n      <td>...</td>\n      <td>40.0</td>\n      <td>30.0</td>\n      <td>30.0</td>\n      <td>30.0</td>\n      <td>35.0</td>\n      <td>35.0</td>\n      <td>25.0</td>\n      <td>30.0</td>\n      <td>30.0</td>\n      <td>25.0</td>\n    </tr>\n    <tr>\n      <th>2019-09-01</th>\n      <td>10.0</td>\n      <td>5.0</td>\n      <td>15.0</td>\n      <td>15.0</td>\n      <td>10.0</td>\n      <td>10.0</td>\n      <td>25.0</td>\n      <td>10.0</td>\n      <td>15.0</td>\n      <td>45.0</td>\n      <td>...</td>\n      <td>40.0</td>\n      <td>40.0</td>\n      <td>30.0</td>\n      <td>30.0</td>\n      <td>30.0</td>\n      <td>35.0</td>\n      <td>35.0</td>\n      <td>25.0</td>\n      <td>30.0</td>\n      <td>30.0</td>\n    </tr>\n    <tr>\n      <th>2019-10-01</th>\n      <td>10.0</td>\n      <td>5.0</td>\n      <td>15.0</td>\n      <td>20.0</td>\n      <td>15.0</td>\n      <td>15.0</td>\n      <td>30.0</td>\n      <td>10.0</td>\n      <td>15.0</td>\n      <td>45.0</td>\n      <td>...</td>\n      <td>40.0</td>\n      <td>40.0</td>\n      <td>40.0</td>\n      <td>30.0</td>\n      <td>30.0</td>\n      <td>30.0</td>\n      <td>35.0</td>\n      <td>35.0</td>\n      <td>25.0</td>\n      <td>30.0</td>\n    </tr>\n    <tr>\n      <th>2019-11-01</th>\n      <td>10.0</td>\n      <td>5.0</td>\n      <td>15.0</td>\n      <td>20.0</td>\n      <td>15.0</td>\n      <td>10.0</td>\n      <td>30.0</td>\n      <td>15.0</td>\n      <td>20.0</td>\n      <td>50.0</td>\n      <td>...</td>\n      <td>40.0</td>\n      <td>40.0</td>\n      <td>40.0</td>\n      <td>40.0</td>\n      <td>30.0</td>\n      <td>30.0</td>\n      <td>30.0</td>\n      <td>35.0</td>\n      <td>35.0</td>\n      <td>25.0</td>\n    </tr>\n    <tr>\n      <th>2019-12-01</th>\n      <td>10.0</td>\n      <td>10.0</td>\n      <td>15.0</td>\n      <td>20.0</td>\n      <td>15.0</td>\n      <td>15.0</td>\n      <td>30.0</td>\n      <td>15.0</td>\n      <td>20.0</td>\n      <td>50.0</td>\n      <td>...</td>\n      <td>35.0</td>\n      <td>40.0</td>\n      <td>40.0</td>\n      <td>40.0</td>\n      <td>40.0</td>\n      <td>30.0</td>\n      <td>30.0</td>\n      <td>30.0</td>\n      <td>35.0</td>\n      <td>35.0</td>\n    </tr>\n  </tbody>\n</table>\n<p>72 rows × 2743 columns</p>\n</div>"
     },
     "execution_count": 16,
     "metadata": {},
     "output_type": "execute_result"
    }
   ],
   "source": [
    "allFeatures"
   ],
   "metadata": {
    "collapsed": false,
    "ExecuteTime": {
     "end_time": "2023-06-04T06:57:12.412327290Z",
     "start_time": "2023-06-04T06:57:12.275248686Z"
    }
   }
  },
  {
   "cell_type": "code",
   "execution_count": 17,
   "outputs": [
    {
     "data": {
      "text/plain": "        geogcode                 date  value\n324    E01000248  2013-01-01 00:00:00   15.0\n325    E01000248  2013-02-01 00:00:00   10.0\n326    E01000248  2013-03-01 00:00:00   10.0\n327    E01000248  2013-04-01 00:00:00    5.0\n328    E01000248  2013-05-01 00:00:00    5.0\n...          ...                  ...    ...\n94483  E01000143  2019-08-01 00:00:00   40.0\n94484  E01000143  2019-09-01 00:00:00   40.0\n94485  E01000143  2019-10-01 00:00:00   40.0\n94486  E01000143  2019-11-01 00:00:00   40.0\n94487  E01000143  2019-12-01 00:00:00   45.0\n\n[17724 rows x 3 columns]",
      "text/html": "<div>\n<style scoped>\n    .dataframe tbody tr th:only-of-type {\n        vertical-align: middle;\n    }\n\n    .dataframe tbody tr th {\n        vertical-align: top;\n    }\n\n    .dataframe thead th {\n        text-align: right;\n    }\n</style>\n<table border=\"1\" class=\"dataframe\">\n  <thead>\n    <tr style=\"text-align: right;\">\n      <th></th>\n      <th>geogcode</th>\n      <th>date</th>\n      <th>value</th>\n    </tr>\n  </thead>\n  <tbody>\n    <tr>\n      <th>324</th>\n      <td>E01000248</td>\n      <td>2013-01-01 00:00:00</td>\n      <td>15.0</td>\n    </tr>\n    <tr>\n      <th>325</th>\n      <td>E01000248</td>\n      <td>2013-02-01 00:00:00</td>\n      <td>10.0</td>\n    </tr>\n    <tr>\n      <th>326</th>\n      <td>E01000248</td>\n      <td>2013-03-01 00:00:00</td>\n      <td>10.0</td>\n    </tr>\n    <tr>\n      <th>327</th>\n      <td>E01000248</td>\n      <td>2013-04-01 00:00:00</td>\n      <td>5.0</td>\n    </tr>\n    <tr>\n      <th>328</th>\n      <td>E01000248</td>\n      <td>2013-05-01 00:00:00</td>\n      <td>5.0</td>\n    </tr>\n    <tr>\n      <th>...</th>\n      <td>...</td>\n      <td>...</td>\n      <td>...</td>\n    </tr>\n    <tr>\n      <th>94483</th>\n      <td>E01000143</td>\n      <td>2019-08-01 00:00:00</td>\n      <td>40.0</td>\n    </tr>\n    <tr>\n      <th>94484</th>\n      <td>E01000143</td>\n      <td>2019-09-01 00:00:00</td>\n      <td>40.0</td>\n    </tr>\n    <tr>\n      <th>94485</th>\n      <td>E01000143</td>\n      <td>2019-10-01 00:00:00</td>\n      <td>40.0</td>\n    </tr>\n    <tr>\n      <th>94486</th>\n      <td>E01000143</td>\n      <td>2019-11-01 00:00:00</td>\n      <td>40.0</td>\n    </tr>\n    <tr>\n      <th>94487</th>\n      <td>E01000143</td>\n      <td>2019-12-01 00:00:00</td>\n      <td>45.0</td>\n    </tr>\n  </tbody>\n</table>\n<p>17724 rows × 3 columns</p>\n</div>"
     },
     "execution_count": 17,
     "metadata": {},
     "output_type": "execute_result"
    }
   ],
   "source": [
    "unemployement"
   ],
   "metadata": {
    "collapsed": false,
    "ExecuteTime": {
     "end_time": "2023-06-04T06:57:12.413192379Z",
     "start_time": "2023-06-04T06:57:12.318319130Z"
    }
   }
  },
  {
   "cell_type": "code",
   "execution_count": 18,
   "outputs": [
    {
     "name": "stdout",
     "output_type": "stream",
     "text": [
      "2019-12-01 00:00:00\n"
     ]
    },
    {
     "data": {
      "text/plain": "  0%|          | 0/17935 [00:00<?, ?it/s]",
      "application/vnd.jupyter.widget-view+json": {
       "version_major": 2,
       "version_minor": 0,
       "model_id": "3d92f63feb6648e48fcf7414d16ee67b"
      }
     },
     "metadata": {},
     "output_type": "display_data"
    },
    {
     "data": {
      "text/plain": "  0%|          | 0/211 [00:00<?, ?it/s]",
      "application/vnd.jupyter.widget-view+json": {
       "version_major": 2,
       "version_minor": 0,
       "model_id": "3687a3262a4b4e28a58551d95609fa17"
      }
     },
     "metadata": {},
     "output_type": "display_data"
    },
    {
     "name": "stdout",
     "output_type": "stream",
     "text": [
      "2020-01-01 00:00:00\n"
     ]
    },
    {
     "data": {
      "text/plain": "  0%|          | 0/18146 [00:00<?, ?it/s]",
      "application/vnd.jupyter.widget-view+json": {
       "version_major": 2,
       "version_minor": 0,
       "model_id": "433dc2a27c1d40bebdd4af46b8b16924"
      }
     },
     "metadata": {},
     "output_type": "display_data"
    },
    {
     "ename": "NotImplementedError",
     "evalue": "",
     "output_type": "error",
     "traceback": [
      "\u001B[0;31m---------------------------------------------------------------------------\u001B[0m",
      "\u001B[0;31mNotImplementedError\u001B[0m                       Traceback (most recent call last)",
      "Cell \u001B[0;32mIn[18], line 22\u001B[0m\n\u001B[1;32m     18\u001B[0m new \u001B[38;5;241m=\u001B[39m pd\u001B[38;5;241m.\u001B[39mDataFrame(guessList)\n\u001B[1;32m     21\u001B[0m unemployement \u001B[38;5;241m=\u001B[39m pd\u001B[38;5;241m.\u001B[39mconcat([unemployement, new])\n\u001B[0;32m---> 22\u001B[0m allFeatures\u001B[38;5;241m=\u001B[39m \u001B[43mmakeAllFeatures\u001B[49m\u001B[43m(\u001B[49m\u001B[43munemployement\u001B[49m\u001B[43m,\u001B[49m\u001B[43m \u001B[49m\u001B[43mlsoa_code_list\u001B[49m\u001B[43m)\u001B[49m\n",
      "Cell \u001B[0;32mIn[15], line 20\u001B[0m, in \u001B[0;36mmakeAllFeatures\u001B[0;34m(unemployement, lsoa_code_list)\u001B[0m\n\u001B[1;32m     17\u001B[0m allFeatures \u001B[38;5;241m=\u001B[39m pd\u001B[38;5;241m.\u001B[39mDataFrame(columns\u001B[38;5;241m=\u001B[39mlsoa_code_list, index\u001B[38;5;241m=\u001B[39mpd\u001B[38;5;241m.\u001B[39mto_datetime(unemployement[\u001B[38;5;124m\"\u001B[39m\u001B[38;5;124mdate\u001B[39m\u001B[38;5;124m\"\u001B[39m]\u001B[38;5;241m.\u001B[39munique()))\n\u001B[1;32m     19\u001B[0m \u001B[38;5;28;01mfor\u001B[39;00m row \u001B[38;5;129;01min\u001B[39;00m tqdm(unemployement\u001B[38;5;241m.\u001B[39mindex):\n\u001B[0;32m---> 20\u001B[0m     allFeatures[unemployement[\u001B[38;5;124m\"\u001B[39m\u001B[38;5;124mgeogcode\u001B[39m\u001B[38;5;124m\"\u001B[39m][row]][unemployement[\u001B[38;5;124m\"\u001B[39m\u001B[38;5;124mdate\u001B[39m\u001B[38;5;124m\"\u001B[39m][row]] \u001B[38;5;241m=\u001B[39m unemployement[\u001B[38;5;124m\"\u001B[39m\u001B[38;5;124mvalue\u001B[39m\u001B[38;5;124m\"\u001B[39m][row]\n\u001B[1;32m     22\u001B[0m shiftColumnList \u001B[38;5;241m=\u001B[39m []\n\u001B[1;32m     23\u001B[0m \u001B[38;5;28;01mfor\u001B[39;00m code \u001B[38;5;129;01min\u001B[39;00m tqdm(lsoa_code_list):\n",
      "File \u001B[0;32m~/.local/lib/python3.10/site-packages/pandas/core/frame.py:3968\u001B[0m, in \u001B[0;36mDataFrame.__setitem__\u001B[0;34m(self, key, value)\u001B[0m\n\u001B[1;32m   3966\u001B[0m     \u001B[38;5;28mself\u001B[39m\u001B[38;5;241m.\u001B[39m_setitem_frame(key, value)\n\u001B[1;32m   3967\u001B[0m \u001B[38;5;28;01melif\u001B[39;00m \u001B[38;5;28misinstance\u001B[39m(key, (Series, np\u001B[38;5;241m.\u001B[39mndarray, \u001B[38;5;28mlist\u001B[39m, Index)):\n\u001B[0;32m-> 3968\u001B[0m     \u001B[38;5;28;43mself\u001B[39;49m\u001B[38;5;241;43m.\u001B[39;49m\u001B[43m_setitem_array\u001B[49m\u001B[43m(\u001B[49m\u001B[43mkey\u001B[49m\u001B[43m,\u001B[49m\u001B[43m \u001B[49m\u001B[43mvalue\u001B[49m\u001B[43m)\u001B[49m\n\u001B[1;32m   3969\u001B[0m \u001B[38;5;28;01melif\u001B[39;00m \u001B[38;5;28misinstance\u001B[39m(value, DataFrame):\n\u001B[1;32m   3970\u001B[0m     \u001B[38;5;28mself\u001B[39m\u001B[38;5;241m.\u001B[39m_set_item_frame_value(key, value)\n",
      "File \u001B[0;32m~/.local/lib/python3.10/site-packages/pandas/core/frame.py:4027\u001B[0m, in \u001B[0;36mDataFrame._setitem_array\u001B[0;34m(self, key, value)\u001B[0m\n\u001B[1;32m   4024\u001B[0m     \u001B[38;5;28;01mreturn\u001B[39;00m \u001B[38;5;28mself\u001B[39m\u001B[38;5;241m.\u001B[39m_setitem_array(key, value)\n\u001B[1;32m   4026\u001B[0m \u001B[38;5;28;01melse\u001B[39;00m:\n\u001B[0;32m-> 4027\u001B[0m     \u001B[38;5;28;43mself\u001B[39;49m\u001B[38;5;241;43m.\u001B[39;49m\u001B[43m_iset_not_inplace\u001B[49m\u001B[43m(\u001B[49m\u001B[43mkey\u001B[49m\u001B[43m,\u001B[49m\u001B[43m \u001B[49m\u001B[43mvalue\u001B[49m\u001B[43m)\u001B[49m\n",
      "File \u001B[0;32m~/.local/lib/python3.10/site-packages/pandas/core/frame.py:4056\u001B[0m, in \u001B[0;36mDataFrame._iset_not_inplace\u001B[0;34m(self, key, value)\u001B[0m\n\u001B[1;32m   4053\u001B[0m ilocs \u001B[38;5;241m=\u001B[39m \u001B[38;5;28mself\u001B[39m\u001B[38;5;241m.\u001B[39mcolumns\u001B[38;5;241m.\u001B[39mget_indexer_non_unique(key)[\u001B[38;5;241m0\u001B[39m]\n\u001B[1;32m   4054\u001B[0m \u001B[38;5;28;01mif\u001B[39;00m (ilocs \u001B[38;5;241m<\u001B[39m \u001B[38;5;241m0\u001B[39m)\u001B[38;5;241m.\u001B[39many():\n\u001B[1;32m   4055\u001B[0m     \u001B[38;5;66;03m# key entries not in self.columns\u001B[39;00m\n\u001B[0;32m-> 4056\u001B[0m     \u001B[38;5;28;01mraise\u001B[39;00m \u001B[38;5;167;01mNotImplementedError\u001B[39;00m\n\u001B[1;32m   4058\u001B[0m \u001B[38;5;28;01mif\u001B[39;00m np\u001B[38;5;241m.\u001B[39mshape(value)[\u001B[38;5;241m-\u001B[39m\u001B[38;5;241m1\u001B[39m] \u001B[38;5;241m!=\u001B[39m \u001B[38;5;28mlen\u001B[39m(ilocs):\n\u001B[1;32m   4059\u001B[0m     \u001B[38;5;28;01mraise\u001B[39;00m \u001B[38;5;167;01mValueError\u001B[39;00m(\u001B[38;5;124m\"\u001B[39m\u001B[38;5;124mColumns must be same length as key\u001B[39m\u001B[38;5;124m\"\u001B[39m)\n",
      "\u001B[0;31mNotImplementedError\u001B[0m: "
     ]
    }
   ],
   "source": [
    "for i in range(3):\n",
    "    row = allFeatures[allFeatures.index == list(allFeatures.index)[-1]]\n",
    "    temp = pd.to_datetime(list(row.index)[0])\n",
    "    print(temp)\n",
    "    pd.to_datetime(temp+relativedelta(months=1))\n",
    "    guessList = []\n",
    "    for code in lsoa_code_list:\n",
    "        model = xgb.XGBRegressor()\n",
    "        model.load_model(modelPath(code))\n",
    "        arr = row.values\n",
    "        arr = arr.reshape(-1,1)\n",
    "        arr = arr[211:]\n",
    "        arr = arr.reshape(1,-1)\n",
    "        guess = model.predict(arr)[0]\n",
    "        dct = {\"geogcode\":code, \"date\": pd.to_datetime(temp+relativedelta(months=1)), \"value\":guess}\n",
    "        guessList.append(dct)\n",
    "\n",
    "    new = pd.DataFrame(guessList)\n",
    "\n",
    "\n",
    "    unemployement = pd.concat([unemployement, new])\n",
    "    allFeatures= makeAllFeatures(unemployement, lsoa_code_list)"
   ],
   "metadata": {
    "collapsed": false,
    "ExecuteTime": {
     "end_time": "2023-06-04T06:57:22.595875658Z",
     "start_time": "2023-06-04T06:57:12.318906229Z"
    }
   }
  },
  {
   "cell_type": "code",
   "execution_count": null,
   "outputs": [],
   "source": [
    "allFeatures.tail()"
   ],
   "metadata": {
    "collapsed": false,
    "ExecuteTime": {
     "start_time": "2023-06-04T06:54:35.288168048Z"
    }
   }
  },
  {
   "cell_type": "code",
   "execution_count": 78,
   "outputs": [
    {
     "name": "stdout",
     "output_type": "stream",
     "text": [
      "84\n"
     ]
    },
    {
     "data": {
      "text/plain": "  0%|          | 0/17724 [00:00<?, ?it/s]",
      "application/vnd.jupyter.widget-view+json": {
       "version_major": 2,
       "version_minor": 0,
       "model_id": "170cc217918b4d708cb31ce302cec89e"
      }
     },
     "metadata": {},
     "output_type": "display_data"
    },
    {
     "data": {
      "text/plain": "  0%|          | 0/211 [00:00<?, ?it/s]",
      "application/vnd.jupyter.widget-view+json": {
       "version_major": 2,
       "version_minor": 0,
       "model_id": "67243b590776452d8083a52153032aa8"
      }
     },
     "metadata": {},
     "output_type": "display_data"
    },
    {
     "data": {
      "text/plain": "  0%|          | 0/17935 [00:00<?, ?it/s]",
      "application/vnd.jupyter.widget-view+json": {
       "version_major": 2,
       "version_minor": 0,
       "model_id": "6a581823dd51486e975a492f7f9fe4e6"
      }
     },
     "metadata": {},
     "output_type": "display_data"
    },
    {
     "data": {
      "text/plain": "  0%|          | 0/211 [00:00<?, ?it/s]",
      "application/vnd.jupyter.widget-view+json": {
       "version_major": 2,
       "version_minor": 0,
       "model_id": "3456084bf8454e04a34869373fa7e4ed"
      }
     },
     "metadata": {},
     "output_type": "display_data"
    },
    {
     "data": {
      "text/plain": "  0%|          | 0/18146 [00:00<?, ?it/s]",
      "application/vnd.jupyter.widget-view+json": {
       "version_major": 2,
       "version_minor": 0,
       "model_id": "05c36339bad242a9b2ce306f2f1b7ace"
      }
     },
     "metadata": {},
     "output_type": "display_data"
    },
    {
     "ename": "NotImplementedError",
     "evalue": "",
     "output_type": "error",
     "traceback": [
      "\u001B[0;31m---------------------------------------------------------------------------\u001B[0m",
      "\u001B[0;31mNotImplementedError\u001B[0m                       Traceback (most recent call last)",
      "Cell \u001B[0;32mIn[78], line 3\u001B[0m\n\u001B[1;32m      1\u001B[0m \u001B[38;5;28mprint\u001B[39m(\u001B[38;5;28mlen\u001B[39m(unemployement[\u001B[38;5;124m\"\u001B[39m\u001B[38;5;124mdate\u001B[39m\u001B[38;5;124m\"\u001B[39m]\u001B[38;5;241m.\u001B[39munique()))\n\u001B[1;32m      2\u001B[0m \u001B[38;5;28;01mfor\u001B[39;00m i \u001B[38;5;129;01min\u001B[39;00m \u001B[38;5;28mrange\u001B[39m(\u001B[38;5;241m12\u001B[39m):\n\u001B[0;32m----> 3\u001B[0m     allFeatures \u001B[38;5;241m=\u001B[39m \u001B[43mmakeAllFeatures\u001B[49m\u001B[43m(\u001B[49m\u001B[43munemployement\u001B[49m\u001B[38;5;241;43m.\u001B[39;49m\u001B[43mcopy\u001B[49m\u001B[43m(\u001B[49m\u001B[43m)\u001B[49m\u001B[43m,\u001B[49m\u001B[43m \u001B[49m\u001B[43mlsoa_code_list\u001B[49m\u001B[43m)\u001B[49m\n\u001B[1;32m      4\u001B[0m     final_row \u001B[38;5;241m=\u001B[39m allFeatures[allFeatures\u001B[38;5;241m.\u001B[39mindex \u001B[38;5;241m==\u001B[39m \u001B[38;5;28mlist\u001B[39m(allFeatures\u001B[38;5;241m.\u001B[39mindex)[\u001B[38;5;241m-\u001B[39m\u001B[38;5;241m1\u001B[39m]]\n\u001B[1;32m      5\u001B[0m     date \u001B[38;5;241m=\u001B[39m pd\u001B[38;5;241m.\u001B[39mto_datetime(\u001B[38;5;28mlist\u001B[39m(row\u001B[38;5;241m.\u001B[39mindex)[\u001B[38;5;241m0\u001B[39m])\n",
      "Cell \u001B[0;32mIn[69], line 20\u001B[0m, in \u001B[0;36mmakeAllFeatures\u001B[0;34m(unemployement, lsoa_code_list)\u001B[0m\n\u001B[1;32m     17\u001B[0m allFeatures \u001B[38;5;241m=\u001B[39m pd\u001B[38;5;241m.\u001B[39mDataFrame(columns\u001B[38;5;241m=\u001B[39mlsoa_code_list, index\u001B[38;5;241m=\u001B[39mpd\u001B[38;5;241m.\u001B[39mto_datetime(unemployement[\u001B[38;5;124m\"\u001B[39m\u001B[38;5;124mdate\u001B[39m\u001B[38;5;124m\"\u001B[39m]\u001B[38;5;241m.\u001B[39munique()))\n\u001B[1;32m     19\u001B[0m \u001B[38;5;28;01mfor\u001B[39;00m row \u001B[38;5;129;01min\u001B[39;00m tqdm(unemployement\u001B[38;5;241m.\u001B[39mindex):\n\u001B[0;32m---> 20\u001B[0m     allFeatures[unemployement[\u001B[38;5;124m\"\u001B[39m\u001B[38;5;124mgeogcode\u001B[39m\u001B[38;5;124m\"\u001B[39m][row]][unemployement[\u001B[38;5;124m\"\u001B[39m\u001B[38;5;124mdate\u001B[39m\u001B[38;5;124m\"\u001B[39m][row]] \u001B[38;5;241m=\u001B[39m unemployement[\u001B[38;5;124m\"\u001B[39m\u001B[38;5;124mvalue\u001B[39m\u001B[38;5;124m\"\u001B[39m][row]\n\u001B[1;32m     22\u001B[0m shiftColumnList \u001B[38;5;241m=\u001B[39m []\n\u001B[1;32m     23\u001B[0m \u001B[38;5;28;01mfor\u001B[39;00m code \u001B[38;5;129;01min\u001B[39;00m tqdm(lsoa_code_list):\n",
      "File \u001B[0;32m~/.local/lib/python3.10/site-packages/pandas/core/frame.py:3968\u001B[0m, in \u001B[0;36mDataFrame.__setitem__\u001B[0;34m(self, key, value)\u001B[0m\n\u001B[1;32m   3966\u001B[0m     \u001B[38;5;28mself\u001B[39m\u001B[38;5;241m.\u001B[39m_setitem_frame(key, value)\n\u001B[1;32m   3967\u001B[0m \u001B[38;5;28;01melif\u001B[39;00m \u001B[38;5;28misinstance\u001B[39m(key, (Series, np\u001B[38;5;241m.\u001B[39mndarray, \u001B[38;5;28mlist\u001B[39m, Index)):\n\u001B[0;32m-> 3968\u001B[0m     \u001B[38;5;28;43mself\u001B[39;49m\u001B[38;5;241;43m.\u001B[39;49m\u001B[43m_setitem_array\u001B[49m\u001B[43m(\u001B[49m\u001B[43mkey\u001B[49m\u001B[43m,\u001B[49m\u001B[43m \u001B[49m\u001B[43mvalue\u001B[49m\u001B[43m)\u001B[49m\n\u001B[1;32m   3969\u001B[0m \u001B[38;5;28;01melif\u001B[39;00m \u001B[38;5;28misinstance\u001B[39m(value, DataFrame):\n\u001B[1;32m   3970\u001B[0m     \u001B[38;5;28mself\u001B[39m\u001B[38;5;241m.\u001B[39m_set_item_frame_value(key, value)\n",
      "File \u001B[0;32m~/.local/lib/python3.10/site-packages/pandas/core/frame.py:4027\u001B[0m, in \u001B[0;36mDataFrame._setitem_array\u001B[0;34m(self, key, value)\u001B[0m\n\u001B[1;32m   4024\u001B[0m     \u001B[38;5;28;01mreturn\u001B[39;00m \u001B[38;5;28mself\u001B[39m\u001B[38;5;241m.\u001B[39m_setitem_array(key, value)\n\u001B[1;32m   4026\u001B[0m \u001B[38;5;28;01melse\u001B[39;00m:\n\u001B[0;32m-> 4027\u001B[0m     \u001B[38;5;28;43mself\u001B[39;49m\u001B[38;5;241;43m.\u001B[39;49m\u001B[43m_iset_not_inplace\u001B[49m\u001B[43m(\u001B[49m\u001B[43mkey\u001B[49m\u001B[43m,\u001B[49m\u001B[43m \u001B[49m\u001B[43mvalue\u001B[49m\u001B[43m)\u001B[49m\n",
      "File \u001B[0;32m~/.local/lib/python3.10/site-packages/pandas/core/frame.py:4056\u001B[0m, in \u001B[0;36mDataFrame._iset_not_inplace\u001B[0;34m(self, key, value)\u001B[0m\n\u001B[1;32m   4053\u001B[0m ilocs \u001B[38;5;241m=\u001B[39m \u001B[38;5;28mself\u001B[39m\u001B[38;5;241m.\u001B[39mcolumns\u001B[38;5;241m.\u001B[39mget_indexer_non_unique(key)[\u001B[38;5;241m0\u001B[39m]\n\u001B[1;32m   4054\u001B[0m \u001B[38;5;28;01mif\u001B[39;00m (ilocs \u001B[38;5;241m<\u001B[39m \u001B[38;5;241m0\u001B[39m)\u001B[38;5;241m.\u001B[39many():\n\u001B[1;32m   4055\u001B[0m     \u001B[38;5;66;03m# key entries not in self.columns\u001B[39;00m\n\u001B[0;32m-> 4056\u001B[0m     \u001B[38;5;28;01mraise\u001B[39;00m \u001B[38;5;167;01mNotImplementedError\u001B[39;00m\n\u001B[1;32m   4058\u001B[0m \u001B[38;5;28;01mif\u001B[39;00m np\u001B[38;5;241m.\u001B[39mshape(value)[\u001B[38;5;241m-\u001B[39m\u001B[38;5;241m1\u001B[39m] \u001B[38;5;241m!=\u001B[39m \u001B[38;5;28mlen\u001B[39m(ilocs):\n\u001B[1;32m   4059\u001B[0m     \u001B[38;5;28;01mraise\u001B[39;00m \u001B[38;5;167;01mValueError\u001B[39;00m(\u001B[38;5;124m\"\u001B[39m\u001B[38;5;124mColumns must be same length as key\u001B[39m\u001B[38;5;124m\"\u001B[39m)\n",
      "\u001B[0;31mNotImplementedError\u001B[0m: "
     ]
    }
   ],
   "source": [
    "print(len(unemployement[\"date\"].unique()))\n",
    "for i in tqdm(range(12)):\n",
    "    allFeatures = makeAllFeatures(unemployement.copy(), lsoa_code_list)\n",
    "    final_row = allFeatures[allFeatures.index == list(allFeatures.index)[-1]]\n",
    "    date = pd.to_datetime(list(row.index)[0])\n",
    "    guessDate = pd.to_datetime(date+relativedelta(months=1))\n",
    "\n",
    "\n",
    "    guessList = []\n",
    "    for code in lsoa_code_list:\n",
    "        model = xgb.XGBRegressor()\n",
    "        model.load_model(modelPath(code))\n",
    "        arr = row.values\n",
    "        arr = arr.reshape(-1,1)\n",
    "        arr = arr[211:]\n",
    "        arr = arr.reshape(1,-1)\n",
    "        guess = model.predict(arr)[0]\n",
    "        dct = {\"geogcode\":code, \"date\": pd.to_datetime(temp+relativedelta(months=1)), \"value\":guess}\n",
    "        guessList.append(dct)\n",
    "    new = pd.DataFrame(guessList)\n",
    "    unemployement = pd.concat([unemployement, new])\n",
    "\n",
    "print(len(unemployement[\"date\"].unique()))\n",
    "\n"
   ],
   "metadata": {
    "collapsed": false,
    "ExecuteTime": {
     "end_time": "2023-06-04T06:50:50.900644672Z",
     "start_time": "2023-06-04T06:50:38.248390730Z"
    }
   }
  },
  {
   "cell_type": "code",
   "execution_count": null,
   "outputs": [],
   "source": [],
   "metadata": {
    "collapsed": false
   }
  }
 ],
 "metadata": {
  "kernelspec": {
   "display_name": "Python 3",
   "language": "python",
   "name": "python3"
  },
  "language_info": {
   "codemirror_mode": {
    "name": "ipython",
    "version": 2
   },
   "file_extension": ".py",
   "mimetype": "text/x-python",
   "name": "python",
   "nbconvert_exporter": "python",
   "pygments_lexer": "ipython2",
   "version": "2.7.6"
  }
 },
 "nbformat": 4,
 "nbformat_minor": 0
}
