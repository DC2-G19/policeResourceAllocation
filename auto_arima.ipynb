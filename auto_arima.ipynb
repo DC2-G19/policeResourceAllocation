{
 "cells": [
  {
   "cell_type": "code",
   "execution_count": 61,
   "metadata": {
    "collapsed": true,
    "ExecuteTime": {
     "end_time": "2023-06-19T10:51:25.580846720Z",
     "start_time": "2023-06-19T10:51:25.570549187Z"
    }
   },
   "outputs": [],
   "source": [
    "import sqlite3\n",
    "import pandas as pd\n",
    "import numpy as np\n",
    "import pmdarima as pmd\n",
    "from pathlib import Path\n",
    "from sklearn.model_selection import train_test_split"
   ]
  },
  {
   "cell_type": "code",
   "execution_count": 28,
   "outputs": [],
   "source": [
    "cwd = Path.cwd()\n",
    "parent = cwd.parent\n",
    "finalDBpath = parent.joinpath(\"data/database_final.db\")\n"
   ],
   "metadata": {
    "collapsed": false,
    "ExecuteTime": {
     "end_time": "2023-06-19T10:26:26.333469705Z",
     "start_time": "2023-06-19T10:26:26.287301817Z"
    }
   }
  },
  {
   "cell_type": "code",
   "execution_count": 29,
   "outputs": [],
   "source": [
    "query_unemployment = \"SELECT * FROM montly_unemployement_claimant_count_by_lsoa_barnet\"\n",
    "conn = sqlite3.connect(finalDBpath)\n",
    "\n",
    "unemploymentDF = pd.read_sql(query_unemployment, conn)\n",
    "unemploymentDF.drop(columns=[\"index\"], inplace=True)"
   ],
   "metadata": {
    "collapsed": false,
    "ExecuteTime": {
     "end_time": "2023-06-19T10:26:26.447804865Z",
     "start_time": "2023-06-19T10:26:26.287511311Z"
    }
   }
  },
  {
   "cell_type": "code",
   "execution_count": 30,
   "outputs": [],
   "source": [
    "unemploymentDF = unemploymentDF[unemploymentDF[\"geogcode\"] == \"Column Total\"]\n",
    "unemploymentDF.dropna(inplace=True)"
   ],
   "metadata": {
    "collapsed": false,
    "ExecuteTime": {
     "end_time": "2023-06-19T10:26:26.448187169Z",
     "start_time": "2023-06-19T10:26:26.376823139Z"
    }
   }
  },
  {
   "cell_type": "code",
   "execution_count": 31,
   "outputs": [],
   "source": [
    "unemploymentDF[\"date\"] = pd.to_datetime(unemploymentDF[\"date\"])\n",
    "unemploymentDF = unemploymentDF[unemploymentDF[\"date\"]<\"2020\"]\n",
    "unemploymentDF.reset_index(drop=True, inplace=True)\n",
    "\n",
    "del unemploymentDF[\"geogcode\"]"
   ],
   "metadata": {
    "collapsed": false,
    "ExecuteTime": {
     "end_time": "2023-06-19T10:26:26.448373798Z",
     "start_time": "2023-06-19T10:26:26.385282048Z"
    }
   }
  },
  {
   "cell_type": "code",
   "execution_count": 32,
   "outputs": [
    {
     "data": {
      "text/plain": "<Axes: >"
     },
     "execution_count": 32,
     "metadata": {},
     "output_type": "execute_result"
    },
    {
     "data": {
      "text/plain": "<Figure size 640x480 with 1 Axes>",
      "image/png": "[encoded data removed]"
     },
     "metadata": {},
     "output_type": "display_data"
    }
   ],
   "source": [
    "unemploymentDF[\"value\"].plot()"
   ],
   "metadata": {
    "collapsed": false,
    "ExecuteTime": {
     "end_time": "2023-06-19T10:26:26.610595951Z",
     "start_time": "2023-06-19T10:26:26.394938535Z"
    }
   }
  },
  {
   "cell_type": "code",
   "execution_count": 44,
   "outputs": [
    {
     "data": {
      "text/plain": "(0.99, True)"
     },
     "execution_count": 44,
     "metadata": {},
     "output_type": "execute_result"
    }
   ],
   "source": [
    "ADF_test = pmd.arima.ADFTest(alpha=0.05)\n",
    "ADF_test.should_diff(unemploymentDF[\"value\"])"
   ],
   "metadata": {
    "collapsed": false,
    "ExecuteTime": {
     "end_time": "2023-06-19T10:32:20.653634358Z",
     "start_time": "2023-06-19T10:32:20.617552356Z"
    }
   }
  },
  {
   "cell_type": "code",
   "execution_count": 33,
   "outputs": [],
   "source": [
    "trainSize = int(len(unemploymentDF) * .8)\n"
   ],
   "metadata": {
    "collapsed": false,
    "ExecuteTime": {
     "end_time": "2023-06-19T10:26:26.610800916Z",
     "start_time": "2023-06-19T10:26:26.605261865Z"
    }
   }
  },
  {
   "cell_type": "code",
   "execution_count": 34,
   "outputs": [],
   "source": [
    "test = unemploymentDF[unemploymentDF.index >= trainSize]\n",
    "train = unemploymentDF[unemploymentDF.index < trainSize]"
   ],
   "metadata": {
    "collapsed": false,
    "ExecuteTime": {
     "end_time": "2023-06-19T10:26:26.684491056Z",
     "start_time": "2023-06-19T10:26:26.607970027Z"
    }
   }
  },
  {
   "cell_type": "code",
   "execution_count": 35,
   "outputs": [
    {
     "data": {
      "text/plain": "         date   value\n0  2013-01-01  6580.0\n1  2013-02-01  6705.0\n2  2013-03-01  6625.0\n3  2013-04-01  6495.0\n4  2013-05-01  6315.0\n..        ...     ...\n62 2018-03-01  3645.0\n63 2018-04-01  3600.0\n64 2018-05-01  3600.0\n65 2018-06-01  3565.0\n66 2018-07-01  3645.0\n\n[67 rows x 2 columns]",
      "text/html": "<div>\n<style scoped>\n    .dataframe tbody tr th:only-of-type {\n        vertical-align: middle;\n    }\n\n    .dataframe tbody tr th {\n        vertical-align: top;\n    }\n\n    .dataframe thead th {\n        text-align: right;\n    }\n</style>\n<table border=\"1\" class=\"dataframe\">\n  <thead>\n    <tr style=\"text-align: right;\">\n      <th></th>\n      <th>date</th>\n      <th>value</th>\n    </tr>\n  </thead>\n  <tbody>\n    <tr>\n      <th>0</th>\n      <td>2013-01-01</td>\n      <td>6580.0</td>\n    </tr>\n    <tr>\n      <th>1</th>\n      <td>2013-02-01</td>\n      <td>6705.0</td>\n    </tr>\n    <tr>\n      <th>2</th>\n      <td>2013-03-01</td>\n      <td>6625.0</td>\n    </tr>\n    <tr>\n      <th>3</th>\n      <td>2013-04-01</td>\n      <td>6495.0</td>\n    </tr>\n    <tr>\n      <th>4</th>\n      <td>2013-05-01</td>\n      <td>6315.0</td>\n    </tr>\n    <tr>\n      <th>...</th>\n      <td>...</td>\n      <td>...</td>\n    </tr>\n    <tr>\n      <th>62</th>\n      <td>2018-03-01</td>\n      <td>3645.0</td>\n    </tr>\n    <tr>\n      <th>63</th>\n      <td>2018-04-01</td>\n      <td>3600.0</td>\n    </tr>\n    <tr>\n      <th>64</th>\n      <td>2018-05-01</td>\n      <td>3600.0</td>\n    </tr>\n    <tr>\n      <th>65</th>\n      <td>2018-06-01</td>\n      <td>3565.0</td>\n    </tr>\n    <tr>\n      <th>66</th>\n      <td>2018-07-01</td>\n      <td>3645.0</td>\n    </tr>\n  </tbody>\n</table>\n<p>67 rows × 2 columns</p>\n</div>"
     },
     "execution_count": 35,
     "metadata": {},
     "output_type": "execute_result"
    }
   ],
   "source": [
    "train"
   ],
   "metadata": {
    "collapsed": false,
    "ExecuteTime": {
     "end_time": "2023-06-19T10:26:26.684868779Z",
     "start_time": "2023-06-19T10:26:26.655204824Z"
    }
   }
  },
  {
   "cell_type": "code",
   "execution_count": 45,
   "outputs": [],
   "source": [
    "sarima = pmd.auto_arima(train[\"value\"], d=0)"
   ],
   "metadata": {
    "collapsed": false,
    "ExecuteTime": {
     "end_time": "2023-06-19T10:39:04.028288682Z",
     "start_time": "2023-06-19T10:39:02.590109198Z"
    }
   }
  },
  {
   "cell_type": "code",
   "execution_count": 46,
   "outputs": [
    {
     "data": {
      "text/plain": "<class 'statsmodels.iolib.summary.Summary'>\n\"\"\"\n                               SARIMAX Results                                \n==============================================================================\nDep. Variable:                      y   No. Observations:                   67\nModel:               SARIMAX(1, 0, 3)   Log Likelihood                -391.016\nDate:                Mon, 19 Jun 2023   AIC                            794.032\nTime:                        12:39:04   BIC                            807.260\nSample:                             0   HQIC                           799.267\n                                 - 67                                         \nCovariance Type:                  opg                                         \n==============================================================================\n                 coef    std err          z      P>|z|      [0.025      0.975]\n------------------------------------------------------------------------------\nintercept    116.3464    129.532      0.898      0.369    -137.532     370.224\nar.L1          0.9743      0.025     39.049      0.000       0.925       1.023\nma.L1          0.6693      0.148      4.529      0.000       0.380       0.959\nma.L2          0.7360      0.154      4.767      0.000       0.433       1.039\nma.L3          0.2499      0.156      1.602      0.109      -0.056       0.556\nsigma2      6337.7306   1016.826      6.233      0.000    4344.788    8330.673\n===================================================================================\nLjung-Box (L1) (Q):                   1.33   Jarque-Bera (JB):                 1.31\nProb(Q):                              0.25   Prob(JB):                         0.52\nHeteroskedasticity (H):               0.25   Skew:                            -0.16\nProb(H) (two-sided):                  0.00   Kurtosis:                         3.60\n===================================================================================\n\nWarnings:\n[1] Covariance matrix calculated using the outer product of gradients (complex-step).\n\"\"\"",
      "text/html": "<table class=\"simpletable\">\n<caption>SARIMAX Results</caption>\n<tr>\n  <th>Dep. Variable:</th>           <td>y</td>        <th>  No. Observations:  </th>    <td>67</td>   \n</tr>\n<tr>\n  <th>Model:</th>           <td>SARIMAX(1, 0, 3)</td> <th>  Log Likelihood     </th> <td>-391.016</td>\n</tr>\n<tr>\n  <th>Date:</th>            <td>Mon, 19 Jun 2023</td> <th>  AIC                </th>  <td>794.032</td>\n</tr>\n<tr>\n  <th>Time:</th>                <td>12:39:04</td>     <th>  BIC                </th>  <td>807.260</td>\n</tr>\n<tr>\n  <th>Sample:</th>                  <td>0</td>        <th>  HQIC               </th>  <td>799.267</td>\n</tr>\n<tr>\n  <th></th>                       <td> - 67</td>      <th>                     </th>     <td> </td>   \n</tr>\n<tr>\n  <th>Covariance Type:</th>        <td>opg</td>       <th>                     </th>     <td> </td>   \n</tr>\n</table>\n<table class=\"simpletable\">\n<tr>\n      <td></td>         <th>coef</th>     <th>std err</th>      <th>z</th>      <th>P>|z|</th>  <th>[0.025</th>    <th>0.975]</th>  \n</tr>\n<tr>\n  <th>intercept</th> <td>  116.3464</td> <td>  129.532</td> <td>    0.898</td> <td> 0.369</td> <td> -137.532</td> <td>  370.224</td>\n</tr>\n<tr>\n  <th>ar.L1</th>     <td>    0.9743</td> <td>    0.025</td> <td>   39.049</td> <td> 0.000</td> <td>    0.925</td> <td>    1.023</td>\n</tr>\n<tr>\n  <th>ma.L1</th>     <td>    0.6693</td> <td>    0.148</td> <td>    4.529</td> <td> 0.000</td> <td>    0.380</td> <td>    0.959</td>\n</tr>\n<tr>\n  <th>ma.L2</th>     <td>    0.7360</td> <td>    0.154</td> <td>    4.767</td> <td> 0.000</td> <td>    0.433</td> <td>    1.039</td>\n</tr>\n<tr>\n  <th>ma.L3</th>     <td>    0.2499</td> <td>    0.156</td> <td>    1.602</td> <td> 0.109</td> <td>   -0.056</td> <td>    0.556</td>\n</tr>\n<tr>\n  <th>sigma2</th>    <td> 6337.7306</td> <td> 1016.826</td> <td>    6.233</td> <td> 0.000</td> <td> 4344.788</td> <td> 8330.673</td>\n</tr>\n</table>\n<table class=\"simpletable\">\n<tr>\n  <th>Ljung-Box (L1) (Q):</th>     <td>1.33</td> <th>  Jarque-Bera (JB):  </th> <td>1.31</td> \n</tr>\n<tr>\n  <th>Prob(Q):</th>                <td>0.25</td> <th>  Prob(JB):          </th> <td>0.52</td> \n</tr>\n<tr>\n  <th>Heteroskedasticity (H):</th> <td>0.25</td> <th>  Skew:              </th> <td>-0.16</td>\n</tr>\n<tr>\n  <th>Prob(H) (two-sided):</th>    <td>0.00</td> <th>  Kurtosis:          </th> <td>3.60</td> \n</tr>\n</table><br/><br/>Warnings:<br/>[1] Covariance matrix calculated using the outer product of gradients (complex-step)."
     },
     "execution_count": 46,
     "metadata": {},
     "output_type": "execute_result"
    }
   ],
   "source": [
    "sarima.summary()"
   ],
   "metadata": {
    "collapsed": false,
    "ExecuteTime": {
     "end_time": "2023-06-19T10:39:04.714295437Z",
     "start_time": "2023-06-19T10:39:04.693632052Z"
    }
   }
  },
  {
   "cell_type": "code",
   "execution_count": 47,
   "outputs": [],
   "source": [
    "pred = sarima.predict((len(unemploymentDF)-trainSize))\n",
    "true = test[\"value\"]"
   ],
   "metadata": {
    "collapsed": false,
    "ExecuteTime": {
     "end_time": "2023-06-19T10:39:12.244605982Z",
     "start_time": "2023-06-19T10:39:12.238110071Z"
    }
   }
  },
  {
   "cell_type": "code",
   "execution_count": 48,
   "outputs": [],
   "source": [
    "from sklearn.metrics import mean_squared_error, r2_score, mean_absolute_error, median_absolute_error, mean_absolute_percentage_error"
   ],
   "metadata": {
    "collapsed": false,
    "ExecuteTime": {
     "end_time": "2023-06-19T10:39:13.030179963Z",
     "start_time": "2023-06-19T10:39:13.014594678Z"
    }
   }
  },
  {
   "cell_type": "code",
   "execution_count": 49,
   "outputs": [],
   "source": [
    "rmse = np.sqrt(mean_squared_error(true, pred))\n",
    "mae = mean_absolute_error(true, pred)\n",
    "mape = mean_absolute_percentage_error(true, pred)"
   ],
   "metadata": {
    "collapsed": false,
    "ExecuteTime": {
     "end_time": "2023-06-19T10:39:13.409401632Z",
     "start_time": "2023-06-19T10:39:13.397878255Z"
    }
   }
  },
  {
   "cell_type": "code",
   "execution_count": 50,
   "outputs": [
    {
     "data": {
      "text/plain": "               RMSE          MAE      MAPE\nSARIMA  1369.507576  1180.167528  0.216447",
      "text/html": "<div>\n<style scoped>\n    .dataframe tbody tr th:only-of-type {\n        vertical-align: middle;\n    }\n\n    .dataframe tbody tr th {\n        vertical-align: top;\n    }\n\n    .dataframe thead th {\n        text-align: right;\n    }\n</style>\n<table border=\"1\" class=\"dataframe\">\n  <thead>\n    <tr style=\"text-align: right;\">\n      <th></th>\n      <th>RMSE</th>\n      <th>MAE</th>\n      <th>MAPE</th>\n    </tr>\n  </thead>\n  <tbody>\n    <tr>\n      <th>SARIMA</th>\n      <td>1369.507576</td>\n      <td>1180.167528</td>\n      <td>0.216447</td>\n    </tr>\n  </tbody>\n</table>\n</div>"
     },
     "execution_count": 50,
     "metadata": {},
     "output_type": "execute_result"
    }
   ],
   "source": [
    "pd.DataFrame({\"RMSE\": [rmse],\"MAE\": [mae],\"MAPE\": [mape]}, index=[\"SARIMA\"])"
   ],
   "metadata": {
    "collapsed": false,
    "ExecuteTime": {
     "end_time": "2023-06-19T10:39:13.857688317Z",
     "start_time": "2023-06-19T10:39:13.840076958Z"
    }
   }
  },
  {
   "cell_type": "code",
   "execution_count": 51,
   "outputs": [],
   "source": [
    "import xgboost as xgb"
   ],
   "metadata": {
    "collapsed": false,
    "ExecuteTime": {
     "end_time": "2023-06-19T10:46:38.958736680Z",
     "start_time": "2023-06-19T10:46:38.923867476Z"
    }
   }
  },
  {
   "cell_type": "code",
   "execution_count": 58,
   "outputs": [],
   "source": [
    "wLags = pd.DataFrame()\n",
    "wLags[\"value\"] = unemploymentDF[\"value\"].copy()\n",
    "for i in range(12):\n",
    "    wLags[f\"lag_{i+1}\"] = wLags[\"value\"].shift(i+1)"
   ],
   "metadata": {
    "collapsed": false,
    "ExecuteTime": {
     "end_time": "2023-06-19T10:49:29.359452106Z",
     "start_time": "2023-06-19T10:49:29.351956046Z"
    }
   }
  },
  {
   "cell_type": "code",
   "execution_count": 63,
   "outputs": [],
   "source": [
    "wLags.dropna(inplace=True)\n",
    "y = wLags[\"value\"].copy()\n",
    "x = wLags.drop(columns= [\"value\"]).copy()\n",
    "x_train, x_test, y_train, y_test = train_test_split(x,y)\n"
   ],
   "metadata": {
    "collapsed": false,
    "ExecuteTime": {
     "end_time": "2023-06-19T10:52:05.470114670Z",
     "start_time": "2023-06-19T10:52:05.462839900Z"
    }
   }
  },
  {
   "cell_type": "code",
   "execution_count": 64,
   "outputs": [
    {
     "data": {
      "text/plain": "     lag_1   lag_2   lag_3   lag_4   lag_5   lag_6   lag_7   lag_8   lag_9  \\\n42  3650.0  3690.0  3670.0  3655.0  3680.0  3575.0  3605.0  3710.0  3775.0   \n14  5205.0  5165.0  5210.0  5330.0  5600.0  5875.0  5970.0  6080.0  6115.0   \n68  3715.0  3645.0  3565.0  3600.0  3600.0  3645.0  3590.0  3490.0  3425.0   \n58  3515.0  3545.0  3540.0  3525.0  3510.0  3600.0  3650.0  3690.0  3600.0   \n44  3620.0  3680.0  3650.0  3690.0  3670.0  3655.0  3680.0  3575.0  3605.0   \n38  3680.0  3575.0  3605.0  3710.0  3775.0  3775.0  3730.0  3630.0  3690.0   \n51  3690.0  3600.0  3555.0  3515.0  3620.0  3660.0  3670.0  3620.0  3680.0   \n29  3700.0  3805.0  3825.0  3935.0  3890.0  3855.0  3945.0  4075.0  4190.0   \n32  3730.0  3630.0  3690.0  3700.0  3805.0  3825.0  3935.0  3890.0  3855.0   \n35  3710.0  3775.0  3775.0  3730.0  3630.0  3690.0  3700.0  3805.0  3825.0   \n77  5225.0  5070.0  4945.0  4800.0  4540.0  4435.0  4240.0  4130.0  3925.0   \n43  3680.0  3650.0  3690.0  3670.0  3655.0  3680.0  3575.0  3605.0  3710.0   \n55  3525.0  3510.0  3600.0  3650.0  3690.0  3600.0  3555.0  3515.0  3620.0   \n33  3775.0  3730.0  3630.0  3690.0  3700.0  3805.0  3825.0  3935.0  3890.0   \n39  3655.0  3680.0  3575.0  3605.0  3710.0  3775.0  3775.0  3730.0  3630.0   \n70  4130.0  3925.0  3715.0  3645.0  3565.0  3600.0  3600.0  3645.0  3590.0   \n52  3650.0  3690.0  3600.0  3555.0  3515.0  3620.0  3660.0  3670.0  3620.0   \n79  5625.0  5560.0  5225.0  5070.0  4945.0  4800.0  4540.0  4435.0  4240.0   \n24  3855.0  3945.0  4075.0  4190.0  4315.0  4410.0  4470.0  4800.0  4945.0   \n67  3645.0  3565.0  3600.0  3600.0  3645.0  3590.0  3490.0  3425.0  3445.0   \n57  3545.0  3540.0  3525.0  3510.0  3600.0  3650.0  3690.0  3600.0  3555.0   \n20  4315.0  4410.0  4470.0  4800.0  4945.0  5085.0  5205.0  5165.0  5210.0   \n25  3890.0  3855.0  3945.0  4075.0  4190.0  4315.0  4410.0  4470.0  4800.0   \n74  4800.0  4540.0  4435.0  4240.0  4130.0  3925.0  3715.0  3645.0  3565.0   \n18  4470.0  4800.0  4945.0  5085.0  5205.0  5165.0  5210.0  5330.0  5600.0   \n75  4945.0  4800.0  4540.0  4435.0  4240.0  4130.0  3925.0  3715.0  3645.0   \n28  3805.0  3825.0  3935.0  3890.0  3855.0  3945.0  4075.0  4190.0  4315.0   \n37  3575.0  3605.0  3710.0  3775.0  3775.0  3730.0  3630.0  3690.0  3700.0   \n81  5805.0  5665.0  5625.0  5560.0  5225.0  5070.0  4945.0  4800.0  4540.0   \n40  3670.0  3655.0  3680.0  3575.0  3605.0  3710.0  3775.0  3775.0  3730.0   \n73  4540.0  4435.0  4240.0  4130.0  3925.0  3715.0  3645.0  3565.0  3600.0   \n71  4240.0  4130.0  3925.0  3715.0  3645.0  3565.0  3600.0  3600.0  3645.0   \n78  5560.0  5225.0  5070.0  4945.0  4800.0  4540.0  4435.0  4240.0  4130.0   \n46  3660.0  3670.0  3620.0  3680.0  3650.0  3690.0  3670.0  3655.0  3680.0   \n56  3540.0  3525.0  3510.0  3600.0  3650.0  3690.0  3600.0  3555.0  3515.0   \n17  4800.0  4945.0  5085.0  5205.0  5165.0  5210.0  5330.0  5600.0  5875.0   \n16  4945.0  5085.0  5205.0  5165.0  5210.0  5330.0  5600.0  5875.0  5970.0   \n47  3620.0  3660.0  3670.0  3620.0  3680.0  3650.0  3690.0  3670.0  3655.0   \n41  3690.0  3670.0  3655.0  3680.0  3575.0  3605.0  3710.0  3775.0  3775.0   \n23  3945.0  4075.0  4190.0  4315.0  4410.0  4470.0  4800.0  4945.0  5085.0   \n54  3510.0  3600.0  3650.0  3690.0  3600.0  3555.0  3515.0  3620.0  3660.0   \n83  6145.0  6025.0  5805.0  5665.0  5625.0  5560.0  5225.0  5070.0  4945.0   \n80  5665.0  5625.0  5560.0  5225.0  5070.0  4945.0  4800.0  4540.0  4435.0   \n66  3565.0  3600.0  3600.0  3645.0  3590.0  3490.0  3425.0  3445.0  3515.0   \n45  3670.0  3620.0  3680.0  3650.0  3690.0  3670.0  3655.0  3680.0  3575.0   \n34  3775.0  3775.0  3730.0  3630.0  3690.0  3700.0  3805.0  3825.0  3935.0   \n76  5070.0  4945.0  4800.0  4540.0  4435.0  4240.0  4130.0  3925.0  3715.0   \n49  3555.0  3515.0  3620.0  3660.0  3670.0  3620.0  3680.0  3650.0  3690.0   \n30  3690.0  3700.0  3805.0  3825.0  3935.0  3890.0  3855.0  3945.0  4075.0   \n50  3600.0  3555.0  3515.0  3620.0  3660.0  3670.0  3620.0  3680.0  3650.0   \n65  3600.0  3600.0  3645.0  3590.0  3490.0  3425.0  3445.0  3515.0  3545.0   \n15  5085.0  5205.0  5165.0  5210.0  5330.0  5600.0  5875.0  5970.0  6080.0   \n64  3600.0  3645.0  3590.0  3490.0  3425.0  3445.0  3515.0  3545.0  3540.0   \n48  3515.0  3620.0  3660.0  3670.0  3620.0  3680.0  3650.0  3690.0  3670.0   \n\n    lag_10  lag_11  lag_12  \n42  3775.0  3730.0  3630.0  \n14  6315.0  6495.0  6625.0  \n68  3445.0  3515.0  3545.0  \n58  3555.0  3515.0  3620.0  \n44  3710.0  3775.0  3775.0  \n38  3700.0  3805.0  3825.0  \n51  3650.0  3690.0  3670.0  \n29  4315.0  4410.0  4470.0  \n32  3945.0  4075.0  4190.0  \n35  3935.0  3890.0  3855.0  \n77  3715.0  3645.0  3565.0  \n43  3775.0  3775.0  3730.0  \n55  3660.0  3670.0  3620.0  \n33  3855.0  3945.0  4075.0  \n39  3690.0  3700.0  3805.0  \n70  3490.0  3425.0  3445.0  \n52  3680.0  3650.0  3690.0  \n79  4130.0  3925.0  3715.0  \n24  5085.0  5205.0  5165.0  \n67  3515.0  3545.0  3540.0  \n57  3515.0  3620.0  3660.0  \n20  5330.0  5600.0  5875.0  \n25  4945.0  5085.0  5205.0  \n74  3600.0  3600.0  3645.0  \n18  5875.0  5970.0  6080.0  \n75  3565.0  3600.0  3600.0  \n28  4410.0  4470.0  4800.0  \n37  3805.0  3825.0  3935.0  \n81  4435.0  4240.0  4130.0  \n40  3630.0  3690.0  3700.0  \n73  3600.0  3645.0  3590.0  \n71  3590.0  3490.0  3425.0  \n78  3925.0  3715.0  3645.0  \n46  3575.0  3605.0  3710.0  \n56  3620.0  3660.0  3670.0  \n17  5970.0  6080.0  6115.0  \n16  6080.0  6115.0  6315.0  \n47  3680.0  3575.0  3605.0  \n41  3730.0  3630.0  3690.0  \n23  5205.0  5165.0  5210.0  \n54  3670.0  3620.0  3680.0  \n83  4800.0  4540.0  4435.0  \n80  4240.0  4130.0  3925.0  \n66  3545.0  3540.0  3525.0  \n45  3605.0  3710.0  3775.0  \n34  3890.0  3855.0  3945.0  \n76  3645.0  3565.0  3600.0  \n49  3670.0  3655.0  3680.0  \n30  4190.0  4315.0  4410.0  \n50  3690.0  3670.0  3655.0  \n65  3540.0  3525.0  3510.0  \n15  6115.0  6315.0  6495.0  \n64  3525.0  3510.0  3600.0  \n48  3655.0  3680.0  3575.0  ",
      "text/html": "<div>\n<style scoped>\n    .dataframe tbody tr th:only-of-type {\n        vertical-align: middle;\n    }\n\n    .dataframe tbody tr th {\n        vertical-align: top;\n    }\n\n    .dataframe thead th {\n        text-align: right;\n    }\n</style>\n<table border=\"1\" class=\"dataframe\">\n  <thead>\n    <tr style=\"text-align: right;\">\n      <th></th>\n      <th>lag_1</th>\n      <th>lag_2</th>\n      <th>lag_3</th>\n      <th>lag_4</th>\n      <th>lag_5</th>\n      <th>lag_6</th>\n      <th>lag_7</th>\n      <th>lag_8</th>\n      <th>lag_9</th>\n      <th>lag_10</th>\n      <th>lag_11</th>\n      <th>lag_12</th>\n    </tr>\n  </thead>\n  <tbody>\n    <tr>\n      <th>42</th>\n      <td>3650.0</td>\n      <td>3690.0</td>\n      <td>3670.0</td>\n      <td>3655.0</td>\n      <td>3680.0</td>\n      <td>3575.0</td>\n      <td>3605.0</td>\n      <td>3710.0</td>\n      <td>3775.0</td>\n      <td>3775.0</td>\n      <td>3730.0</td>\n      <td>3630.0</td>\n    </tr>\n    <tr>\n      <th>14</th>\n      <td>5205.0</td>\n      <td>5165.0</td>\n      <td>5210.0</td>\n      <td>5330.0</td>\n      <td>5600.0</td>\n      <td>5875.0</td>\n      <td>5970.0</td>\n      <td>6080.0</td>\n      <td>6115.0</td>\n      <td>6315.0</td>\n      <td>6495.0</td>\n      <td>6625.0</td>\n    </tr>\n    <tr>\n      <th>68</th>\n      <td>3715.0</td>\n      <td>3645.0</td>\n      <td>3565.0</td>\n      <td>3600.0</td>\n      <td>3600.0</td>\n      <td>3645.0</td>\n      <td>3590.0</td>\n      <td>3490.0</td>\n      <td>3425.0</td>\n      <td>3445.0</td>\n      <td>3515.0</td>\n      <td>3545.0</td>\n    </tr>\n    <tr>\n      <th>58</th>\n      <td>3515.0</td>\n      <td>3545.0</td>\n      <td>3540.0</td>\n      <td>3525.0</td>\n      <td>3510.0</td>\n      <td>3600.0</td>\n      <td>3650.0</td>\n      <td>3690.0</td>\n      <td>3600.0</td>\n      <td>3555.0</td>\n      <td>3515.0</td>\n      <td>3620.0</td>\n    </tr>\n    <tr>\n      <th>44</th>\n      <td>3620.0</td>\n      <td>3680.0</td>\n      <td>3650.0</td>\n      <td>3690.0</td>\n      <td>3670.0</td>\n      <td>3655.0</td>\n      <td>3680.0</td>\n      <td>3575.0</td>\n      <td>3605.0</td>\n      <td>3710.0</td>\n      <td>3775.0</td>\n      <td>3775.0</td>\n    </tr>\n    <tr>\n      <th>38</th>\n      <td>3680.0</td>\n      <td>3575.0</td>\n      <td>3605.0</td>\n      <td>3710.0</td>\n      <td>3775.0</td>\n      <td>3775.0</td>\n      <td>3730.0</td>\n      <td>3630.0</td>\n      <td>3690.0</td>\n      <td>3700.0</td>\n      <td>3805.0</td>\n      <td>3825.0</td>\n    </tr>\n    <tr>\n      <th>51</th>\n      <td>3690.0</td>\n      <td>3600.0</td>\n      <td>3555.0</td>\n      <td>3515.0</td>\n      <td>3620.0</td>\n      <td>3660.0</td>\n      <td>3670.0</td>\n      <td>3620.0</td>\n      <td>3680.0</td>\n      <td>3650.0</td>\n      <td>3690.0</td>\n      <td>3670.0</td>\n    </tr>\n    <tr>\n      <th>29</th>\n      <td>3700.0</td>\n      <td>3805.0</td>\n      <td>3825.0</td>\n      <td>3935.0</td>\n      <td>3890.0</td>\n      <td>3855.0</td>\n      <td>3945.0</td>\n      <td>4075.0</td>\n      <td>4190.0</td>\n      <td>4315.0</td>\n      <td>4410.0</td>\n      <td>4470.0</td>\n    </tr>\n    <tr>\n      <th>32</th>\n      <td>3730.0</td>\n      <td>3630.0</td>\n      <td>3690.0</td>\n      <td>3700.0</td>\n      <td>3805.0</td>\n      <td>3825.0</td>\n      <td>3935.0</td>\n      <td>3890.0</td>\n      <td>3855.0</td>\n      <td>3945.0</td>\n      <td>4075.0</td>\n      <td>4190.0</td>\n    </tr>\n    <tr>\n      <th>35</th>\n      <td>3710.0</td>\n      <td>3775.0</td>\n      <td>3775.0</td>\n      <td>3730.0</td>\n      <td>3630.0</td>\n      <td>3690.0</td>\n      <td>3700.0</td>\n      <td>3805.0</td>\n      <td>3825.0</td>\n      <td>3935.0</td>\n      <td>3890.0</td>\n      <td>3855.0</td>\n    </tr>\n    <tr>\n      <th>77</th>\n      <td>5225.0</td>\n      <td>5070.0</td>\n      <td>4945.0</td>\n      <td>4800.0</td>\n      <td>4540.0</td>\n      <td>4435.0</td>\n      <td>4240.0</td>\n      <td>4130.0</td>\n      <td>3925.0</td>\n      <td>3715.0</td>\n      <td>3645.0</td>\n      <td>3565.0</td>\n    </tr>\n    <tr>\n      <th>43</th>\n      <td>3680.0</td>\n      <td>3650.0</td>\n      <td>3690.0</td>\n      <td>3670.0</td>\n      <td>3655.0</td>\n      <td>3680.0</td>\n      <td>3575.0</td>\n      <td>3605.0</td>\n      <td>3710.0</td>\n      <td>3775.0</td>\n      <td>3775.0</td>\n      <td>3730.0</td>\n    </tr>\n    <tr>\n      <th>55</th>\n      <td>3525.0</td>\n      <td>3510.0</td>\n      <td>3600.0</td>\n      <td>3650.0</td>\n      <td>3690.0</td>\n      <td>3600.0</td>\n      <td>3555.0</td>\n      <td>3515.0</td>\n      <td>3620.0</td>\n      <td>3660.0</td>\n      <td>3670.0</td>\n      <td>3620.0</td>\n    </tr>\n    <tr>\n      <th>33</th>\n      <td>3775.0</td>\n      <td>3730.0</td>\n      <td>3630.0</td>\n      <td>3690.0</td>\n      <td>3700.0</td>\n      <td>3805.0</td>\n      <td>3825.0</td>\n      <td>3935.0</td>\n      <td>3890.0</td>\n      <td>3855.0</td>\n      <td>3945.0</td>\n      <td>4075.0</td>\n    </tr>\n    <tr>\n      <th>39</th>\n      <td>3655.0</td>\n      <td>3680.0</td>\n      <td>3575.0</td>\n      <td>3605.0</td>\n      <td>3710.0</td>\n      <td>3775.0</td>\n      <td>3775.0</td>\n      <td>3730.0</td>\n      <td>3630.0</td>\n      <td>3690.0</td>\n      <td>3700.0</td>\n      <td>3805.0</td>\n    </tr>\n    <tr>\n      <th>70</th>\n      <td>4130.0</td>\n      <td>3925.0</td>\n      <td>3715.0</td>\n      <td>3645.0</td>\n      <td>3565.0</td>\n      <td>3600.0</td>\n      <td>3600.0</td>\n      <td>3645.0</td>\n      <td>3590.0</td>\n      <td>3490.0</td>\n      <td>3425.0</td>\n      <td>3445.0</td>\n    </tr>\n    <tr>\n      <th>52</th>\n      <td>3650.0</td>\n      <td>3690.0</td>\n      <td>3600.0</td>\n      <td>3555.0</td>\n      <td>3515.0</td>\n      <td>3620.0</td>\n      <td>3660.0</td>\n      <td>3670.0</td>\n      <td>3620.0</td>\n      <td>3680.0</td>\n      <td>3650.0</td>\n      <td>3690.0</td>\n    </tr>\n    <tr>\n      <th>79</th>\n      <td>5625.0</td>\n      <td>5560.0</td>\n      <td>5225.0</td>\n      <td>5070.0</td>\n      <td>4945.0</td>\n      <td>4800.0</td>\n      <td>4540.0</td>\n      <td>4435.0</td>\n      <td>4240.0</td>\n      <td>4130.0</td>\n      <td>3925.0</td>\n      <td>3715.0</td>\n    </tr>\n    <tr>\n      <th>24</th>\n      <td>3855.0</td>\n      <td>3945.0</td>\n      <td>4075.0</td>\n      <td>4190.0</td>\n      <td>4315.0</td>\n      <td>4410.0</td>\n      <td>4470.0</td>\n      <td>4800.0</td>\n      <td>4945.0</td>\n      <td>5085.0</td>\n      <td>5205.0</td>\n      <td>5165.0</td>\n    </tr>\n    <tr>\n      <th>67</th>\n      <td>3645.0</td>\n      <td>3565.0</td>\n      <td>3600.0</td>\n      <td>3600.0</td>\n      <td>3645.0</td>\n      <td>3590.0</td>\n      <td>3490.0</td>\n      <td>3425.0</td>\n      <td>3445.0</td>\n      <td>3515.0</td>\n      <td>3545.0</td>\n      <td>3540.0</td>\n    </tr>\n    <tr>\n      <th>57</th>\n      <td>3545.0</td>\n      <td>3540.0</td>\n      <td>3525.0</td>\n      <td>3510.0</td>\n      <td>3600.0</td>\n      <td>3650.0</td>\n      <td>3690.0</td>\n      <td>3600.0</td>\n      <td>3555.0</td>\n      <td>3515.0</td>\n      <td>3620.0</td>\n      <td>3660.0</td>\n    </tr>\n    <tr>\n      <th>20</th>\n      <td>4315.0</td>\n      <td>4410.0</td>\n      <td>4470.0</td>\n      <td>4800.0</td>\n      <td>4945.0</td>\n      <td>5085.0</td>\n      <td>5205.0</td>\n      <td>5165.0</td>\n      <td>5210.0</td>\n      <td>5330.0</td>\n      <td>5600.0</td>\n      <td>5875.0</td>\n    </tr>\n    <tr>\n      <th>25</th>\n      <td>3890.0</td>\n      <td>3855.0</td>\n      <td>3945.0</td>\n      <td>4075.0</td>\n      <td>4190.0</td>\n      <td>4315.0</td>\n      <td>4410.0</td>\n      <td>4470.0</td>\n      <td>4800.0</td>\n      <td>4945.0</td>\n      <td>5085.0</td>\n      <td>5205.0</td>\n    </tr>\n    <tr>\n      <th>74</th>\n      <td>4800.0</td>\n      <td>4540.0</td>\n      <td>4435.0</td>\n      <td>4240.0</td>\n      <td>4130.0</td>\n      <td>3925.0</td>\n      <td>3715.0</td>\n      <td>3645.0</td>\n      <td>3565.0</td>\n      <td>3600.0</td>\n      <td>3600.0</td>\n      <td>3645.0</td>\n    </tr>\n    <tr>\n      <th>18</th>\n      <td>4470.0</td>\n      <td>4800.0</td>\n      <td>4945.0</td>\n      <td>5085.0</td>\n      <td>5205.0</td>\n      <td>5165.0</td>\n      <td>5210.0</td>\n      <td>5330.0</td>\n      <td>5600.0</td>\n      <td>5875.0</td>\n      <td>5970.0</td>\n      <td>6080.0</td>\n    </tr>\n    <tr>\n      <th>75</th>\n      <td>4945.0</td>\n      <td>4800.0</td>\n      <td>4540.0</td>\n      <td>4435.0</td>\n      <td>4240.0</td>\n      <td>4130.0</td>\n      <td>3925.0</td>\n      <td>3715.0</td>\n      <td>3645.0</td>\n      <td>3565.0</td>\n      <td>3600.0</td>\n      <td>3600.0</td>\n    </tr>\n    <tr>\n      <th>28</th>\n      <td>3805.0</td>\n      <td>3825.0</td>\n      <td>3935.0</td>\n      <td>3890.0</td>\n      <td>3855.0</td>\n      <td>3945.0</td>\n      <td>4075.0</td>\n      <td>4190.0</td>\n      <td>4315.0</td>\n      <td>4410.0</td>\n      <td>4470.0</td>\n      <td>4800.0</td>\n    </tr>\n    <tr>\n      <th>37</th>\n      <td>3575.0</td>\n      <td>3605.0</td>\n      <td>3710.0</td>\n      <td>3775.0</td>\n      <td>3775.0</td>\n      <td>3730.0</td>\n      <td>3630.0</td>\n      <td>3690.0</td>\n      <td>3700.0</td>\n      <td>3805.0</td>\n      <td>3825.0</td>\n      <td>3935.0</td>\n    </tr>\n    <tr>\n      <th>81</th>\n      <td>5805.0</td>\n      <td>5665.0</td>\n      <td>5625.0</td>\n      <td>5560.0</td>\n      <td>5225.0</td>\n      <td>5070.0</td>\n      <td>4945.0</td>\n      <td>4800.0</td>\n      <td>4540.0</td>\n      <td>4435.0</td>\n      <td>4240.0</td>\n      <td>4130.0</td>\n    </tr>\n    <tr>\n      <th>40</th>\n      <td>3670.0</td>\n      <td>3655.0</td>\n      <td>3680.0</td>\n      <td>3575.0</td>\n      <td>3605.0</td>\n      <td>3710.0</td>\n      <td>3775.0</td>\n      <td>3775.0</td>\n      <td>3730.0</td>\n      <td>3630.0</td>\n      <td>3690.0</td>\n      <td>3700.0</td>\n    </tr>\n    <tr>\n      <th>73</th>\n      <td>4540.0</td>\n      <td>4435.0</td>\n      <td>4240.0</td>\n      <td>4130.0</td>\n      <td>3925.0</td>\n      <td>3715.0</td>\n      <td>3645.0</td>\n      <td>3565.0</td>\n      <td>3600.0</td>\n      <td>3600.0</td>\n      <td>3645.0</td>\n      <td>3590.0</td>\n    </tr>\n    <tr>\n      <th>71</th>\n      <td>4240.0</td>\n      <td>4130.0</td>\n      <td>3925.0</td>\n      <td>3715.0</td>\n      <td>3645.0</td>\n      <td>3565.0</td>\n      <td>3600.0</td>\n      <td>3600.0</td>\n      <td>3645.0</td>\n      <td>3590.0</td>\n      <td>3490.0</td>\n      <td>3425.0</td>\n    </tr>\n    <tr>\n      <th>78</th>\n      <td>5560.0</td>\n      <td>5225.0</td>\n      <td>5070.0</td>\n      <td>4945.0</td>\n      <td>4800.0</td>\n      <td>4540.0</td>\n      <td>4435.0</td>\n      <td>4240.0</td>\n      <td>4130.0</td>\n      <td>3925.0</td>\n      <td>3715.0</td>\n      <td>3645.0</td>\n    </tr>\n    <tr>\n      <th>46</th>\n      <td>3660.0</td>\n      <td>3670.0</td>\n      <td>3620.0</td>\n      <td>3680.0</td>\n      <td>3650.0</td>\n      <td>3690.0</td>\n      <td>3670.0</td>\n      <td>3655.0</td>\n      <td>3680.0</td>\n      <td>3575.0</td>\n      <td>3605.0</td>\n      <td>3710.0</td>\n    </tr>\n    <tr>\n      <th>56</th>\n      <td>3540.0</td>\n      <td>3525.0</td>\n      <td>3510.0</td>\n      <td>3600.0</td>\n      <td>3650.0</td>\n      <td>3690.0</td>\n      <td>3600.0</td>\n      <td>3555.0</td>\n      <td>3515.0</td>\n      <td>3620.0</td>\n      <td>3660.0</td>\n      <td>3670.0</td>\n    </tr>\n    <tr>\n      <th>17</th>\n      <td>4800.0</td>\n      <td>4945.0</td>\n      <td>5085.0</td>\n      <td>5205.0</td>\n      <td>5165.0</td>\n      <td>5210.0</td>\n      <td>5330.0</td>\n      <td>5600.0</td>\n      <td>5875.0</td>\n      <td>5970.0</td>\n      <td>6080.0</td>\n      <td>6115.0</td>\n    </tr>\n    <tr>\n      <th>16</th>\n      <td>4945.0</td>\n      <td>5085.0</td>\n      <td>5205.0</td>\n      <td>5165.0</td>\n      <td>5210.0</td>\n      <td>5330.0</td>\n      <td>5600.0</td>\n      <td>5875.0</td>\n      <td>5970.0</td>\n      <td>6080.0</td>\n      <td>6115.0</td>\n      <td>6315.0</td>\n    </tr>\n    <tr>\n      <th>47</th>\n      <td>3620.0</td>\n      <td>3660.0</td>\n      <td>3670.0</td>\n      <td>3620.0</td>\n      <td>3680.0</td>\n      <td>3650.0</td>\n      <td>3690.0</td>\n      <td>3670.0</td>\n      <td>3655.0</td>\n      <td>3680.0</td>\n      <td>3575.0</td>\n      <td>3605.0</td>\n    </tr>\n    <tr>\n      <th>41</th>\n      <td>3690.0</td>\n      <td>3670.0</td>\n      <td>3655.0</td>\n      <td>3680.0</td>\n      <td>3575.0</td>\n      <td>3605.0</td>\n      <td>3710.0</td>\n      <td>3775.0</td>\n      <td>3775.0</td>\n      <td>3730.0</td>\n      <td>3630.0</td>\n      <td>3690.0</td>\n    </tr>\n    <tr>\n      <th>23</th>\n      <td>3945.0</td>\n      <td>4075.0</td>\n      <td>4190.0</td>\n      <td>4315.0</td>\n      <td>4410.0</td>\n      <td>4470.0</td>\n      <td>4800.0</td>\n      <td>4945.0</td>\n      <td>5085.0</td>\n      <td>5205.0</td>\n      <td>5165.0</td>\n      <td>5210.0</td>\n    </tr>\n    <tr>\n      <th>54</th>\n      <td>3510.0</td>\n      <td>3600.0</td>\n      <td>3650.0</td>\n      <td>3690.0</td>\n      <td>3600.0</td>\n      <td>3555.0</td>\n      <td>3515.0</td>\n      <td>3620.0</td>\n      <td>3660.0</td>\n      <td>3670.0</td>\n      <td>3620.0</td>\n      <td>3680.0</td>\n    </tr>\n    <tr>\n      <th>83</th>\n      <td>6145.0</td>\n      <td>6025.0</td>\n      <td>5805.0</td>\n      <td>5665.0</td>\n      <td>5625.0</td>\n      <td>5560.0</td>\n      <td>5225.0</td>\n      <td>5070.0</td>\n      <td>4945.0</td>\n      <td>4800.0</td>\n      <td>4540.0</td>\n      <td>4435.0</td>\n    </tr>\n    <tr>\n      <th>80</th>\n      <td>5665.0</td>\n      <td>5625.0</td>\n      <td>5560.0</td>\n      <td>5225.0</td>\n      <td>5070.0</td>\n      <td>4945.0</td>\n      <td>4800.0</td>\n      <td>4540.0</td>\n      <td>4435.0</td>\n      <td>4240.0</td>\n      <td>4130.0</td>\n      <td>3925.0</td>\n    </tr>\n    <tr>\n      <th>66</th>\n      <td>3565.0</td>\n      <td>3600.0</td>\n      <td>3600.0</td>\n      <td>3645.0</td>\n      <td>3590.0</td>\n      <td>3490.0</td>\n      <td>3425.0</td>\n      <td>3445.0</td>\n      <td>3515.0</td>\n      <td>3545.0</td>\n      <td>3540.0</td>\n      <td>3525.0</td>\n    </tr>\n    <tr>\n      <th>45</th>\n      <td>3670.0</td>\n      <td>3620.0</td>\n      <td>3680.0</td>\n      <td>3650.0</td>\n      <td>3690.0</td>\n      <td>3670.0</td>\n      <td>3655.0</td>\n      <td>3680.0</td>\n      <td>3575.0</td>\n      <td>3605.0</td>\n      <td>3710.0</td>\n      <td>3775.0</td>\n    </tr>\n    <tr>\n      <th>34</th>\n      <td>3775.0</td>\n      <td>3775.0</td>\n      <td>3730.0</td>\n      <td>3630.0</td>\n      <td>3690.0</td>\n      <td>3700.0</td>\n      <td>3805.0</td>\n      <td>3825.0</td>\n      <td>3935.0</td>\n      <td>3890.0</td>\n      <td>3855.0</td>\n      <td>3945.0</td>\n    </tr>\n    <tr>\n      <th>76</th>\n      <td>5070.0</td>\n      <td>4945.0</td>\n      <td>4800.0</td>\n      <td>4540.0</td>\n      <td>4435.0</td>\n      <td>4240.0</td>\n      <td>4130.0</td>\n      <td>3925.0</td>\n      <td>3715.0</td>\n      <td>3645.0</td>\n      <td>3565.0</td>\n      <td>3600.0</td>\n    </tr>\n    <tr>\n      <th>49</th>\n      <td>3555.0</td>\n      <td>3515.0</td>\n      <td>3620.0</td>\n      <td>3660.0</td>\n      <td>3670.0</td>\n      <td>3620.0</td>\n      <td>3680.0</td>\n      <td>3650.0</td>\n      <td>3690.0</td>\n      <td>3670.0</td>\n      <td>3655.0</td>\n      <td>3680.0</td>\n    </tr>\n    <tr>\n      <th>30</th>\n      <td>3690.0</td>\n      <td>3700.0</td>\n      <td>3805.0</td>\n      <td>3825.0</td>\n      <td>3935.0</td>\n      <td>3890.0</td>\n      <td>3855.0</td>\n      <td>3945.0</td>\n      <td>4075.0</td>\n      <td>4190.0</td>\n      <td>4315.0</td>\n      <td>4410.0</td>\n    </tr>\n    <tr>\n      <th>50</th>\n      <td>3600.0</td>\n      <td>3555.0</td>\n      <td>3515.0</td>\n      <td>3620.0</td>\n      <td>3660.0</td>\n      <td>3670.0</td>\n      <td>3620.0</td>\n      <td>3680.0</td>\n      <td>3650.0</td>\n      <td>3690.0</td>\n      <td>3670.0</td>\n      <td>3655.0</td>\n    </tr>\n    <tr>\n      <th>65</th>\n      <td>3600.0</td>\n      <td>3600.0</td>\n      <td>3645.0</td>\n      <td>3590.0</td>\n      <td>3490.0</td>\n      <td>3425.0</td>\n      <td>3445.0</td>\n      <td>3515.0</td>\n      <td>3545.0</td>\n      <td>3540.0</td>\n      <td>3525.0</td>\n      <td>3510.0</td>\n    </tr>\n    <tr>\n      <th>15</th>\n      <td>5085.0</td>\n      <td>5205.0</td>\n      <td>5165.0</td>\n      <td>5210.0</td>\n      <td>5330.0</td>\n      <td>5600.0</td>\n      <td>5875.0</td>\n      <td>5970.0</td>\n      <td>6080.0</td>\n      <td>6115.0</td>\n      <td>6315.0</td>\n      <td>6495.0</td>\n    </tr>\n    <tr>\n      <th>64</th>\n      <td>3600.0</td>\n      <td>3645.0</td>\n      <td>3590.0</td>\n      <td>3490.0</td>\n      <td>3425.0</td>\n      <td>3445.0</td>\n      <td>3515.0</td>\n      <td>3545.0</td>\n      <td>3540.0</td>\n      <td>3525.0</td>\n      <td>3510.0</td>\n      <td>3600.0</td>\n    </tr>\n    <tr>\n      <th>48</th>\n      <td>3515.0</td>\n      <td>3620.0</td>\n      <td>3660.0</td>\n      <td>3670.0</td>\n      <td>3620.0</td>\n      <td>3680.0</td>\n      <td>3650.0</td>\n      <td>3690.0</td>\n      <td>3670.0</td>\n      <td>3655.0</td>\n      <td>3680.0</td>\n      <td>3575.0</td>\n    </tr>\n  </tbody>\n</table>\n</div>"
     },
     "execution_count": 64,
     "metadata": {},
     "output_type": "execute_result"
    }
   ],
   "source": [
    "x_train"
   ],
   "metadata": {
    "collapsed": false,
    "ExecuteTime": {
     "end_time": "2023-06-19T10:52:12.823345592Z",
     "start_time": "2023-06-19T10:52:12.816092858Z"
    }
   }
  },
  {
   "cell_type": "code",
   "execution_count": 66,
   "outputs": [],
   "source": [
    "xgbModel= xgb.XGBRegressor()\n",
    "xgbModel.fit(x_train.values, y_train.values)\n",
    "xgb_pred = xgbModel.predict(x_test.values)"
   ],
   "metadata": {
    "collapsed": false,
    "ExecuteTime": {
     "end_time": "2023-06-19T10:52:58.658539946Z",
     "start_time": "2023-06-19T10:52:58.575106278Z"
    }
   }
  },
  {
   "cell_type": "code",
   "execution_count": 70,
   "outputs": [],
   "source": [
    "xgb_mape = mean_absolute_percentage_error(y_test.values, xgb_pred)\n",
    "xgb_mae = mean_absolute_error(y_test.values, xgb_pred)"
   ],
   "metadata": {
    "collapsed": false,
    "ExecuteTime": {
     "end_time": "2023-06-19T10:54:36.702767286Z",
     "start_time": "2023-06-19T10:54:36.693612146Z"
    }
   }
  },
  {
   "cell_type": "code",
   "execution_count": 71,
   "outputs": [
    {
     "data": {
      "text/plain": "(0.02393732380055648, 97.1915283203125)"
     },
     "execution_count": 71,
     "metadata": {},
     "output_type": "execute_result"
    }
   ],
   "source": [
    "xgb_mape, xgb_mae"
   ],
   "metadata": {
    "collapsed": false,
    "ExecuteTime": {
     "end_time": "2023-06-19T10:54:51.466410220Z",
     "start_time": "2023-06-19T10:54:51.442697261Z"
    }
   }
  },
  {
   "cell_type": "code",
   "execution_count": null,
   "outputs": [],
   "source": [],
   "metadata": {
    "collapsed": false
   }
  }
 ],
 "metadata": {
  "kernelspec": {
   "display_name": "Python 3",
   "language": "python",
   "name": "python3"
  },
  "language_info": {
   "codemirror_mode": {
    "name": "ipython",
    "version": 2
   },
   "file_extension": ".py",
   "mimetype": "text/x-python",
   "name": "python",
   "nbconvert_exporter": "python",
   "pygments_lexer": "ipython2",
   "version": "2.7.6"
  }
 },
 "nbformat": 4,
 "nbformat_minor": 0
}
