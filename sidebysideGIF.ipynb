{
 "cells": [
  {
   "cell_type": "code",
   "execution_count": 8,
   "metadata": {
    "collapsed": true,
    "ExecuteTime": {
     "end_time": "2023-06-19T13:27:47.597502392Z",
     "start_time": "2023-06-19T13:27:47.535003858Z"
    }
   },
   "outputs": [],
   "source": [
    "import geopandas as gpd\n",
    "import pandas as pd\n",
    "import sqlite3\n",
    "from pathlib import Path\n",
    "import matplotlib.pyplot as plt\n",
    "from PIL import Image\n",
    "import datetime\n",
    "from tqdm.notebook import tqdm"
   ]
  },
  {
   "cell_type": "code",
   "execution_count": 9,
   "outputs": [],
   "source": [
    "def geoPaths()->Path:\n",
    "    cwd = Path.cwd()\n",
    "    dc2 = cwd.parent\n",
    "    return dc2.joinpath(\"data/unzipped/map\")\n"
   ],
   "metadata": {
    "collapsed": false,
    "ExecuteTime": {
     "end_time": "2023-06-19T13:27:48.769941867Z",
     "start_time": "2023-06-19T13:27:48.704661475Z"
    }
   }
  },
  {
   "cell_type": "code",
   "execution_count": 10,
   "outputs": [],
   "source": [
    "mapDir = geoPaths()\n",
    "barnetLSOA = mapDir.joinpath(\"barnet_lsoa.geojson\")\n",
    "barnet_map = gpd.read_file(barnetLSOA)\n",
    "barnet_map= barnet_map[['geometry', 'lsoa11cd']]\n",
    "barnet_map.rename(columns={'lsoa11cd': 'LSOA code'}, inplace=True)"
   ],
   "metadata": {
    "collapsed": false,
    "ExecuteTime": {
     "end_time": "2023-06-19T13:27:49.715150681Z",
     "start_time": "2023-06-19T13:27:49.710597213Z"
    }
   }
  },
  {
   "cell_type": "code",
   "execution_count": 11,
   "outputs": [],
   "source": [
    "cwd = Path.cwd()\n",
    "dc2 = cwd.parent\n",
    "preDF = pd.read_csv(dc2.joinpath(\"data/predicted_df.csv\"))\n",
    "preDF.drop(columns=[\"Unnamed: 0\"], inplace=True)\n"
   ],
   "metadata": {
    "collapsed": false,
    "ExecuteTime": {
     "end_time": "2023-06-19T13:27:50.172756278Z",
     "start_time": "2023-06-19T13:27:49.713664448Z"
    }
   }
  },
  {
   "cell_type": "code",
   "execution_count": 12,
   "outputs": [],
   "source": [
    "preDF = preDF.sort_values(\"Month\")"
   ],
   "metadata": {
    "collapsed": false,
    "ExecuteTime": {
     "end_time": "2023-06-19T13:27:50.632482881Z",
     "start_time": "2023-06-19T13:27:50.174565993Z"
    }
   }
  },
  {
   "cell_type": "code",
   "execution_count": null,
   "outputs": [],
   "source": [
    "month_dictionary = {\n",
    "    1: \"January\",\n",
    "    2: \"February\",\n",
    "    3: \"March\",\n",
    "    4: \"April\",\n",
    "    5: \"May\",\n",
    "    6: \"June\",\n",
    "    7: \"July\",\n",
    "    8: \"August\",\n",
    "    9: \"September\",\n",
    "    10: \"October\",\n",
    "    11: \"November\",\n",
    "    12: \"December\"\n",
    "}\n",
    "cwd = Path.cwd()\n",
    "dc2 = cwd.parent\n",
    "predSide = dc2.joinpath(\"data/img/predSide\")\n",
    "frames = []\n",
    "for month in preDF[\"Month\"].unique():\n",
    "    fig, (ax1, ax2) = plt.subplots(nrows=1, ncols=2, figsize=(20,10))\n",
    "\n",
    "    filtered = preDF[preDF[\"Month\"]==month]\n",
    "    merged = pd.merge(barnet_map, filtered, on=[\"LSOA code\"])\n",
    "    # merged.plot(column=\"Prediction\", cmap=\"RdBu_r\", edgecolors=\"black\", vmin=0, vmax=15, legend=True, norm=plt.Normalize(vmin=0, vmax=15), ax=ax1)\n",
    "    merged.plot(column=\"Prediction\", cmap=\"RdBu_r\", edgecolors=\"black\", vmin=0, vmax=10, legend=True, ax=ax1)\n",
    "    ax1.set_title(f\"Predicted Burglaries: {month_dictionary[pd.to_datetime(month).month]} {pd.to_datetime(month).year} \", fontsize=20)\n",
    "\n",
    "    merged.plot(column=\"Total Burglaries\", cmap=\"RdBu_r\", edgecolors=\"black\", vmin=0, vmax=10, legend=True, ax= ax2)\n",
    "    # merged.plot(column=\"Total Burglaries\", cmap=\"RdBu_r\", edgecolors=\"black\", vmin=0, vmax=15, legend=True, norm=plt.Normalize(vmin=0, vmax=15), ax= ax2)\n",
    "\n",
    "    ax1.axis(\"off\")\n",
    "    ax2.set_title(f\"Realized Burglaries: {month_dictionary[pd.to_datetime(month).month]} {pd.to_datetime(month).year}\", fontsize=20)\n",
    "    ax2.axis(\"off\")\n",
    "    chart = fig.get_figure()\n",
    "    frames.append(predSide.joinpath(f\"{month}.png\"))\n",
    "    chart.savefig(predSide.joinpath(f\"{month}\"))\n",
    "\n"
   ],
   "metadata": {
    "collapsed": false,
    "is_executing": true,
    "ExecuteTime": {
     "start_time": "2023-06-19T13:27:50.636294835Z"
    }
   }
  },
  {
   "cell_type": "code",
   "execution_count": null,
   "outputs": [],
   "source": [
    "fs = []\n",
    "for file in frames:\n",
    "    image = Image.open(file)\n",
    "    fs.append(image)\n",
    "fs[0].save(predSide.joinpath(\"sideGif.gif\"), format=\"GIF\", append_images=fs[1:], save_all=True, duration=2000, loop=0)"
   ],
   "metadata": {
    "collapsed": false,
    "is_executing": true
   }
  },
  {
   "cell_type": "code",
   "execution_count": 7,
   "outputs": [],
   "source": [],
   "metadata": {
    "collapsed": false,
    "ExecuteTime": {
     "end_time": "2023-06-19T13:22:36.490469303Z",
     "start_time": "2023-06-19T13:22:36.489073505Z"
    }
   }
  },
  {
   "cell_type": "code",
   "execution_count": 7,
   "outputs": [],
   "source": [],
   "metadata": {
    "collapsed": false,
    "ExecuteTime": {
     "end_time": "2023-06-19T13:22:36.493337560Z",
     "start_time": "2023-06-19T13:22:36.491585964Z"
    }
   }
  },
  {
   "cell_type": "code",
   "execution_count": null,
   "outputs": [],
   "source": [],
   "metadata": {
    "collapsed": false
   }
  }
 ],
 "metadata": {
  "kernelspec": {
   "display_name": "Python 3",
   "language": "python",
   "name": "python3"
  },
  "language_info": {
   "codemirror_mode": {
    "name": "ipython",
    "version": 2
   },
   "file_extension": ".py",
   "mimetype": "text/x-python",
   "name": "python",
   "nbconvert_exporter": "python",
   "pygments_lexer": "ipython2",
   "version": "2.7.6"
  }
 },
 "nbformat": 4,
 "nbformat_minor": 0
}
