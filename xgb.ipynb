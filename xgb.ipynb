{
 "cells": [
  {
   "cell_type": "code",
   "execution_count": null,
   "outputs": [],
   "source": [],
   "metadata": {
    "collapsed": false
   }
  },
  {
   "cell_type": "code",
   "execution_count": 17,
   "metadata": {
    "collapsed": true,
    "ExecuteTime": {
     "end_time": "2023-05-26T06:53:23.802868980Z",
     "start_time": "2023-05-26T06:53:23.759131717Z"
    }
   },
   "outputs": [],
   "source": [
    "import burglaries_per_month_by_lsoa\n",
    "import xgboost as xgb\n",
    "import pandas as pd\n",
    "from sklearn.metrics import mean_squared_error\n",
    "import numpy as np\n",
    "from sklearn.model_selection import train_test_split\n",
    "from tqdm.notebook import tqdm"
   ]
  },
  {
   "cell_type": "code",
   "execution_count": 18,
   "outputs": [
    {
     "name": "stderr",
     "output_type": "stream",
     "text": [
      "100%|██████████| 211/211 [00:01<00:00, 158.33it/s]\n"
     ]
    }
   ],
   "source": [
    "data = burglaries_per_month_by_lsoa.main()"
   ],
   "metadata": {
    "collapsed": false,
    "ExecuteTime": {
     "end_time": "2023-05-26T06:53:28.356091872Z",
     "start_time": "2023-05-26T06:53:24.100159756Z"
    }
   }
  },
  {
   "cell_type": "code",
   "execution_count": 20,
   "outputs": [
    {
     "data": {
      "text/plain": "  0%|          | 0/211 [00:00<?, ?it/s]",
      "application/vnd.jupyter.widget-view+json": {
       "version_major": 2,
       "version_minor": 0,
       "model_id": "aacba1dc9de84d519f4fae2437c3a682"
      }
     },
     "metadata": {},
     "output_type": "display_data"
    }
   ],
   "source": [
    "mseDct = {}\n",
    "importanceDF = pd.DataFrame()\n",
    "\n",
    "for key in tqdm(data.keys()):\n",
    "    burglaries, unemployement = data[key]\n",
    "    burglaries = burglaries.reset_index()\n",
    "    burglaries = burglaries.rename(columns={0:\"BPM\"})\n",
    "    burglaries = burglaries.set_index(\"date\")\n",
    "    burglaries = burglaries.join(unemployement, how=\"inner\")\n",
    "    burglaries.sort_index(inplace=True)\n",
    "    burglaries[\"PCT_value\"] = burglaries[\"value\"].pct_change()\n",
    "    burglaries[\"lag1_pct\"] = burglaries[\"PCT_value\"].shift(1)\n",
    "    burglaries[\"lag2_pct\"] = burglaries[\"PCT_value\"].shift(2)\n",
    "    burglaries[\"lag3_pct\"] = burglaries[\"PCT_value\"].shift(3)\n",
    "    burglaries[\"lag4_pct\"] = burglaries[\"PCT_value\"].shift(4)\n",
    "    burglaries[\"lag5_pct\"] = burglaries[\"PCT_value\"].shift(5)\n",
    "    burglaries[\"lag6_pct\"] = burglaries[\"PCT_value\"].shift(6)\n",
    "    burglaries = burglaries[burglaries.index<\"2020\"]\n",
    "    burglaries = burglaries.fillna(0)\n",
    "    burglaries.replace([np.inf, -np.inf], 0, inplace=True)\n",
    "\n",
    "    X_train, X_test, y_train, y_test = train_test_split(burglaries[[\"PCT_value\", \"lag1_pct\",\"lag2_pct\",\"lag3_pct\", \"lag4_pct\", \"lag5_pct\", \"lag6_pct\"]].copy(), burglaries[\"BPM\"].copy(), test_size=0.1)\n",
    "    model = xgb.XGBRegressor(booster = \"gblinear\")\n",
    "    model.fit(X_train, y_train)\n",
    "    predictions = model.predict(X_test)\n",
    "    mseDct[key] = mean_squared_error(y_test, predictions)\n",
    "    importance_scores = model.coef_\n",
    "    importance_dict = dict(zip(X_train.columns,importance_scores))\n"
   ],
   "metadata": {
    "collapsed": false,
    "ExecuteTime": {
     "end_time": "2023-05-26T06:55:20.074647704Z",
     "start_time": "2023-05-26T06:55:15.238821638Z"
    }
   }
  },
  {
   "cell_type": "code",
   "execution_count": 12,
   "outputs": [
    {
     "ename": "TypeError",
     "evalue": "'dict_keys' object is not an iterator",
     "output_type": "error",
     "traceback": [
      "\u001B[0;31m---------------------------------------------------------------------------\u001B[0m",
      "\u001B[0;31mTypeError\u001B[0m                                 Traceback (most recent call last)",
      "Cell \u001B[0;32mIn[12], line 1\u001B[0m\n\u001B[0;32m----> 1\u001B[0m \u001B[38;5;28;43mnext\u001B[39;49m\u001B[43m(\u001B[49m\u001B[43mdata\u001B[49m\u001B[38;5;241;43m.\u001B[39;49m\u001B[43mkeys\u001B[49m\u001B[43m(\u001B[49m\u001B[43m)\u001B[49m\u001B[43m)\u001B[49m\n",
      "\u001B[0;31mTypeError\u001B[0m: 'dict_keys' object is not an iterator"
     ]
    }
   ],
   "source": [
    "for key in data.keys():\n",
    "    a, b = data[key]\n",
    "    break\n"
   ],
   "metadata": {
    "collapsed": false,
    "ExecuteTime": {
     "end_time": "2023-05-26T06:31:53.344267891Z",
     "start_time": "2023-05-26T06:31:53.277921718Z"
    }
   }
  },
  {
   "cell_type": "code",
   "execution_count": 24,
   "outputs": [
    {
     "data": {
      "text/plain": "dict"
     },
     "execution_count": 24,
     "metadata": {},
     "output_type": "execute_result"
    }
   ],
   "source": [
    "import matplotlib.pyplot as plt\n",
    "\n",
    "type(importance_dict)"
   ],
   "metadata": {
    "collapsed": false,
    "ExecuteTime": {
     "end_time": "2023-05-26T06:59:45.882801120Z",
     "start_time": "2023-05-26T06:59:45.838891659Z"
    }
   }
  },
  {
   "cell_type": "code",
   "execution_count": null,
   "outputs": [],
   "source": [
    "df = pd.DataFrame(columns=)\n",
    "for code in importance_dict:\n",
    "    for key in importance_dict.keys():\n"
   ],
   "metadata": {
    "collapsed": false
   }
  }
 ],
 "metadata": {
  "kernelspec": {
   "display_name": "Python 3",
   "language": "python",
   "name": "python3"
  },
  "language_info": {
   "codemirror_mode": {
    "name": "ipython",
    "version": 2
   },
   "file_extension": ".py",
   "mimetype": "text/x-python",
   "name": "python",
   "nbconvert_exporter": "python",
   "pygments_lexer": "ipython2",
   "version": "2.7.6"
  }
 },
 "nbformat": 4,
 "nbformat_minor": 0
}
