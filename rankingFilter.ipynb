{
 "cells": [
  {
   "cell_type": "code",
   "execution_count": 25,
   "outputs": [],
   "source": [
    "from barnetLSOA import barnet_LSOA_series\n",
    "import pandas as pd\n",
    "import numpy as np\n",
    "import sqlite3\n",
    "from imd2SQL import dbPath"
   ],
   "metadata": {
    "collapsed": false,
    "ExecuteTime": {
     "start_time": "2023-05-11T16:56:47.614414Z",
     "end_time": "2023-05-11T16:56:47.618170Z"
    }
   }
  },
  {
   "cell_type": "code",
   "execution_count": 29,
   "outputs": [],
   "source": [
    "db = sqlite3.connect(dbPath())\n",
    "barnet_LSOA_ser = barnet_LSOA_series()"
   ],
   "metadata": {
    "collapsed": false,
    "ExecuteTime": {
     "start_time": "2023-05-11T16:59:02.610757Z",
     "end_time": "2023-05-11T16:59:22.934451Z"
    }
   }
  },
  {
   "cell_type": "code",
   "execution_count": 30,
   "outputs": [],
   "source": [
    "barnet_LSOA_np = barnet_LSOA_ser.to_numpy()"
   ],
   "metadata": {
    "collapsed": false,
    "ExecuteTime": {
     "start_time": "2023-05-11T16:59:22.936046Z",
     "end_time": "2023-05-11T16:59:22.976515Z"
    }
   }
  },
  {
   "cell_type": "code",
   "execution_count": 33,
   "outputs": [
    {
     "data": {
      "text/plain": "array(['E01000027', 'E01000028', 'E01000029', ..., 'E01016602',\n       'E01016619', 'E01010425'], dtype=object)"
     },
     "execution_count": 33,
     "metadata": {},
     "output_type": "execute_result"
    }
   ],
   "source": [
    "barnet_LSOA_np"
   ],
   "metadata": {
    "collapsed": false,
    "ExecuteTime": {
     "start_time": "2023-05-11T16:59:55.331102Z",
     "end_time": "2023-05-11T16:59:55.358579Z"
    }
   }
  },
  {
   "cell_type": "code",
   "execution_count": 34,
   "outputs": [
    {
     "data": {
      "text/plain": "12705"
     },
     "execution_count": 34,
     "metadata": {},
     "output_type": "execute_result"
    }
   ],
   "source": [
    "len(np.unique(barnet_LSOA_np))"
   ],
   "metadata": {
    "collapsed": false,
    "ExecuteTime": {
     "start_time": "2023-05-11T17:00:06.347154Z",
     "end_time": "2023-05-11T17:00:06.422374Z"
    }
   }
  },
  {
   "cell_type": "code",
   "execution_count": 41,
   "outputs": [],
   "source": [
    "def get_ranking_IMD_by_LSOA(year: int):\n",
    "    db = sqlite3.connect(dbPath())\n",
    "    if year == 2015:\n",
    "        query = \"\"\"\n",
    "        SELECT *\n",
    "        FROM IOD_feature_code_rank_15\n",
    "        \"\"\"\n",
    "    elif year == 2019:\n",
    "        query = \"\"\"\n",
    "        SELECT *\n",
    "        FROM IOD_feature_code_rank_19\n",
    "        \"\"\"\n",
    "    else:\n",
    "        print(\"INPUT YEAR INVALID\")\n",
    "        return 0\n",
    "    df = pd.read_sql(query, db)\n",
    "    return df.set_index(\"LSOA Code\")\n",
    "\n",
    "\n"
   ],
   "metadata": {
    "collapsed": false,
    "ExecuteTime": {
     "start_time": "2023-05-11T17:10:17.362176Z",
     "end_time": "2023-05-11T17:10:17.408921Z"
    }
   }
  },
  {
   "cell_type": "code",
   "execution_count": 42,
   "outputs": [],
   "source": [
    "test15 = get_ranking_IMD_by_LSOA(2015)"
   ],
   "metadata": {
    "collapsed": false,
    "ExecuteTime": {
     "start_time": "2023-05-11T17:10:17.558950Z",
     "end_time": "2023-05-11T17:10:17.693132Z"
    }
   }
  },
  {
   "cell_type": "code",
   "execution_count": 44,
   "outputs": [
    {
     "data": {
      "text/plain": "           a. Index of Multiple Deprivation (IMD)  \\\nLSOA Code                                           \nE01019971                                 17481.0   \nE01030884                                 23766.0   \nE01019850                                 29045.0   \nE01019763                                 16486.0   \nE01016305                                 22538.0   \n...                                           ...   \nE01029070                                 19280.0   \nE01029535                                 10100.0   \nE01029289                                 16535.0   \nE01013427                                 32604.0   \nE01022711                                 10927.0   \n\n           b. Income Deprivation Domain  c. Employment Deprivation Domain  \\\nLSOA Code                                                                   \nE01019971                       17859.0                           20236.0   \nE01030884                       16516.0                           19904.0   \nE01019850                       26780.0                           27503.0   \nE01019763                       14382.0                           12459.0   \nE01016305                       20565.0                           26477.0   \n...                                 ...                               ...   \nE01029070                       17469.0                           18979.0   \nE01029535                        8511.0                            7539.0   \nE01029289                       18318.0                           13640.0   \nE01013427                       31922.0                           31204.0   \nE01022711                        9674.0                           10273.0   \n\n           d. Education, Skills and Training Domain  \\\nLSOA Code                                             \nE01019971                                   15297.0   \nE01030884                                   18390.0   \nE01019850                                   21320.0   \nE01019763                                   18837.0   \nE01016305                                   19037.0   \n...                                             ...   \nE01029070                                   15028.0   \nE01029535                                    6564.0   \nE01029289                                   24776.0   \nE01013427                                   32335.0   \nE01022711                                    4484.0   \n\n           e. Health Deprivation and Disability Domain  f. Crime Domain  \\\nLSOA Code                                                                 \nE01019971                                      20968.0           9994.0   \nE01030884                                      25609.0          26897.0   \nE01019850                                      25434.0          30669.0   \nE01019763                                      18217.0          17655.0   \nE01016305                                      29127.0          11116.0   \n...                                                ...              ...   \nE01029070                                      20257.0          19246.0   \nE01029535                                       5777.0          26423.0   \nE01029289                                      15250.0           9506.0   \nE01013427                                      30593.0          32370.0   \nE01022711                                      13253.0          11760.0   \n\n           g. Barriers to Housing and Services Domain  \\\nLSOA Code                                               \nE01019971                                     11262.0   \nE01030884                                     24525.0   \nE01019850                                     22429.0   \nE01019763                                     22339.0   \nE01016305                                      9858.0   \n...                                               ...   \nE01029070                                     27332.0   \nE01029535                                     29432.0   \nE01029289                                     26252.0   \nE01013427                                     19702.0   \nE01022711                                     23004.0   \n\n           h. Living Environment Deprivation Domain  \\\nLSOA Code                                             \nE01019971                                   11522.0   \nE01030884                                   23020.0   \nE01019850                                   19235.0   \nE01019763                                    9406.0   \nE01016305                                   19513.0   \n...                                             ...   \nE01029070                                    7784.0   \nE01029535                                   16986.0   \nE01029289                                    5852.0   \nE01013427                                   28758.0   \nE01022711                                   17879.0   \n\n           i. Income Deprivation Affecting Children Index (IDACI)  \\\nLSOA Code                                                           \nE01019971                                            11014.0        \nE01030884                                            10303.0        \nE01019850                                            20576.0        \nE01019763                                            16838.0        \nE01016305                                            19073.0        \n...                                                      ...        \nE01029070                                            17641.0        \nE01029535                                            11063.0        \nE01029289                                            22331.0        \nE01013427                                            29925.0        \nE01022711                                            14028.0        \n\n           j. Income Deprivation Affecting Older People Index (IDAOPI)  \nLSOA Code                                                               \nE01019971                                            16495.0            \nE01030884                                            28125.0            \nE01019850                                            29875.0            \nE01019763                                            14306.0            \nE01016305                                            16999.0            \n...                                                      ...            \nE01029070                                            19184.0            \nE01029535                                             8118.0            \nE01029289                                            18125.0            \nE01013427                                            32564.0            \nE01022711                                             8950.0            \n\n[12466 rows x 10 columns]",
      "text/html": "<div>\n<style scoped>\n    .dataframe tbody tr th:only-of-type {\n        vertical-align: middle;\n    }\n\n    .dataframe tbody tr th {\n        vertical-align: top;\n    }\n\n    .dataframe thead th {\n        text-align: right;\n    }\n</style>\n<table border=\"1\" class=\"dataframe\">\n  <thead>\n    <tr style=\"text-align: right;\">\n      <th></th>\n      <th>a. Index of Multiple Deprivation (IMD)</th>\n      <th>b. Income Deprivation Domain</th>\n      <th>c. Employment Deprivation Domain</th>\n      <th>d. Education, Skills and Training Domain</th>\n      <th>e. Health Deprivation and Disability Domain</th>\n      <th>f. Crime Domain</th>\n      <th>g. Barriers to Housing and Services Domain</th>\n      <th>h. Living Environment Deprivation Domain</th>\n      <th>i. Income Deprivation Affecting Children Index (IDACI)</th>\n      <th>j. Income Deprivation Affecting Older People Index (IDAOPI)</th>\n    </tr>\n    <tr>\n      <th>LSOA Code</th>\n      <th></th>\n      <th></th>\n      <th></th>\n      <th></th>\n      <th></th>\n      <th></th>\n      <th></th>\n      <th></th>\n      <th></th>\n      <th></th>\n    </tr>\n  </thead>\n  <tbody>\n    <tr>\n      <th>E01019971</th>\n      <td>17481.0</td>\n      <td>17859.0</td>\n      <td>20236.0</td>\n      <td>15297.0</td>\n      <td>20968.0</td>\n      <td>9994.0</td>\n      <td>11262.0</td>\n      <td>11522.0</td>\n      <td>11014.0</td>\n      <td>16495.0</td>\n    </tr>\n    <tr>\n      <th>E01030884</th>\n      <td>23766.0</td>\n      <td>16516.0</td>\n      <td>19904.0</td>\n      <td>18390.0</td>\n      <td>25609.0</td>\n      <td>26897.0</td>\n      <td>24525.0</td>\n      <td>23020.0</td>\n      <td>10303.0</td>\n      <td>28125.0</td>\n    </tr>\n    <tr>\n      <th>E01019850</th>\n      <td>29045.0</td>\n      <td>26780.0</td>\n      <td>27503.0</td>\n      <td>21320.0</td>\n      <td>25434.0</td>\n      <td>30669.0</td>\n      <td>22429.0</td>\n      <td>19235.0</td>\n      <td>20576.0</td>\n      <td>29875.0</td>\n    </tr>\n    <tr>\n      <th>E01019763</th>\n      <td>16486.0</td>\n      <td>14382.0</td>\n      <td>12459.0</td>\n      <td>18837.0</td>\n      <td>18217.0</td>\n      <td>17655.0</td>\n      <td>22339.0</td>\n      <td>9406.0</td>\n      <td>16838.0</td>\n      <td>14306.0</td>\n    </tr>\n    <tr>\n      <th>E01016305</th>\n      <td>22538.0</td>\n      <td>20565.0</td>\n      <td>26477.0</td>\n      <td>19037.0</td>\n      <td>29127.0</td>\n      <td>11116.0</td>\n      <td>9858.0</td>\n      <td>19513.0</td>\n      <td>19073.0</td>\n      <td>16999.0</td>\n    </tr>\n    <tr>\n      <th>...</th>\n      <td>...</td>\n      <td>...</td>\n      <td>...</td>\n      <td>...</td>\n      <td>...</td>\n      <td>...</td>\n      <td>...</td>\n      <td>...</td>\n      <td>...</td>\n      <td>...</td>\n    </tr>\n    <tr>\n      <th>E01029070</th>\n      <td>19280.0</td>\n      <td>17469.0</td>\n      <td>18979.0</td>\n      <td>15028.0</td>\n      <td>20257.0</td>\n      <td>19246.0</td>\n      <td>27332.0</td>\n      <td>7784.0</td>\n      <td>17641.0</td>\n      <td>19184.0</td>\n    </tr>\n    <tr>\n      <th>E01029535</th>\n      <td>10100.0</td>\n      <td>8511.0</td>\n      <td>7539.0</td>\n      <td>6564.0</td>\n      <td>5777.0</td>\n      <td>26423.0</td>\n      <td>29432.0</td>\n      <td>16986.0</td>\n      <td>11063.0</td>\n      <td>8118.0</td>\n    </tr>\n    <tr>\n      <th>E01029289</th>\n      <td>16535.0</td>\n      <td>18318.0</td>\n      <td>13640.0</td>\n      <td>24776.0</td>\n      <td>15250.0</td>\n      <td>9506.0</td>\n      <td>26252.0</td>\n      <td>5852.0</td>\n      <td>22331.0</td>\n      <td>18125.0</td>\n    </tr>\n    <tr>\n      <th>E01013427</th>\n      <td>32604.0</td>\n      <td>31922.0</td>\n      <td>31204.0</td>\n      <td>32335.0</td>\n      <td>30593.0</td>\n      <td>32370.0</td>\n      <td>19702.0</td>\n      <td>28758.0</td>\n      <td>29925.0</td>\n      <td>32564.0</td>\n    </tr>\n    <tr>\n      <th>E01022711</th>\n      <td>10927.0</td>\n      <td>9674.0</td>\n      <td>10273.0</td>\n      <td>4484.0</td>\n      <td>13253.0</td>\n      <td>11760.0</td>\n      <td>23004.0</td>\n      <td>17879.0</td>\n      <td>14028.0</td>\n      <td>8950.0</td>\n    </tr>\n  </tbody>\n</table>\n<p>12466 rows × 10 columns</p>\n</div>"
     },
     "execution_count": 44,
     "metadata": {},
     "output_type": "execute_result"
    }
   ],
   "source": [
    "test15[test15.index.isin((barnet_LSOA_np))]"
   ],
   "metadata": {
    "collapsed": false,
    "ExecuteTime": {
     "start_time": "2023-05-11T17:12:43.325962Z",
     "end_time": "2023-05-11T17:12:43.370267Z"
    }
   }
  },
  {
   "cell_type": "code",
   "execution_count": null,
   "outputs": [],
   "source": [],
   "metadata": {
    "collapsed": false
   }
  }
 ],
 "metadata": {
  "kernelspec": {
   "display_name": "Python 3",
   "language": "python",
   "name": "python3"
  },
  "language_info": {
   "codemirror_mode": {
    "name": "ipython",
    "version": 2
   },
   "file_extension": ".py",
   "mimetype": "text/x-python",
   "name": "python",
   "nbconvert_exporter": "python",
   "pygments_lexer": "ipython2",
   "version": "2.7.6"
  }
 },
 "nbformat": 4,
 "nbformat_minor": 0
}
