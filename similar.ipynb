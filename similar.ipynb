{
 "cells": [
  {
   "cell_type": "code",
   "execution_count": 2,
   "metadata": {
    "collapsed": true,
    "ExecuteTime": {
     "end_time": "2023-05-15T14:31:33.554119589Z",
     "start_time": "2023-05-15T14:31:33.442352310Z"
    }
   },
   "outputs": [],
   "source": [
    "from pathlib import Path\n",
    "from typing import Set, Generator\n",
    "from barnetLSOA import barnetLsoaPath\n",
    "import pandas as pd\n",
    "import sqlite3\n",
    "from imd2SQL import dbPath\n",
    "import matplotlib.pyplot as plt\n",
    "import seaborn as sns\n",
    "\n",
    "def crime_uk_per_month_dir() -> Path:\n",
    "    cwd = Path.cwd()\n",
    "    dc2 = cwd.parent\n",
    "    crimeCSV = dc2.joinpath(\"data/unzipped/crimeCSV\")\n",
    "    return crimeCSV\n",
    "\n",
    "\n",
    "def listFilesInDirectory(directory: Path) -> Generator:\n",
    "    return directory.glob(\"*\")\n",
    "\n",
    "\n",
    "def loadBarnetLSOA():\n",
    "    col = pd.read_csv(barnetLsoaPath())[\"LSOA code\"]\n",
    "    return col\n",
    "\n",
    "\n",
    "def get_ranking_IMD_by_LSOA(year: int):\n",
    "    db = sqlite3.connect(dbPath())\n",
    "    if year == 2015:\n",
    "        query = \"\"\"\n",
    "        SELECT *\n",
    "        FROM IOD_feature_code_rank_15\n",
    "        \"\"\"\n",
    "    elif year == 2019:\n",
    "        query = \"\"\"\n",
    "        SELECT \"a. Index of Multiple Deprivation (IMD)\",\"LSOA Code\"\n",
    "        FROM IOD_feature_code_rank_19\n",
    "        \"\"\"\n",
    "    else:\n",
    "        print(\"INPUT YEAR INVALID\")\n",
    "        return 0\n",
    "    df = pd.read_sql(query, db)\n",
    "    return df #.set_index(\"LSOA Code\")\n"
   ]
  },
  {
   "cell_type": "code",
   "execution_count": 3,
   "outputs": [
    {
     "name": "stdout",
     "output_type": "stream",
     "text": [
      "   LSOA Code  a. Index of Multiple Deprivation (IMD)  \\\n",
      "0  E01019971                                 17481.0   \n",
      "1  E01019963                                 31036.0   \n",
      "2  E01019980                                 11206.0   \n",
      "3  E01019950                                 15251.0   \n",
      "4  E01019952                                 26866.0   \n",
      "\n",
      "   b. Income Deprivation Domain  c. Employment Deprivation Domain  \\\n",
      "0                       17859.0                           20236.0   \n",
      "1                       26560.0                           27472.0   \n",
      "2                        9710.0                           12528.0   \n",
      "3                       11198.0                            8864.0   \n",
      "4                       22222.0                           21059.0   \n",
      "\n",
      "   d. Education, Skills and Training Domain  \\\n",
      "0                                   15297.0   \n",
      "1                                   29016.0   \n",
      "2                                    8304.0   \n",
      "3                                   12141.0   \n",
      "4                                   18422.0   \n",
      "\n",
      "   e. Health Deprivation and Disability Domain  f. Crime Domain  \\\n",
      "0                                      20968.0           9994.0   \n",
      "1                                      30491.0          32148.0   \n",
      "2                                      16456.0          18822.0   \n",
      "3                                      12999.0          27231.0   \n",
      "4                                      25884.0          30795.0   \n",
      "\n",
      "   g. Barriers to Housing and Services Domain  \\\n",
      "0                                     11262.0   \n",
      "1                                     32154.0   \n",
      "2                                      6895.0   \n",
      "3                                     31488.0   \n",
      "4                                     22907.0   \n",
      "\n",
      "   h. Living Environment Deprivation Domain  \\\n",
      "0                                   11522.0   \n",
      "1                                   15609.0   \n",
      "2                                    9037.0   \n",
      "3                                   27015.0   \n",
      "4                                   29054.0   \n",
      "\n",
      "   i. Income Deprivation Affecting Children Index (IDACI)  \\\n",
      "0                                            11014.0        \n",
      "1                                            30137.0        \n",
      "2                                             8499.0        \n",
      "3                                            12195.0        \n",
      "4                                            22996.0        \n",
      "\n",
      "   j. Income Deprivation Affecting Older People Index (IDAOPI)  \n",
      "0                                            16495.0            \n",
      "1                                            21937.0            \n",
      "2                                             8110.0            \n",
      "3                                            14057.0            \n",
      "4                                            23655.0            \n",
      "<class 'pandas.core.frame.DataFrame'>\n",
      "RangeIndex: 32844 entries, 0 to 32843\n",
      "Data columns (total 11 columns):\n",
      " #   Column                                                       Non-Null Count  Dtype  \n",
      "---  ------                                                       --------------  -----  \n",
      " 0   LSOA Code                                                    32844 non-null  object \n",
      " 1   a. Index of Multiple Deprivation (IMD)                       32844 non-null  float64\n",
      " 2   b. Income Deprivation Domain                                 32844 non-null  float64\n",
      " 3   c. Employment Deprivation Domain                             32844 non-null  float64\n",
      " 4   d. Education, Skills and Training Domain                     32844 non-null  float64\n",
      " 5   e. Health Deprivation and Disability Domain                  32844 non-null  float64\n",
      " 6   f. Crime Domain                                              32844 non-null  float64\n",
      " 7   g. Barriers to Housing and Services Domain                   32844 non-null  float64\n",
      " 8   h. Living Environment Deprivation Domain                     32844 non-null  float64\n",
      " 9   i. Income Deprivation Affecting Children Index (IDACI)       32844 non-null  float64\n",
      " 10  j. Income Deprivation Affecting Older People Index (IDAOPI)  32844 non-null  float64\n",
      "dtypes: float64(10), object(1)\n",
      "memory usage: 2.8+ MB\n",
      "17\n",
      "<class 'pandas.core.frame.DataFrame'>\n",
      "Int64Index: 211 entries, 5235 to 21622\n",
      "Data columns (total 11 columns):\n",
      " #   Column                                                       Non-Null Count  Dtype  \n",
      "---  ------                                                       --------------  -----  \n",
      " 0   LSOA Code                                                    211 non-null    object \n",
      " 1   a. Index of Multiple Deprivation (IMD)                       211 non-null    float64\n",
      " 2   b. Income Deprivation Domain                                 211 non-null    float64\n",
      " 3   c. Employment Deprivation Domain                             211 non-null    float64\n",
      " 4   d. Education, Skills and Training Domain                     211 non-null    float64\n",
      " 5   e. Health Deprivation and Disability Domain                  211 non-null    float64\n",
      " 6   f. Crime Domain                                              211 non-null    float64\n",
      " 7   g. Barriers to Housing and Services Domain                   211 non-null    float64\n",
      " 8   h. Living Environment Deprivation Domain                     211 non-null    float64\n",
      " 9   i. Income Deprivation Affecting Children Index (IDACI)       211 non-null    float64\n",
      " 10  j. Income Deprivation Affecting Older People Index (IDAOPI)  211 non-null    float64\n",
      "dtypes: float64(10), object(1)\n",
      "memory usage: 19.8+ KB\n",
      "None\n",
      "       a. Index of Multiple Deprivation (IMD)  b. Income Deprivation Domain  \\\n",
      "count                              211.000000                    211.000000   \n",
      "mean                             17796.028436                  16534.962085   \n",
      "std                               7171.427636                   7836.793416   \n",
      "min                               2575.000000                   1651.000000   \n",
      "25%                              12801.000000                  10813.000000   \n",
      "50%                              18782.000000                  16954.000000   \n",
      "75%                              23298.500000                  21628.000000   \n",
      "max                              31888.000000                  32554.000000   \n",
      "\n",
      "       c. Employment Deprivation Domain  \\\n",
      "count                        211.000000   \n",
      "mean                       19847.345972   \n",
      "std                         7902.876868   \n",
      "min                         3906.000000   \n",
      "25%                        14034.500000   \n",
      "50%                        20955.000000   \n",
      "75%                        26143.000000   \n",
      "max                        32703.000000   \n",
      "\n",
      "       d. Education, Skills and Training Domain  \\\n",
      "count                                211.000000   \n",
      "mean                               24548.037915   \n",
      "std                                 6914.060621   \n",
      "min                                 7323.000000   \n",
      "25%                                20393.500000   \n",
      "50%                                26945.000000   \n",
      "75%                                30242.500000   \n",
      "max                                32734.000000   \n",
      "\n",
      "       e. Health Deprivation and Disability Domain  f. Crime Domain  \\\n",
      "count                                   211.000000       211.000000   \n",
      "mean                                  24490.758294     11206.516588   \n",
      "std                                    6554.921744      5987.271456   \n",
      "min                                    6000.000000       193.000000   \n",
      "25%                                   19073.000000      6903.500000   \n",
      "50%                                   26611.000000     10847.000000   \n",
      "75%                                   29923.000000     15386.000000   \n",
      "max                                   32766.000000     27836.000000   \n",
      "\n",
      "       g. Barriers to Housing and Services Domain  \\\n",
      "count                                  211.000000   \n",
      "mean                                  7697.037915   \n",
      "std                                   4738.171875   \n",
      "min                                      9.000000   \n",
      "25%                                   3875.000000   \n",
      "50%                                   7538.000000   \n",
      "75%                                  10652.000000   \n",
      "max                                  19860.000000   \n",
      "\n",
      "       h. Living Environment Deprivation Domain  \\\n",
      "count                                211.000000   \n",
      "mean                               13187.208531   \n",
      "std                                 5174.720650   \n",
      "min                                  519.000000   \n",
      "25%                                 9606.500000   \n",
      "50%                                13040.000000   \n",
      "75%                                16306.500000   \n",
      "max                                25610.000000   \n",
      "\n",
      "       i. Income Deprivation Affecting Children Index (IDACI)  \\\n",
      "count                                         211.000000        \n",
      "mean                                        16970.947867        \n",
      "std                                          8556.801179        \n",
      "min                                          1504.000000        \n",
      "25%                                          9805.500000        \n",
      "50%                                         17124.000000        \n",
      "75%                                         23981.500000        \n",
      "max                                         32486.000000        \n",
      "\n",
      "       j. Income Deprivation Affecting Older People Index (IDAOPI)  \n",
      "count                                         211.000000            \n",
      "mean                                        14702.322275            \n",
      "std                                          7939.445370            \n",
      "min                                           724.000000            \n",
      "25%                                          8733.500000            \n",
      "50%                                         13592.000000            \n",
      "75%                                         19831.000000            \n",
      "max                                         32592.000000            \n"
     ]
    }
   ],
   "source": [
    "\n",
    "# THIS CODE DOESNT WORK, check the filtering that is done, if that isnt the problem, take a look at the LSOA codes\n",
    "lsoaSet = loadBarnetLSOA()\n",
    "big_imd_by_lsoa_15 = get_ranking_IMD_by_LSOA(2015)\n",
    "print(big_imd_by_lsoa_15.head())\n",
    "# imd_by_lsoa_15 = big_imd_by_lsoa_15[\"a. Index of Multiple Deprivation (IMD)\"]\n",
    "print(len(f\"len before: {big_imd_by_lsoa_15.info()})\"))\n",
    "barnetIMD = big_imd_by_lsoa_15.loc[big_imd_by_lsoa_15[\"LSOA Code\"].isin(lsoaSet)]\n",
    "print(barnetIMD.info())\n",
    "print(barnetIMD.describe())\n",
    "\n"
   ],
   "metadata": {
    "collapsed": false,
    "ExecuteTime": {
     "end_time": "2023-05-15T14:31:33.721048854Z",
     "start_time": "2023-05-15T14:31:33.488660242Z"
    }
   }
  },
  {
   "cell_type": "code",
   "execution_count": 4,
   "outputs": [
    {
     "data": {
      "text/plain": "<Figure size 640x480 with 1 Axes>",
      "image/png": "[encoded data removed]"
     },
     "metadata": {},
     "output_type": "display_data"
    }
   ],
   "source": [
    "sns.histplot(barnetIMD.reset_index(drop=True)[\"f. Crime Domain\"], kde=True);"
   ],
   "metadata": {
    "collapsed": false,
    "ExecuteTime": {
     "end_time": "2023-05-15T14:31:34.231934936Z",
     "start_time": "2023-05-15T14:31:33.666518940Z"
    }
   }
  },
  {
   "cell_type": "code",
   "execution_count": 5,
   "outputs": [],
   "source": [
    "mean = barnetIMD[\"f. Crime Domain\"].mean()"
   ],
   "metadata": {
    "collapsed": false,
    "ExecuteTime": {
     "end_time": "2023-05-15T14:31:34.264597639Z",
     "start_time": "2023-05-15T14:31:34.231550129Z"
    }
   }
  },
  {
   "cell_type": "code",
   "execution_count": 6,
   "outputs": [],
   "source": [
    "std = barnetIMD[\"f. Crime Domain\"].std()"
   ],
   "metadata": {
    "collapsed": false,
    "ExecuteTime": {
     "end_time": "2023-05-15T14:31:34.265222270Z",
     "start_time": "2023-05-15T14:31:34.243348775Z"
    }
   }
  },
  {
   "cell_type": "code",
   "execution_count": 11,
   "outputs": [
    {
     "data": {
      "text/plain": "range(5219, 17194)"
     },
     "execution_count": 11,
     "metadata": {},
     "output_type": "execute_result"
    }
   ],
   "source": [
    "lower = round(mean - std)\n",
    "upper = round(mean + std)\n",
    "tup = (lower, upper)\n",
    "range(tup[0], tup[1])"
   ],
   "metadata": {
    "collapsed": false,
    "ExecuteTime": {
     "end_time": "2023-05-15T14:39:44.517131356Z",
     "start_time": "2023-05-15T14:39:44.510302861Z"
    }
   }
  },
  {
   "cell_type": "code",
   "execution_count": 8,
   "outputs": [],
   "source": [
    "filtered = big_imd_by_lsoa_15[big_imd_by_lsoa_15[\"f. Crime Domain\"].isin(range(lower,upper))]"
   ],
   "metadata": {
    "collapsed": false,
    "ExecuteTime": {
     "end_time": "2023-05-15T14:31:34.474602417Z",
     "start_time": "2023-05-15T14:31:34.265537118Z"
    }
   }
  },
  {
   "cell_type": "code",
   "execution_count": 9,
   "outputs": [
    {
     "data": {
      "text/plain": "    LSOA Code  a. Index of Multiple Deprivation (IMD)  \\\n0   E01019971                                 17481.0   \n5   E01019982                                 14042.0   \n10  E01019863                                  4756.0   \n29  E01016305                                 22538.0   \n41  E01014732                                 13495.0   \n\n    b. Income Deprivation Domain  c. Employment Deprivation Domain  \\\n0                        17859.0                           20236.0   \n5                        12911.0                           15250.0   \n10                        4585.0                            2699.0   \n29                       20565.0                           26477.0   \n41                       16312.0                           13564.0   \n\n    d. Education, Skills and Training Domain  \\\n0                                    15297.0   \n5                                    13930.0   \n10                                    3456.0   \n29                                   19037.0   \n41                                   19893.0   \n\n    e. Health Deprivation and Disability Domain  f. Crime Domain  \\\n0                                       20968.0           9994.0   \n5                                       20207.0          15178.0   \n10                                       4133.0           9744.0   \n29                                      29127.0          11116.0   \n41                                      13705.0          11411.0   \n\n    g. Barriers to Housing and Services Domain  \\\n0                                      11262.0   \n5                                       7022.0   \n10                                     23326.0   \n29                                      9858.0   \n41                                     21376.0   \n\n    h. Living Environment Deprivation Domain  \\\n0                                    11522.0   \n5                                     9038.0   \n10                                   19971.0   \n29                                   19513.0   \n41                                    1968.0   \n\n    i. Income Deprivation Affecting Children Index (IDACI)  \\\n0                                             11014.0        \n5                                              8615.0        \n10                                             6111.0        \n29                                            19073.0        \n41                                            20114.0        \n\n    j. Income Deprivation Affecting Older People Index (IDAOPI)  \n0                                             16495.0            \n5                                             19957.0            \n10                                             8962.0            \n29                                            16999.0            \n41                                            13561.0            ",
      "text/html": "<div>\n<style scoped>\n    .dataframe tbody tr th:only-of-type {\n        vertical-align: middle;\n    }\n\n    .dataframe tbody tr th {\n        vertical-align: top;\n    }\n\n    .dataframe thead th {\n        text-align: right;\n    }\n</style>\n<table border=\"1\" class=\"dataframe\">\n  <thead>\n    <tr style=\"text-align: right;\">\n      <th></th>\n      <th>LSOA Code</th>\n      <th>a. Index of Multiple Deprivation (IMD)</th>\n      <th>b. Income Deprivation Domain</th>\n      <th>c. Employment Deprivation Domain</th>\n      <th>d. Education, Skills and Training Domain</th>\n      <th>e. Health Deprivation and Disability Domain</th>\n      <th>f. Crime Domain</th>\n      <th>g. Barriers to Housing and Services Domain</th>\n      <th>h. Living Environment Deprivation Domain</th>\n      <th>i. Income Deprivation Affecting Children Index (IDACI)</th>\n      <th>j. Income Deprivation Affecting Older People Index (IDAOPI)</th>\n    </tr>\n  </thead>\n  <tbody>\n    <tr>\n      <th>0</th>\n      <td>E01019971</td>\n      <td>17481.0</td>\n      <td>17859.0</td>\n      <td>20236.0</td>\n      <td>15297.0</td>\n      <td>20968.0</td>\n      <td>9994.0</td>\n      <td>11262.0</td>\n      <td>11522.0</td>\n      <td>11014.0</td>\n      <td>16495.0</td>\n    </tr>\n    <tr>\n      <th>5</th>\n      <td>E01019982</td>\n      <td>14042.0</td>\n      <td>12911.0</td>\n      <td>15250.0</td>\n      <td>13930.0</td>\n      <td>20207.0</td>\n      <td>15178.0</td>\n      <td>7022.0</td>\n      <td>9038.0</td>\n      <td>8615.0</td>\n      <td>19957.0</td>\n    </tr>\n    <tr>\n      <th>10</th>\n      <td>E01019863</td>\n      <td>4756.0</td>\n      <td>4585.0</td>\n      <td>2699.0</td>\n      <td>3456.0</td>\n      <td>4133.0</td>\n      <td>9744.0</td>\n      <td>23326.0</td>\n      <td>19971.0</td>\n      <td>6111.0</td>\n      <td>8962.0</td>\n    </tr>\n    <tr>\n      <th>29</th>\n      <td>E01016305</td>\n      <td>22538.0</td>\n      <td>20565.0</td>\n      <td>26477.0</td>\n      <td>19037.0</td>\n      <td>29127.0</td>\n      <td>11116.0</td>\n      <td>9858.0</td>\n      <td>19513.0</td>\n      <td>19073.0</td>\n      <td>16999.0</td>\n    </tr>\n    <tr>\n      <th>41</th>\n      <td>E01014732</td>\n      <td>13495.0</td>\n      <td>16312.0</td>\n      <td>13564.0</td>\n      <td>19893.0</td>\n      <td>13705.0</td>\n      <td>11411.0</td>\n      <td>21376.0</td>\n      <td>1968.0</td>\n      <td>20114.0</td>\n      <td>13561.0</td>\n    </tr>\n  </tbody>\n</table>\n</div>"
     },
     "execution_count": 9,
     "metadata": {},
     "output_type": "execute_result"
    }
   ],
   "source": [
    "filtered.head()"
   ],
   "metadata": {
    "collapsed": false,
    "ExecuteTime": {
     "end_time": "2023-05-15T14:31:34.553756972Z",
     "start_time": "2023-05-15T14:31:34.291283439Z"
    }
   }
  },
  {
   "cell_type": "code",
   "execution_count": 13,
   "outputs": [
    {
     "data": {
      "text/plain": "0        E01019971\n5        E01019982\n10       E01019863\n29       E01016305\n41       E01014732\n           ...    \n32839    E01029799\n32840    E01013422\n32841    E01013427\n32842    E01013389\n32843    E01022711\nName: LSOA Code, Length: 44819, dtype: object"
     },
     "execution_count": 13,
     "metadata": {},
     "output_type": "execute_result"
    }
   ],
   "source": [
    "pd.concat([filtered[\"LSOA Code\"],big_imd_by_lsoa_15[\"LSOA Code\"]])"
   ],
   "metadata": {
    "collapsed": false,
    "ExecuteTime": {
     "end_time": "2023-05-15T14:43:17.361873762Z",
     "start_time": "2023-05-15T14:43:17.357161139Z"
    }
   }
  },
  {
   "cell_type": "code",
   "execution_count": null,
   "outputs": [],
   "source": [],
   "metadata": {
    "collapsed": false
   }
  }
 ],
 "metadata": {
  "kernelspec": {
   "display_name": "Python 3",
   "language": "python",
   "name": "python3"
  },
  "language_info": {
   "codemirror_mode": {
    "name": "ipython",
    "version": 2
   },
   "file_extension": ".py",
   "mimetype": "text/x-python",
   "name": "python",
   "nbconvert_exporter": "python",
   "pygments_lexer": "ipython2",
   "version": "2.7.6"
  }
 },
 "nbformat": 4,
 "nbformat_minor": 0
}
