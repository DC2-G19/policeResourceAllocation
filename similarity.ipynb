{
 "cells": [
  {
   "cell_type": "code",
   "execution_count": 34,
   "metadata": {
    "collapsed": true,
    "ExecuteTime": {
     "start_time": "2023-05-11T13:19:16.852987Z",
     "end_time": "2023-05-11T13:19:16.895892Z"
    }
   },
   "outputs": [],
   "source": [
    "from crime_by_lsoa import imagePath, imd2015DF, imd2019DF, burglaryDF\n",
    "import matplotlib.pyplot as plt\n",
    "import pandas as pd\n",
    "import numpy as np\n",
    "from sklearn.preprocessing import MinMaxScaler"
   ]
  },
  {
   "cell_type": "code",
   "execution_count": 35,
   "outputs": [],
   "source": [
    "imd15 = imd2015DF()\n",
    "burglary = burglaryDF()\n",
    "burglary = burglary.groupby(\"LSOA code\").count()"
   ],
   "metadata": {
    "collapsed": false,
    "ExecuteTime": {
     "start_time": "2023-05-11T13:19:16.895884Z",
     "end_time": "2023-05-11T13:19:22.592149Z"
    }
   }
  },
  {
   "cell_type": "code",
   "execution_count": 36,
   "outputs": [],
   "source": [
    "def scaling(imd: pd.DataFrame) -> pd.DataFrame:\n",
    "    lsoa = imd[\"LSOA Code\"].copy()\n",
    "    del imd[\"LSOA Code\"]\n",
    "    scaler = MinMaxScaler()\n",
    "    scaled = scaler.fit_transform(imd15)\n",
    "    scaledDF = pd.DataFrame(scaled, columns=imd15.columns)\n",
    "    scaledDF[\"LSOA Code\"] = lsoa\n",
    "    scaledDF.set_index(\"LSOA Code\", inplace=True)\n",
    "    return scaledDF"
   ],
   "metadata": {
    "collapsed": false,
    "ExecuteTime": {
     "start_time": "2023-05-11T13:19:22.594715Z",
     "end_time": "2023-05-11T13:19:22.635866Z"
    }
   }
  },
  {
   "cell_type": "code",
   "execution_count": 37,
   "outputs": [],
   "source": [
    "scaledDF = scaling(imd15)"
   ],
   "metadata": {
    "collapsed": false,
    "ExecuteTime": {
     "start_time": "2023-05-11T13:19:22.635978Z",
     "end_time": "2023-05-11T13:19:22.636134Z"
    }
   }
  },
  {
   "cell_type": "code",
   "execution_count": 38,
   "outputs": [],
   "source": [
    "mergeScaled15 = pd.merge(burglary, scaledDF, left_index=True, right_index=True)\n"
   ],
   "metadata": {
    "collapsed": false,
    "ExecuteTime": {
     "start_time": "2023-05-11T13:19:22.636109Z",
     "end_time": "2023-05-11T13:19:22.636267Z"
    }
   }
  },
  {
   "cell_type": "code",
   "execution_count": 39,
   "outputs": [
    {
     "data": {
      "text/plain": "           Crime ID  Month  Reported by  Falls within  Longitude  Latitude  \\\nE01000001        11     11           11            11         11        11   \nE01000002         7      7            7             7          7         7   \nE01000003         1      1            1             1          1         1   \nE01000005        39     39           39            39         39        39   \nE01000006        98    112          112           112        112       112   \n...             ...    ...          ...           ...        ...       ...   \nE01033744       138    146          146           146        146       146   \nE01033745       112    123          123           123        123       123   \nE01033746       132    165          165           165        165       165   \nE01033753         1      1            1             1          1         1   \nE01033756         1      1            1             1          1         1   \n\n           Location  LSOA name  Crime type  Last outcome category  ...  \\\nE01000001        11         11          11                     11  ...   \nE01000002         7          7           7                      7  ...   \nE01000003         1          1           1                      1  ...   \nE01000005        39         39          39                     39  ...   \nE01000006       112        112         112                     95  ...   \n...             ...        ...         ...                    ...  ...   \nE01033744       146        146         146                    132  ...   \nE01033745       123        123         123                    107  ...   \nE01033746       165        165         165                    129  ...   \nE01033753         1          1           1                      1  ...   \nE01033756         1          1           1                      1  ...   \n\n           a. Index of Multiple Deprivation (IMD)  \\\nE01000001                                0.060636   \nE01000002                                0.062720   \nE01000003                                0.207014   \nE01000005                                0.277105   \nE01000006                                0.239796   \n...                                           ...   \nE01033744                                0.329751   \nE01033745                                0.242803   \nE01033746                                0.236800   \nE01033753                                0.162629   \nE01033756                                0.240209   \n\n           b. Income Deprivation Domain  c. Employment Deprivation Domain  \\\nE01000001                      0.009464                          0.020797   \nE01000002                      0.011041                          0.024263   \nE01000003                      0.157729                          0.147314   \nE01000005                      0.334385                          0.244367   \nE01000006                      0.201893                          0.157712   \n...                                 ...                               ...   \nE01033744                      0.328076                          0.254766   \nE01033745                      0.312303                          0.199307   \nE01033746                      0.217666                          0.159445   \nE01033753                      0.029968                          0.027730   \nE01033756                      0.055205                          0.062392   \n\n           d. Education, Skills and Training Domain  \\\nE01000001                                  0.000151   \nE01000002                                  0.000342   \nE01000003                                  0.096547   \nE01000005                                  0.151152   \nE01000006                                  0.145925   \n...                                             ...   \nE01033744                                  0.248362   \nE01033745                                  0.087330   \nE01033746                                  0.038675   \nE01033753                                  0.078275   \nE01033756                                  0.080164   \n\n           e. Health Deprivation and Disability Domain  f. Crime Domain  \\\nE01000001                                     0.207897         0.242620   \nE01000002                                     0.205982         0.236009   \nE01000003                                     0.537793         0.344403   \nE01000005                                     0.497864         0.368389   \nE01000006                                     0.433034         0.610855   \n...                                                ...              ...   \nE01033744                                     0.649477         0.534594   \nE01033745                                     0.475320         0.522601   \nE01033746                                     0.499779         0.637915   \nE01033753                                     0.601739         0.283672   \nE01033756                                     0.584205         0.747232   \n\n           g. Barriers to Housing and Services Domain  \\\nE01000001                                    0.370008   \nE01000002                                    0.359253   \nE01000003                                    0.435527   \nE01000005                                    0.480477   \nE01000006                                    0.544693   \n...                                               ...   \nE01033744                                    0.427766   \nE01033745                                    0.550432   \nE01033746                                    0.249837   \nE01033753                                    0.437745   \nE01033756                                    0.396856   \n\n           h. Living Environment Deprivation Domain  \\\nE01000001                                  0.368569   \nE01000002                                  0.396509   \nE01000003                                  0.517012   \nE01000005                                  0.371884   \nE01000006                                  0.325383   \n...                                             ...   \nE01033744                                  0.215899   \nE01033745                                  0.115632   \nE01033746                                  0.580777   \nE01033753                                  0.563739   \nE01033756                                  0.554082   \n\n           i. Income Deprivation Affecting Children Index (IDACI)  \\\nE01000001                                           0.003289        \nE01000002                                           0.002193        \nE01000003                                           0.165570        \nE01000005                                           0.299342        \nE01000006                                           0.166667        \n...                                                      ...        \nE01033744                                           0.268640        \nE01033745                                           0.263158        \nE01033746                                           0.165570        \nE01033753                                           0.059211        \nE01033756                                           0.051535        \n\n           j. Income Deprivation Affecting Older People Index (IDAOPI)  \nE01000001                                           0.012333            \nE01000002                                           0.023638            \nE01000003                                           0.157246            \nE01000005                                           0.399794            \nE01000006                                           0.208633            \n...                                                      ...            \nE01033744                                           0.419322            \nE01033745                                           0.286742            \nE01033746                                           0.268243            \nE01033753                                           0.266187            \nE01033756                                           0.096608            \n\n[5053 rows x 21 columns]",
      "text/html": "<div>\n<style scoped>\n    .dataframe tbody tr th:only-of-type {\n        vertical-align: middle;\n    }\n\n    .dataframe tbody tr th {\n        vertical-align: top;\n    }\n\n    .dataframe thead th {\n        text-align: right;\n    }\n</style>\n<table border=\"1\" class=\"dataframe\">\n  <thead>\n    <tr style=\"text-align: right;\">\n      <th></th>\n      <th>Crime ID</th>\n      <th>Month</th>\n      <th>Reported by</th>\n      <th>Falls within</th>\n      <th>Longitude</th>\n      <th>Latitude</th>\n      <th>Location</th>\n      <th>LSOA name</th>\n      <th>Crime type</th>\n      <th>Last outcome category</th>\n      <th>...</th>\n      <th>a. Index of Multiple Deprivation (IMD)</th>\n      <th>b. Income Deprivation Domain</th>\n      <th>c. Employment Deprivation Domain</th>\n      <th>d. Education, Skills and Training Domain</th>\n      <th>e. Health Deprivation and Disability Domain</th>\n      <th>f. Crime Domain</th>\n      <th>g. Barriers to Housing and Services Domain</th>\n      <th>h. Living Environment Deprivation Domain</th>\n      <th>i. Income Deprivation Affecting Children Index (IDACI)</th>\n      <th>j. Income Deprivation Affecting Older People Index (IDAOPI)</th>\n    </tr>\n  </thead>\n  <tbody>\n    <tr>\n      <th>E01000001</th>\n      <td>11</td>\n      <td>11</td>\n      <td>11</td>\n      <td>11</td>\n      <td>11</td>\n      <td>11</td>\n      <td>11</td>\n      <td>11</td>\n      <td>11</td>\n      <td>11</td>\n      <td>...</td>\n      <td>0.060636</td>\n      <td>0.009464</td>\n      <td>0.020797</td>\n      <td>0.000151</td>\n      <td>0.207897</td>\n      <td>0.242620</td>\n      <td>0.370008</td>\n      <td>0.368569</td>\n      <td>0.003289</td>\n      <td>0.012333</td>\n    </tr>\n    <tr>\n      <th>E01000002</th>\n      <td>7</td>\n      <td>7</td>\n      <td>7</td>\n      <td>7</td>\n      <td>7</td>\n      <td>7</td>\n      <td>7</td>\n      <td>7</td>\n      <td>7</td>\n      <td>7</td>\n      <td>...</td>\n      <td>0.062720</td>\n      <td>0.011041</td>\n      <td>0.024263</td>\n      <td>0.000342</td>\n      <td>0.205982</td>\n      <td>0.236009</td>\n      <td>0.359253</td>\n      <td>0.396509</td>\n      <td>0.002193</td>\n      <td>0.023638</td>\n    </tr>\n    <tr>\n      <th>E01000003</th>\n      <td>1</td>\n      <td>1</td>\n      <td>1</td>\n      <td>1</td>\n      <td>1</td>\n      <td>1</td>\n      <td>1</td>\n      <td>1</td>\n      <td>1</td>\n      <td>1</td>\n      <td>...</td>\n      <td>0.207014</td>\n      <td>0.157729</td>\n      <td>0.147314</td>\n      <td>0.096547</td>\n      <td>0.537793</td>\n      <td>0.344403</td>\n      <td>0.435527</td>\n      <td>0.517012</td>\n      <td>0.165570</td>\n      <td>0.157246</td>\n    </tr>\n    <tr>\n      <th>E01000005</th>\n      <td>39</td>\n      <td>39</td>\n      <td>39</td>\n      <td>39</td>\n      <td>39</td>\n      <td>39</td>\n      <td>39</td>\n      <td>39</td>\n      <td>39</td>\n      <td>39</td>\n      <td>...</td>\n      <td>0.277105</td>\n      <td>0.334385</td>\n      <td>0.244367</td>\n      <td>0.151152</td>\n      <td>0.497864</td>\n      <td>0.368389</td>\n      <td>0.480477</td>\n      <td>0.371884</td>\n      <td>0.299342</td>\n      <td>0.399794</td>\n    </tr>\n    <tr>\n      <th>E01000006</th>\n      <td>98</td>\n      <td>112</td>\n      <td>112</td>\n      <td>112</td>\n      <td>112</td>\n      <td>112</td>\n      <td>112</td>\n      <td>112</td>\n      <td>112</td>\n      <td>95</td>\n      <td>...</td>\n      <td>0.239796</td>\n      <td>0.201893</td>\n      <td>0.157712</td>\n      <td>0.145925</td>\n      <td>0.433034</td>\n      <td>0.610855</td>\n      <td>0.544693</td>\n      <td>0.325383</td>\n      <td>0.166667</td>\n      <td>0.208633</td>\n    </tr>\n    <tr>\n      <th>...</th>\n      <td>...</td>\n      <td>...</td>\n      <td>...</td>\n      <td>...</td>\n      <td>...</td>\n      <td>...</td>\n      <td>...</td>\n      <td>...</td>\n      <td>...</td>\n      <td>...</td>\n      <td>...</td>\n      <td>...</td>\n      <td>...</td>\n      <td>...</td>\n      <td>...</td>\n      <td>...</td>\n      <td>...</td>\n      <td>...</td>\n      <td>...</td>\n      <td>...</td>\n      <td>...</td>\n    </tr>\n    <tr>\n      <th>E01033744</th>\n      <td>138</td>\n      <td>146</td>\n      <td>146</td>\n      <td>146</td>\n      <td>146</td>\n      <td>146</td>\n      <td>146</td>\n      <td>146</td>\n      <td>146</td>\n      <td>132</td>\n      <td>...</td>\n      <td>0.329751</td>\n      <td>0.328076</td>\n      <td>0.254766</td>\n      <td>0.248362</td>\n      <td>0.649477</td>\n      <td>0.534594</td>\n      <td>0.427766</td>\n      <td>0.215899</td>\n      <td>0.268640</td>\n      <td>0.419322</td>\n    </tr>\n    <tr>\n      <th>E01033745</th>\n      <td>112</td>\n      <td>123</td>\n      <td>123</td>\n      <td>123</td>\n      <td>123</td>\n      <td>123</td>\n      <td>123</td>\n      <td>123</td>\n      <td>123</td>\n      <td>107</td>\n      <td>...</td>\n      <td>0.242803</td>\n      <td>0.312303</td>\n      <td>0.199307</td>\n      <td>0.087330</td>\n      <td>0.475320</td>\n      <td>0.522601</td>\n      <td>0.550432</td>\n      <td>0.115632</td>\n      <td>0.263158</td>\n      <td>0.286742</td>\n    </tr>\n    <tr>\n      <th>E01033746</th>\n      <td>132</td>\n      <td>165</td>\n      <td>165</td>\n      <td>165</td>\n      <td>165</td>\n      <td>165</td>\n      <td>165</td>\n      <td>165</td>\n      <td>165</td>\n      <td>129</td>\n      <td>...</td>\n      <td>0.236800</td>\n      <td>0.217666</td>\n      <td>0.159445</td>\n      <td>0.038675</td>\n      <td>0.499779</td>\n      <td>0.637915</td>\n      <td>0.249837</td>\n      <td>0.580777</td>\n      <td>0.165570</td>\n      <td>0.268243</td>\n    </tr>\n    <tr>\n      <th>E01033753</th>\n      <td>1</td>\n      <td>1</td>\n      <td>1</td>\n      <td>1</td>\n      <td>1</td>\n      <td>1</td>\n      <td>1</td>\n      <td>1</td>\n      <td>1</td>\n      <td>1</td>\n      <td>...</td>\n      <td>0.162629</td>\n      <td>0.029968</td>\n      <td>0.027730</td>\n      <td>0.078275</td>\n      <td>0.601739</td>\n      <td>0.283672</td>\n      <td>0.437745</td>\n      <td>0.563739</td>\n      <td>0.059211</td>\n      <td>0.266187</td>\n    </tr>\n    <tr>\n      <th>E01033756</th>\n      <td>1</td>\n      <td>1</td>\n      <td>1</td>\n      <td>1</td>\n      <td>1</td>\n      <td>1</td>\n      <td>1</td>\n      <td>1</td>\n      <td>1</td>\n      <td>1</td>\n      <td>...</td>\n      <td>0.240209</td>\n      <td>0.055205</td>\n      <td>0.062392</td>\n      <td>0.080164</td>\n      <td>0.584205</td>\n      <td>0.747232</td>\n      <td>0.396856</td>\n      <td>0.554082</td>\n      <td>0.051535</td>\n      <td>0.096608</td>\n    </tr>\n  </tbody>\n</table>\n<p>5053 rows × 21 columns</p>\n</div>"
     },
     "execution_count": 39,
     "metadata": {},
     "output_type": "execute_result"
    }
   ],
   "source": [
    "mergeScaled15"
   ],
   "metadata": {
    "collapsed": false,
    "ExecuteTime": {
     "start_time": "2023-05-11T13:19:22.679848Z",
     "end_time": "2023-05-11T13:19:22.680407Z"
    }
   }
  }
 ],
 "metadata": {
  "kernelspec": {
   "display_name": "Python 3",
   "language": "python",
   "name": "python3"
  },
  "language_info": {
   "codemirror_mode": {
    "name": "ipython",
    "version": 2
   },
   "file_extension": ".py",
   "mimetype": "text/x-python",
   "name": "python",
   "nbconvert_exporter": "python",
   "pygments_lexer": "ipython2",
   "version": "2.7.6"
  }
 },
 "nbformat": 4,
 "nbformat_minor": 0
}
